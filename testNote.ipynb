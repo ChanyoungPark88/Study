{
 "cells": [
  {
   "cell_type": "markdown",
   "metadata": {},
   "source": [
    "## **Bubble Sort**\n",
    "### Solution\n",
    "- Time Complexity: \n",
    "- Space Complexity: "
   ]
  },
  {
   "cell_type": "code",
   "execution_count": null,
   "metadata": {},
   "outputs": [],
   "source": [
    "def bubbleSort(arr):\n",
    "    pass\n",
    "arr = [7, 5, 9, 0, 3, 1, 6, 2, 4, 8]\n",
    "bubbleSort(arr)"
   ]
  },
  {
   "cell_type": "markdown",
   "metadata": {},
   "source": [
    "## **Selection Sort**\n",
    "### Solution\n",
    "- Time Complexity: \n",
    "- Space Complexity: "
   ]
  },
  {
   "cell_type": "code",
   "execution_count": null,
   "metadata": {},
   "outputs": [],
   "source": [
    "def selectionSort(arr):\n",
    "    pass\n",
    "arr = [7, 5, 9, 0, 3, 1, 6, 2, 4, 8]\n",
    "selectionSort(arr)"
   ]
  },
  {
   "cell_type": "markdown",
   "metadata": {},
   "source": [
    "## **Insertion Sort**\n",
    "### Solution\n",
    "- Time Complexity: \n",
    "- Space Complexity: "
   ]
  },
  {
   "cell_type": "code",
   "execution_count": null,
   "metadata": {},
   "outputs": [],
   "source": [
    "def insertionSort(arr):\n",
    "    pass\n",
    "arr = [7, 5, 9, 0, 3, 1, 6, 2, 4, 8]\n",
    "insertionSort(arr)"
   ]
  },
  {
   "cell_type": "markdown",
   "metadata": {},
   "source": [
    "## **Quick Sort**\n",
    "### Solution\n",
    "- Time Complexity: \n",
    "- Space Complexity: "
   ]
  },
  {
   "cell_type": "code",
   "execution_count": null,
   "metadata": {},
   "outputs": [],
   "source": [
    "def quickSort(arr):\n",
    "    pass\n",
    "arr = [7, 5, 9, 0, 3, 1, 6, 2, 4, 8]\n",
    "quickSort(arr)"
   ]
  },
  {
   "cell_type": "markdown",
   "metadata": {},
   "source": [
    "## **Counting Sort**\n",
    "### Solution\n",
    "- Time Complexity: O(N+K)\\\n",
    "- Space Complexity: O(N+K)"
   ]
  },
  {
   "cell_type": "code",
   "execution_count": null,
   "metadata": {},
   "outputs": [],
   "source": [
    "def countingSort(arr):\n",
    "    pass\n",
    "arr = [7, 5, 9, 0, 3, 1, 6, 2, 4, 8]\n",
    "countingSort(arr)"
   ]
  },
  {
   "cell_type": "markdown",
   "metadata": {},
   "source": [
    "## **Binary Search**\n",
    "### Solution\n",
    "- Time Complexity: \n",
    "- Space Complexity: "
   ]
  },
  {
   "cell_type": "code",
   "execution_count": null,
   "metadata": {},
   "outputs": [],
   "source": [
    "def binarySearch(arr,x):\n",
    "    pass\n",
    "arr = [1, 3, 5, 6, 7, 9, 10, 11, 15, 20]\n",
    "x = 3\n",
    "binarySearch(arr, x)"
   ]
  },
  {
   "cell_type": "markdown",
   "metadata": {},
   "source": [
    "## **Greedy - 모험가 길드**\n",
    "### Solution\n",
    "- Time Complexity: \n",
    "- Space Complexity: "
   ]
  },
  {
   "cell_type": "code",
   "execution_count": null,
   "metadata": {},
   "outputs": [],
   "source": [
    "def getMostGroups(arr):\n",
    "    pass\n",
    "arr=[2,3,1,2,2]\n",
    "getMostGroups(arr)"
   ]
  },
  {
   "cell_type": "markdown",
   "metadata": {},
   "source": [
    "## **Greedy - Non Constructable Change**\n",
    "### Solution\n",
    "- Time Complexity: \n",
    "- Space Complexity: "
   ]
  },
  {
   "cell_type": "code",
   "execution_count": 1,
   "metadata": {},
   "outputs": [
    {
     "data": {
      "text/plain": [
       "14"
      ]
     },
     "execution_count": 1,
     "metadata": {},
     "output_type": "execute_result"
    }
   ],
   "source": [
    "def nonConstructableChange(coins):\n",
    "    pass\n",
    "coins = [1, 1, 2, 3, 6, 20, 22]\n",
    "nonConstructableChange(coins)"
   ]
  },
  {
   "cell_type": "markdown",
   "metadata": {},
   "source": [
    "## **Dynamic Programming conceptual summary**\n",
    "- **Optimal substructures(최적 부분구조)**: if an optimal solution can be constructed from optimal solutions of its subproblems\n",
    "- **Overlapping sub-problems(부분 문제중복)**: if the problem can be broken down into subproblems which are reused several times or a recursive algorithm for the probelm solves the same subproblem over and over rather than always generating new subproblems\n",
    "## **Dynamic Programming vs Divide and Conquer**\n",
    "- **Similarity**: Both have _Optimal Substructure_\n",
    "    - the problem can be broken into simpler sub-problems, and answering these sub-problems help solve the original (bigger) problem.\n",
    "- **Difference**: Dynamic programming problems have _Overlapping subproblems_, while divide and conquer problems do ___NOT___\n",
    "- _Example_: Quick sort is a type of divde and conquer algorithm. It does have an optimal structure, BUT when one pivot finds its place(a subproblem), this process is NEVER called again - NO overlapping subproblems\n",
    "- Memoization\n"
   ]
  },
  {
   "cell_type": "markdown",
   "metadata": {},
   "source": [
    "## **Sort() vs Sorted()**\n",
    "- Sort(): Sort the array in place\n",
    "- Sorted(): It returns a new sorted array\n"
   ]
  },
  {
   "cell_type": "markdown",
   "metadata": {},
   "source": [
    "## **Nth Fibonacci**\n",
    "### Solution 1 (Best) -DP Bottom-Up\n",
    "- Time Complexity: O(N)\n",
    "- Space Complexity: O(1)\n"
   ]
  },
  {
   "cell_type": "code",
   "execution_count": null,
   "metadata": {},
   "outputs": [],
   "source": [
    "def getNthFibBest(n):\n",
    "    pass\n",
    "getNthFibBest(99)"
   ]
  },
  {
   "cell_type": "markdown",
   "metadata": {},
   "source": [
    "### Solution 2 (Better) - DP Top-Down Approach using Dictionary\n",
    "- Time Complexity: O(N)\n",
    "- Space Complexity: O(N)"
   ]
  },
  {
   "cell_type": "code",
   "execution_count": null,
   "metadata": {},
   "outputs": [],
   "source": [
    "def getNthFibBetter(n):\n",
    "    pass\n",
    "getNthFibBetter(99)"
   ]
  },
  {
   "cell_type": "markdown",
   "metadata": {},
   "source": [
    "## **Max Subset Sum No Adjacent**\n",
    "### Solution\n",
    "- Time Complexity:\n",
    "- Space Complexity:"
   ]
  },
  {
   "cell_type": "code",
   "execution_count": null,
   "metadata": {},
   "outputs": [],
   "source": [
    "def maxSubsetSumNoAdjacent(array):\n",
    "    pass\n",
    "array = [75, 105, 120, 75, 90, 135]\n",
    "maxSubsetSumNoAdjacent(array)"
   ]
  }
 ],
 "metadata": {
  "interpreter": {
   "hash": "79d097fcb0b4da7ad062a45222a4abfd0b79e332cfbbdbab8e0c98467b5c3e28"
  },
  "kernelspec": {
   "display_name": "Python 3.10.0 64-bit",
   "language": "python",
   "name": "python3"
  },
  "language_info": {
   "codemirror_mode": {
    "name": "ipython",
    "version": 3
   },
   "file_extension": ".py",
   "mimetype": "text/x-python",
   "name": "python",
   "nbconvert_exporter": "python",
   "pygments_lexer": "ipython3",
   "version": "3.10.0"
  },
  "orig_nbformat": 4
 },
 "nbformat": 4,
 "nbformat_minor": 2
}
