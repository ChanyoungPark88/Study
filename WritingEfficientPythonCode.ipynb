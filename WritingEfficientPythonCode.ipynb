{
 "cells": [
  {
   "cell_type": "markdown",
   "metadata": {},
   "source": [
    "## Built-In Practice: range()\n",
    "range(stop): this is built-in function to clarify range from 0 to stop.(not involve the stop, means __> stop__)\n",
    "</br>\n",
    "range(start, stop, step): Create a sequence of number from a start to stop with step size\n",
    "\n",
    "#### Instructions\n",
    "- Create a _range object_ that starts at zero and ends at five. Only use a ```stop``` argument.\n",
    "- Convert the ```nums``` variable into a list called ```nums_list```.\n",
    "- Create a new list called ```nums_list2``` that starts at __one,__ ends at __eleven,__ and increments by __two__ by unpacking a _range object_ using the star character(```*```)."
   ]
  },
  {
   "cell_type": "code",
   "execution_count": 1,
   "metadata": {},
   "outputs": [
    {
     "name": "stdout",
     "output_type": "stream",
     "text": [
      "<class 'range'>\n",
      "[0, 1, 2, 3, 4, 5]\n",
      "[1, 3, 5, 7, 9, 11]\n"
     ]
    }
   ],
   "source": [
    "# Create a range object that goes from 0 to 5\n",
    "nums = range(6)\n",
    "print(type(nums))\n",
    "\n",
    "# Convert nums to a list\n",
    "nums_list = list(nums)\n",
    "print(nums_list)\n",
    "\n",
    "# Create a new list of odd numbers from 1 to 11 by unpacking a range object\n",
    "nums_list2 = [*range(1,13,2)]\n",
    "print(nums_list2)"
   ]
  },
  {
   "cell_type": "markdown",
   "metadata": {},
   "source": [
    "## Built-in practice: enumerate()\n",
    "Enumerate is useful for obtaining an indexed list.\n",
    "```\n",
    "names=['Jerry','Kramer','Elaine','George','Newman']\n",
    "```\n",
    "If wanted to attach an index representing a person's arrival order, could use the following for loop:\n",
    "\n",
    "```\n",
    "indexed_names =[]\n",
    "for i in range(len(names)):\n",
    "    index_name = (i, names[i])\n",
    "    indexed_names.append(index_name)\n",
    "\n",
    "[(0,'Jerry'),(1,'Kramer'),(2,'Elaine'),(3,'George'),(4,'Newman')]\n",
    "```\n",
    "#### Instructions\n",
    "- Instead of using ```for i in range(len(names))```, update the for loop to use ```i``` as the index variable and ```name``` as the iterator variable and use ```enumerate()```.\n",
    "- Rewrite the previous for loop using ```enumerate()``` and list comprehension to create a new list, ```indexed_names_comp```.\n",
    "- Create another list(```indexed_names_unpack```) by using the star character(```*```) to unpack the _enumerate object_ created from using ```enumerate()``` on ```names```. This time, __start the Index for__ ```enumerate()``` __at one Instead of zero__."
   ]
  },
  {
   "cell_type": "code",
   "execution_count": 7,
   "metadata": {},
   "outputs": [
    {
     "name": "stdout",
     "output_type": "stream",
     "text": [
      "[(0, 'Jerry'), (1, 'Kramer'), (2, 'Elaine'), (3, 'George'), (4, 'Newman')]\n",
      "[(0, 'Jerry'), (1, 'Kramer'), (2, 'Elaine'), (3, 'George'), (4, 'Newman')]\n",
      "[(1, 'Jerry'), (2, 'Kramer'), (3, 'Elaine'), (4, 'George'), (5, 'Newman')]\n"
     ]
    }
   ],
   "source": [
    "names = ['Jerry', 'Kramer', 'Elaine', 'George', 'Newman']\n",
    "\n",
    "# Rewrite the for loop to use enumerate\n",
    "indexed_names = []\n",
    "for i,name in enumerate(names):\n",
    "    index_name = (i,name)\n",
    "    indexed_names.append(index_name)\n",
    "print(indexed_names)\n",
    "\n",
    "# Rewrite the above for loop using list comprehension\n",
    "indexed_names_comp = [(i,name) for i,name in enumerate(names)]\n",
    "print(indexed_names_comp)\n",
    "\n",
    "# Unpack an enumerate object with a starting index of one\n",
    "indexed_names_unpack = [*enumerate(names,1)]\n",
    "print(indexed_names_unpack)"
   ]
  },
  {
   "cell_type": "markdown",
   "metadata": {},
   "source": [
    "## Built-in practice: map()\n",
    "\n",
    "Basic usage: map(function, iterable)\n",
    "\n",
    "#### Instructions\n",
    "- Use ```map()``` and the method ```str.upper()``` to convert each name in the list ```names``` to uppercase. Save this to the variable ```names_map```.\n",
    "- Print the data type of ```names_map```.\n",
    "- Unpack the contents of ```names_map``` into a list called ```names_uppercase``` using the star character(```*```)\n",
    "- Print ```names_uppercase``` and observe its contents."
   ]
  },
  {
   "cell_type": "code",
   "execution_count": 16,
   "metadata": {},
   "outputs": [
    {
     "name": "stdout",
     "output_type": "stream",
     "text": [
      "<class 'map'>\n",
      "['JERRY', 'KRAMER', 'ELAINE', 'GEORGE', 'NEWMAN']\n"
     ]
    }
   ],
   "source": [
    "names = ['Jerry', 'Kramer', 'Elaine', 'George', 'Newman']\n",
    "\n",
    "# Use map to apply str.upper to each element in names\n",
    "names_map = map(str.upper,names)\n",
    "\n",
    "# Print the type of the names_map\n",
    "print(type(names_map))\n",
    "\n",
    "# Unpack names_map into a list\n",
    "names_uppercase = [*names_map]\n",
    "\n",
    "# Print the list created above\n",
    "print(names_uppercase)"
   ]
  },
  {
   "cell_type": "code",
   "execution_count": 27,
   "metadata": {},
   "outputs": [
    {
     "name": "stdout",
     "output_type": "stream",
     "text": [
      "[10, 20, 30, 40, 50]\n",
      "[ 7 17 27 37 47]\n",
      "[('Jerry', 7), ('Kramer', 17), ('Elaine', 27), ('George', 37), ('Newman', 47)]\n"
     ]
    },
    {
     "ename": "TypeError",
     "evalue": "welcome_guest() missing 1 required positional argument: 'time'",
     "output_type": "error",
     "traceback": [
      "\u001b[1;31m---------------------------------------------------------------------------\u001b[0m",
      "\u001b[1;31mTypeError\u001b[0m                                 Traceback (most recent call last)",
      "\u001b[1;32mc:\\Users\\chany\\Desktop\\Study\\Study\\WritingEfficientPythonCode.ipynb Cell 7'\u001b[0m in \u001b[0;36m<cell line: 22>\u001b[1;34m()\u001b[0m\n\u001b[0;32m     <a href='vscode-notebook-cell:/c%3A/Users/chany/Desktop/Study/Study/WritingEfficientPythonCode.ipynb#ch0000007?line=18'>19</a>\u001b[0m \u001b[39m# Map the welcome_guest function to each (guest,time) pair\u001b[39;00m\n\u001b[0;32m     <a href='vscode-notebook-cell:/c%3A/Users/chany/Desktop/Study/Study/WritingEfficientPythonCode.ipynb#ch0000007?line=19'>20</a>\u001b[0m welcome_map \u001b[39m=\u001b[39m \u001b[39mmap\u001b[39m(welcome_guest, guest_arrivals)\n\u001b[1;32m---> <a href='vscode-notebook-cell:/c%3A/Users/chany/Desktop/Study/Study/WritingEfficientPythonCode.ipynb#ch0000007?line=21'>22</a>\u001b[0m guest_welcomes \u001b[39m=\u001b[39m [\u001b[39m*\u001b[39mwelcome_map]\n\u001b[0;32m     <a href='vscode-notebook-cell:/c%3A/Users/chany/Desktop/Study/Study/WritingEfficientPythonCode.ipynb#ch0000007?line=22'>23</a>\u001b[0m \u001b[39mprint\u001b[39m(\u001b[39m*\u001b[39mguest_welcomes, sep\u001b[39m=\u001b[39m\u001b[39m'\u001b[39m\u001b[39m\\n\u001b[39;00m\u001b[39m'\u001b[39m)\n",
      "\u001b[1;31mTypeError\u001b[0m: welcome_guest() missing 1 required positional argument: 'time'"
     ]
    }
   ],
   "source": [
    "import numpy as np\n",
    "names = ['Jerry', 'Kramer', 'Elaine', 'George', 'Newman']\n",
    "\n",
    "def welcome_guest(name, time):\n",
    "    return (\"Welcome to Festivus \" + name + \"... You're \" + time + \" min late.\")\n",
    "\n",
    "# Create a list of arrival times\n",
    "arrival_times = [*range(10,60,10)]\n",
    "print(arrival_times)\n",
    "\n",
    "# Convert arrival_times to an array and update the times\n",
    "arrival_times_np = np.array(arrival_times)\n",
    "new_times = arrival_times_np - 3\n",
    "print(new_times)\n",
    "\n",
    "# Use list comprehension and enumerate to pair guest to new times\n",
    "guest_arrivals = [(names[i],time) for i,time in enumerate(new_times)]\n",
    "print(guest_arrivals)\n",
    "\n",
    "# Map the welcome_guest function to each (guest,time) pair\n",
    "welcome_map = map(welcome_guest, guest_arrivals)\n",
    "\n",
    "guest_welcomes = [*welcome_map]\n",
    "print(*guest_welcomes, sep='\\n')"
   ]
  },
  {
   "cell_type": "markdown",
   "metadata": {},
   "source": [
    "## Runtime Check: %timeit\n",
    "![ReferenceTable](./image/ReferenceTable.png)"
   ]
  },
  {
   "cell_type": "code",
   "execution_count": 1,
   "metadata": {},
   "outputs": [
    {
     "name": "stdout",
     "output_type": "stream",
     "text": [
      "[0, 1, 2, 3, 4, 5, 6, 7, 8, 9, 10, 11, 12, 13, 14, 15, 16, 17, 18, 19, 20, 21, 22, 23, 24, 25, 26, 27, 28, 29, 30, 31, 32, 33, 34, 35, 36, 37, 38, 39, 40, 41, 42, 43, 44, 45, 46, 47, 48, 49, 50]\n",
      "[0, 1, 2, 3, 4, 5, 6, 7, 8, 9, 10, 11, 12, 13, 14, 15, 16, 17, 18, 19, 20, 21, 22, 23, 24, 25, 26, 27, 28, 29, 30, 31, 32, 33, 34, 35, 36, 37, 38, 39, 40, 41, 42, 43, 44, 45, 46, 47, 48, 49, 50]\n",
      "920 ns ± 8.45 ns per loop (mean ± std. dev. of 7 runs, 1,000,000 loops each)\n",
      "283 ns ± 5.07 ns per loop (mean ± std. dev. of 7 runs, 1,000,000 loops each)\n"
     ]
    }
   ],
   "source": [
    "# Create a list of integers (0-50) using list comprehension\n",
    "nums_list_comp = [num for num in range(51)]\n",
    "print(nums_list_comp)\n",
    "\n",
    "# Create a list of integers (0-50) by unpacking range\n",
    "nums_unpack = [*range(51)]\n",
    "print(nums_unpack)\n",
    "\n",
    "# Check runtime\n",
    "%timeit nums_list_comp = [num for num in range(51)]\n",
    "%timeit nums_unpack = [*range(51)]\n",
    "\n",
    "# Unpacking the range object was faster than list comprehension!"
   ]
  },
  {
   "cell_type": "markdown",
   "metadata": {},
   "source": [
    "## Using %timeit: specifying number of runs and loops\n",
    "![Using%timeit](./image/Using%25timeit.png)\n",
    "```\n",
    "%timeit -r5 -n25 function\n",
    "```\n",
    "**%timeit lets specify the number of runs and number of loops you want to consider with the -r and -n flags.**"
   ]
  },
  {
   "cell_type": "markdown",
   "metadata": {},
   "source": [
    "## Using %timeit: formal name or literal syntax\n",
    "![Using%timeit2](./image/Using%25timeit2.png)"
   ]
  },
  {
   "cell_type": "code",
   "execution_count": 3,
   "metadata": {},
   "outputs": [
    {
     "name": "stdout",
     "output_type": "stream",
     "text": [
      "[]\n",
      "[]\n",
      "<class 'list'>\n",
      "<class 'list'>\n",
      "36 ns ± 0.439 ns per loop (mean ± std. dev. of 7 runs, 10,000,000 loops each)\n",
      "16.5 ns ± 0.182 ns per loop (mean ± std. dev. of 7 runs, 100,000,000 loops each)\n"
     ]
    }
   ],
   "source": [
    "# Create a list using the formal name\n",
    "formal_list = list()\n",
    "print(formal_list)\n",
    "\n",
    "# Create a list using the literal syntax\n",
    "literal_list = []\n",
    "print(literal_list)\n",
    "\n",
    "# Print out the type of formal_list\n",
    "print(type(formal_list))\n",
    "\n",
    "# Print out the type of literal_list\n",
    "print(type(literal_list))\n",
    "\n",
    "# Check runtime\n",
    "%timeit (list())\n",
    "%timeit ([])\n",
    "\n",
    "# literal syntax([]) to create a list is faster!"
   ]
  },
  {
   "cell_type": "markdown",
   "metadata": {},
   "source": [
    "## Using cell magic mode (%%timeit)\n",
    "![UsingCellMagicMode](./image/UsingCellMagicMode.png)\n",
    "</br>\n",
    "</br>\n",
    "\n",
    "Use ```%%timeit``` __In your IPython console__ to compare runtimes between these two approaches. Make sure to press ```SHIFT+ENTER``` after the magic command to add a new line before writing the code wish to time.\n",
    "</br>\n",
    "</br>\n",
    "\n",
    "![RuntimeCheck](./image/RuntimeCheck.png)\n",
    "</br>\n",
    "</br>\n",
    "\n",
    "**Numpy technique is faster than loop technique!**"
   ]
  },
  {
   "cell_type": "markdown",
   "metadata": {},
   "source": [
    "## Using %lprun: spot bottlenecks\n",
    "![RuntimeCheck%lprun](./image/RuntimeCheck%25lprun.png)\n",
    "\n",
    "</br>\n",
    "Basic usage\n",
    "\n",
    "```\n",
    "%load_ext line_profiler\n",
    "%lprun -[option] [functionName] [function(arg)]\n",
    "```"
   ]
  },
  {
   "cell_type": "markdown",
   "metadata": {},
   "source": [
    "## Using %lprun: fix the bottleneck\n",
    "![RuntimeCheck%lprun2](./image/RuntimeCheck%25lprun2.png)"
   ]
  },
  {
   "cell_type": "markdown",
   "metadata": {},
   "source": [
    "## Using %mprun\n",
    "![MemoryCheck%mprun](./image/MemoryCheck%25mprun.png)\n",
    "\n",
    "</br>\n",
    "\n",
    "Basic usage\n",
    "```\n",
    "%load_ext memory_proflier\n",
    "from [file] import [function]\n",
    "%mprun -[option] [name] [function(arg)]\n",
    "```\n",
    "\n",
    "![MemoryCheck%mprun2](./image/MemoryCheck%25mprun2.png)"
   ]
  }
 ],
 "metadata": {
  "interpreter": {
   "hash": "e8ee9b05f155c97516184f4906f5291164f9cbc240395c0f04d8e49084a1e150"
  },
  "kernelspec": {
   "display_name": "Python 3.10.2 64-bit",
   "language": "python",
   "name": "python3"
  },
  "language_info": {
   "codemirror_mode": {
    "name": "ipython",
    "version": 3
   },
   "file_extension": ".py",
   "mimetype": "text/x-python",
   "name": "python",
   "nbconvert_exporter": "python",
   "pygments_lexer": "ipython3",
   "version": "3.10.2"
  },
  "orig_nbformat": 4
 },
 "nbformat": 4,
 "nbformat_minor": 2
}
