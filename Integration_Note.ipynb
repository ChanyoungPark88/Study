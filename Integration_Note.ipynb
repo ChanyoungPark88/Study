{
 "cells": [
  {
   "cell_type": "markdown",
   "metadata": {},
   "source": [
    "# Sort\n",
    "1. Insertion Sort\n",
    "2. Selection Sort\n",
    "3. Bubble Sort\n",
    "4. Quick Sort\n",
    "5. Merge Sort\n",
    "6. Heap Sort\n",
    "7. Counting Sort"
   ]
  },
  {
   "cell_type": "markdown",
   "metadata": {},
   "source": [
    "## Selection Sort\n",
    "### Keyword: Select minimum data in array and move into first"
   ]
  },
  {
   "cell_type": "code",
   "execution_count": 4,
   "metadata": {},
   "outputs": [
    {
     "data": {
      "text/plain": [
       "[0, 1, 2, 3, 4, 5, 6, 7, 8, 9]"
      ]
     },
     "execution_count": 4,
     "metadata": {},
     "output_type": "execute_result"
    }
   ],
   "source": [
    "def selectionSort(array):\n",
    "    for i in range(len(array)): # First, Iterate all of the array and \n",
    "        minIdx = i # Most Important! I define the first index a minimum index. After then, I will compare between the value in minimum index and value of next index\n",
    "        for j in range(i + 1, len(array)): # Iterate from index i(=minimum) + 1 to len(array)\n",
    "            if array[minIdx] > array[j]:\n",
    "                array[minIdx], array[j] = array[j], array[minIdx] # Swap\n",
    "    return array\n",
    "array = [7, 5, 9, 0, 3, 1, 6, 2, 4, 8]\n",
    "selectionSort(array)"
   ]
  },
  {
   "cell_type": "markdown",
   "metadata": {},
   "source": [
    "## Insertion Sort\n",
    "### Keyword: Insert unsorted data into Sorted part\n"
   ]
  },
  {
   "cell_type": "code",
   "execution_count": 21,
   "metadata": {},
   "outputs": [
    {
     "data": {
      "text/plain": [
       "[0, 1, 2, 3, 4, 5, 6, 7, 8, 9]"
      ]
     },
     "execution_count": 21,
     "metadata": {},
     "output_type": "execute_result"
    }
   ],
   "source": [
    "def insertionSort(array):\n",
    "    for i in range(1, len(array)): # Iterate from index 1 to len(array). The reason that start from 1, I am going to compare with previous number.\n",
    "        j = i\n",
    "        while j > 0 and array[j] < array[j-1]: # During j is bigger than 0, if array[j] is smaller than array[j-1]\n",
    "            array[j], array[j-1] = array[j-1], array[j] # Swap\n",
    "            j -= 1 # After then, decrease j by 1. This process seperate sorted part and unsorted part. If this process is not exist, It will only compare between array[j] and array[j-1] while increase the index.\n",
    "    return array\n",
    "array = [7, 5, 9, 0, 3, 1, 6, 2, 4, 8]\n",
    "insertionSort(array)"
   ]
  },
  {
   "cell_type": "markdown",
   "metadata": {},
   "source": [
    "## Bubble Sort\n",
    "### Keyword: Maximum data move into end of array"
   ]
  },
  {
   "cell_type": "code",
   "execution_count": 33,
   "metadata": {},
   "outputs": [
    {
     "data": {
      "text/plain": [
       "[0, 1, 2, 3, 4, 5, 6, 7, 8, 9]"
      ]
     },
     "execution_count": 33,
     "metadata": {},
     "output_type": "execute_result"
    }
   ],
   "source": [
    "def bubbleSort(array):\n",
    "    isSorted = False # is array sorted?(True / False)\n",
    "    count = 0\n",
    "    while not isSorted: # Iterate during isSorted is not false\n",
    "        isSorted = True\n",
    "        for i in range(len(array) - 1 - count): # Why use len(array)-1? The reason why I compare between current index i and next index i + 1. That means, If I use len(array), It will compare with None(=out of range). That's why I use len(array)-1\n",
    "            if array[i] > array[i+1]:\n",
    "                array[i], array[i+1] = array[i+1], array[i]\n",
    "                isSorted = False\n",
    "        count += 1\n",
    "    return array\n",
    "\n",
    "array = [7, 5, 9, 0, 3, 1, 6, 2, 4, 8]\n",
    "bubbleSort(array)"
   ]
  },
  {
   "cell_type": "markdown",
   "metadata": {},
   "source": [
    "## Quick Sort\n",
    "### Keyword: pivot"
   ]
  },
  {
   "cell_type": "code",
   "execution_count": 35,
   "metadata": {},
   "outputs": [
    {
     "data": {
      "text/plain": [
       "[0, 1, 2, 3, 4, 5, 6, 7, 8, 9]"
      ]
     },
     "execution_count": 35,
     "metadata": {},
     "output_type": "execute_result"
    }
   ],
   "source": [
    "def quickSort(array):\n",
    "    quickSortHelper(array, 0, len(array)-1)\n",
    "    return array\n",
    "\n",
    "def quickSortHelper(array, start, end):\n",
    "    if start > end: # if array have just one data, then quit\n",
    "        return\n",
    "    pivot = start\n",
    "    left = start + 1\n",
    "    right = end\n",
    "    while left <= right:\n",
    "        if array[left] > array[pivot] and array[pivot] > array[right]:\n",
    "            array[left], array[right] = array[right], array[left]\n",
    "        if array[left] <= array[pivot]:\n",
    "            left += 1\n",
    "        if array[pivot] <= array[right]:\n",
    "            right -= 1\n",
    "    array[pivot], array[right] = array[right], array[pivot]\n",
    "    leftSmall = right - 1 - start < end - (right + 1)\n",
    "    if leftSmall:\n",
    "        quickSortHelper(array, start, right - 1)\n",
    "        quickSortHelper(array, right + 1, end)\n",
    "    else:\n",
    "        quickSortHelper(array, right + 1, end)\n",
    "        quickSortHelper(array, start, right - 1)        \n",
    "array = [7, 5, 9, 0, 3, 1, 6, 2, 4, 8]\n",
    "quickSort(array)"
   ]
  },
  {
   "cell_type": "code",
   "execution_count": 36,
   "metadata": {},
   "outputs": [
    {
     "data": {
      "text/plain": [
       "[0, 1, 2, 3, 4, 5, 6, 7, 8, 9]"
      ]
     },
     "execution_count": 36,
     "metadata": {},
     "output_type": "execute_result"
    }
   ],
   "source": [
    "# Using python advantage\n",
    "def quickSort(array):\n",
    "    if len(array) <= 1: # if array have just one data, then quit\n",
    "        return array\n",
    "    pivot = array[0]\n",
    "    tail = array[1:]\n",
    "    \n",
    "    left = [x for x in tail if x <= pivot]\n",
    "    right = [x for x in tail if x > pivot]\n",
    "\n",
    "    return quickSort(left) + [pivot] + quickSort(right)\n",
    "array = [7, 5, 9, 0, 3, 1, 6, 2, 4, 8]\n",
    "quickSort(array)"
   ]
  }
 ],
 "metadata": {
  "interpreter": {
   "hash": "79d097fcb0b4da7ad062a45222a4abfd0b79e332cfbbdbab8e0c98467b5c3e28"
  },
  "kernelspec": {
   "display_name": "Python 3.10.0 64-bit",
   "name": "python3"
  },
  "language_info": {
   "codemirror_mode": {
    "name": "ipython",
    "version": 3
   },
   "file_extension": ".py",
   "mimetype": "text/x-python",
   "name": "python",
   "nbconvert_exporter": "python",
   "pygments_lexer": "ipython3",
   "version": "3.10.0"
  },
  "orig_nbformat": 4
 },
 "nbformat": 4,
 "nbformat_minor": 2
}
