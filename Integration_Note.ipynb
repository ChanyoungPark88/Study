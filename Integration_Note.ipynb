{
 "cells": [
  {
   "cell_type": "markdown",
   "metadata": {},
   "source": [
    "## **Bubble Sort**\n",
    "Keyword: Maximum data move into end of array\n",
    "### Solution\n",
    "- Time Complexity: \n",
    "- Space Complexity: "
   ]
  },
  {
   "cell_type": "code",
   "execution_count": null,
   "metadata": {},
   "outputs": [],
   "source": [
    "def bubbleSort(array):\n",
    "    isSorted = False # is array sorted?(True / False)\n",
    "    count = 0\n",
    "    while not isSorted: # Iterate during isSorted is not false\n",
    "        isSorted = True\n",
    "        for i in range(len(array) - 1 - count): # Why use len(array)-1? The reason why I compare between current index i and next index i + 1. That means, If I use len(array), It will compare with None(=out of range). That's why I use len(array)-1\n",
    "            if array[i] > array[i+1]:\n",
    "                array[i], array[i+1] = array[i+1], array[i]\n",
    "                isSorted = False\n",
    "        count += 1\n",
    "    return array\n",
    "\n",
    "array = [7, 5, 9, 0, 3, 1, 6, 2, 4, 8]\n",
    "bubbleSort(array)"
   ]
  },
  {
   "cell_type": "code",
   "execution_count": null,
   "metadata": {},
   "outputs": [],
   "source": [
    "def bubbleSort(arr):\n",
    "    pass\n",
    "arr = [7, 5, 9, 0, 3, 1, 6, 2, 4, 8]\n",
    "bubbleSort(arr)"
   ]
  },
  {
   "cell_type": "markdown",
   "metadata": {},
   "source": [
    "## **Selection Sort**\n",
    "Keyword: Select minimum data in array and move into first\n",
    "### Solution\n",
    "- Time Complexity: \n",
    "- Space Complexity: "
   ]
  },
  {
   "cell_type": "code",
   "execution_count": null,
   "metadata": {},
   "outputs": [],
   "source": [
    "def selectionSort(array):\n",
    "    for i in range(len(array)): # First, Iterate all of the array and \n",
    "        minIdx = i # Most Important! I define the first index a minimum index. After then, I will compare between the value in minimum index and value of next index\n",
    "        for j in range(i + 1, len(array)): # Iterate from index i(=minimum) + 1 to len(array)\n",
    "            if array[minIdx] > array[j]:\n",
    "                array[minIdx], array[j] = array[j], array[minIdx] # Swap\n",
    "    return array\n",
    "array = [7, 5, 9, 0, 3, 1, 6, 2, 4, 8]\n",
    "selectionSort(array)"
   ]
  },
  {
   "cell_type": "code",
   "execution_count": null,
   "metadata": {},
   "outputs": [],
   "source": [
    "def selectionSort(arr):\n",
    "    pass\n",
    "arr = [7, 5, 9, 0, 3, 1, 6, 2, 4, 8]\n",
    "selectionSort(arr)"
   ]
  },
  {
   "cell_type": "markdown",
   "metadata": {},
   "source": [
    "## **Insertion Sort**\n",
    "Keyword: Insert unsorted data into Sorted part\n",
    "### Solution\n",
    "- Time Complexity: \n",
    "- Space Complexity: "
   ]
  },
  {
   "cell_type": "code",
   "execution_count": null,
   "metadata": {},
   "outputs": [],
   "source": [
    "def insertionSort(array):\n",
    "    for i in range(1, len(array)): # Iterate from index 1 to len(array). The reason that start from 1, I am going to compare with previous number.\n",
    "        j = i\n",
    "        while j > 0 and array[j] < array[j-1]: # During j is bigger than 0, if array[j] is smaller than array[j-1]\n",
    "            array[j], array[j-1] = array[j-1], array[j] # Swap\n",
    "            j -= 1 # After then, decrease j by 1. This process seperate sorted part and unsorted part. If this process is not exist, It will only compare between array[j] and array[j-1] while increase the index.\n",
    "    return array\n",
    "array = [7, 5, 9, 0, 3, 1, 6, 2, 4, 8]\n",
    "insertionSort(array)"
   ]
  },
  {
   "cell_type": "code",
   "execution_count": null,
   "metadata": {},
   "outputs": [],
   "source": [
    "def insertionSort(arr):\n",
    "    pass\n",
    "arr = [7, 5, 9, 0, 3, 1, 6, 2, 4, 8]\n",
    "insertionSort(arr)"
   ]
  },
  {
   "cell_type": "markdown",
   "metadata": {},
   "source": [
    "## **Quick Sort**\n",
    "### Solution\n",
    "- Time Complexity: \n",
    "- Space Complexity: "
   ]
  },
  {
   "cell_type": "code",
   "execution_count": 4,
   "metadata": {},
   "outputs": [],
   "source": [
    "def quickSort(array):\n",
    "    quickSortHelper(array, 0, len(array)-1)\n",
    "    return array\n",
    "\n",
    "def quickSortHelper(array, start, end):\n",
    "    if start > end: # if array have just one data, then quit\n",
    "        return\n",
    "    pivot = start # Fix the first index pivot\n",
    "    left = start + 1 # left is the data next to pivot\n",
    "    right = end # right is the last data in array\n",
    "    while left <= right: # Iterate until left reach to right\n",
    "        if array[left] > array[pivot] and array[pivot] > array[right]: # in this process I have to compare between pivot and left/right. In each steps, swat the left data and right data under condition where the left and right cannot be moved.\n",
    "            array[left], array[right] = array[right], array[left]\n",
    "        if array[left] <= array[pivot]: # left is must smaller than pivot(include same case)\n",
    "            left += 1\n",
    "        if array[pivot] <= array[right]: # right is must bigger than pivot(include same case)\n",
    "            right -= 1\n",
    "    array[pivot], array[right] = array[right], array[pivot] # after Iterate, swap the pivot data with right.\n",
    "    leftSmall = right - 1 - start < end - (right + 1) # quick sort is divided based on pivot due to the characteristic of algorithm. Before this process, pivot found right position after 1 circle of iteration. For now, I can be divided array based on pivot. In this process, I can compare between leftside of pivot and rightside of pivot. Then why am I doing this? The reason why, It's more faster to deal with small things first. After done 1 circle, array is explained like this [left] [pivot] [right]. HOWEVER! right and left is not value, It's an index. Index does not moving that's why I using right - 1 and right + 1.\n",
    "    if leftSmall:\n",
    "        quickSortHelper(array, start, right - 1)\n",
    "        quickSortHelper(array, right + 1, end)\n",
    "    else:\n",
    "        quickSortHelper(array, right + 1, end)\n",
    "        quickSortHelper(array, start, right - 1)        \n",
    "array = [7, 5, 9, 0, 3, 1, 6, 2, 4, 8]\n",
    "quickSort(array)"
   ]
  },
  {
   "cell_type": "code",
   "execution_count": null,
   "metadata": {},
   "outputs": [],
   "source": [
    "# Using python advantage\n",
    "def quickSort(array):\n",
    "    if len(array) <= 1: # if array have just one data, then quit\n",
    "        return array\n",
    "    pivot = array[0]\n",
    "    tail = array[1:]\n",
    "    \n",
    "    left = [x for x in tail if x <= pivot]\n",
    "    right = [x for x in tail if x > pivot]\n",
    "\n",
    "    return quickSort(left) + [pivot] + quickSort(right)\n",
    "array = [7, 5, 9, 0, 3, 1, 6, 2, 4, 8]\n",
    "quickSort(array)"
   ]
  },
  {
   "cell_type": "code",
   "execution_count": null,
   "metadata": {},
   "outputs": [],
   "source": [
    "def quickSort(arr):\n",
    "    pass\n",
    "arr = [7, 5, 9, 0, 3, 1, 6, 2, 4, 8]\n",
    "quickSort(arr)"
   ]
  },
  {
   "cell_type": "code",
   "execution_count": null,
   "metadata": {},
   "outputs": [],
   "source": [
    "# Using python advantage\n",
    "def quickSort(arr):\n",
    "    pass\n",
    "arr = [7, 5, 9, 0, 3, 1, 6, 2, 4, 8]\n",
    "quickSort(arr)"
   ]
  },
  {
   "cell_type": "markdown",
   "metadata": {},
   "source": [
    "## **Counting Sort**\n",
    "### Solution\n",
    "- Time Complexity: O(N+K)\n",
    "- Space Complexity: O(N+K)"
   ]
  },
  {
   "cell_type": "code",
   "execution_count": null,
   "metadata": {},
   "outputs": [],
   "source": [
    "# CountingSort\n",
    "# Time and Space complexity of Counting Sort is O(N+K).\n",
    "# Counting Sort is unefficient if has two data(one is smallest, one is biggest)\n",
    "# Counting Sort is efficient for many same value of data\n",
    "def countingSort(array):\n",
    "    answer = []\n",
    "    count = [0] * (max(array)+1)\n",
    "    for i in array:\n",
    "        count[i] += 1\n",
    "    \n",
    "    for idx, val in enumerate(count):\n",
    "        for j in range(val):\n",
    "            answer.append(idx)\n",
    "    return answer\n",
    "arr = [8, 5, 2, 9, 5, 6, 3, 1, 1, 9]\n",
    "print(countingSort(arr))"
   ]
  },
  {
   "cell_type": "code",
   "execution_count": null,
   "metadata": {},
   "outputs": [],
   "source": [
    "def countingSort(arr):\n",
    "    pass\n",
    "arr = [7, 5, 9, 0, 3, 1, 6, 2, 4, 8]\n",
    "countingSort(arr)"
   ]
  },
  {
   "cell_type": "markdown",
   "metadata": {},
   "source": [
    "## **Binary Search**\n",
    "### Solution\n",
    "- Time Complexity: \n",
    "- Space Complexity: "
   ]
  },
  {
   "cell_type": "code",
   "execution_count": null,
   "metadata": {},
   "outputs": [],
   "source": [
    "def binarySearch(array, target):\n",
    "    return helper(array, target, 0, len(array)-1)\n",
    "\n",
    "def helper(array, target, start, end):\n",
    "    if start > end:\n",
    "        return -1\n",
    "    mid = start + (end - start) // 2\n",
    "    if array[mid] == target:\n",
    "        return mid\n",
    "    elif array[mid] > target:\n",
    "        return helper(array, target, start, mid-1)\n",
    "    else:\n",
    "        return helper(array, target, mid+1, end)"
   ]
  },
  {
   "cell_type": "code",
   "execution_count": null,
   "metadata": {},
   "outputs": [],
   "source": [
    "def binarySearch(array, target):\n",
    "    left = 0\n",
    "    right = len(array)-1\n",
    "    while left <= right:\n",
    "        mid = left + (right - left) // 2\n",
    "        # array[mid] == target\n",
    "        if array[mid] == target:\n",
    "            return mid\n",
    "        elif array[mid] > target:\n",
    "            right = mid\n",
    "        else:\n",
    "            left = mid\n",
    "    return -1"
   ]
  },
  {
   "cell_type": "code",
   "execution_count": null,
   "metadata": {},
   "outputs": [],
   "source": [
    "## recursion\n",
    "def binarySearch(arr, x):\n",
    "    pass\n",
    "arr = [1,2,3,4,5,6,7,8,9,10]\n",
    "x = 3\n",
    "binarySearch(arr,x)"
   ]
  },
  {
   "cell_type": "code",
   "execution_count": null,
   "metadata": {},
   "outputs": [],
   "source": [
    "## without recursion\n",
    "def binarySearch(arr, x):\n",
    "    pass\n",
    "arr = [1,2,3,4,5,6,7,8,9,10]\n",
    "x = 3\n",
    "binarySearch(arr,x)"
   ]
  },
  {
   "cell_type": "markdown",
   "metadata": {},
   "source": [
    "## **Greedy - 모험가 길드**\n",
    "### Solution\n",
    "- Time Complexity: \n",
    "- Space Complexity: "
   ]
  },
  {
   "cell_type": "code",
   "execution_count": null,
   "metadata": {},
   "outputs": [],
   "source": [
    "def func(arr):\n",
    "    arr.sort()\n",
    "    count = 0\n",
    "    group = 0\n",
    "    for i in arr:\n",
    "        count += 1\n",
    "        if count >= i:\n",
    "            group += 1 \n",
    "            count = 0\n",
    "    return group\n",
    "arr = [2, 3, 1, 2, 2]\n",
    "func(arr)"
   ]
  },
  {
   "cell_type": "code",
   "execution_count": null,
   "metadata": {},
   "outputs": [],
   "source": [
    "def getMostGroups(arr):\n",
    "    pass\n",
    "arr=[2,3,1,2,2]\n",
    "getMostGroups(arr)"
   ]
  },
  {
   "cell_type": "markdown",
   "metadata": {},
   "source": [
    "## **Greedy - Non Constructable Change**\n",
    "### Solution\n",
    "- Time Complexity: \n",
    "- Space Complexity: "
   ]
  },
  {
   "cell_type": "code",
   "execution_count": null,
   "metadata": {},
   "outputs": [],
   "source": [
    "def nonConstructibleChange(coins):\n",
    "    coins.sort()\n",
    "    currentChange = 0\n",
    "\n",
    "    for coin in coins:\n",
    "        if coin > currentChange+1:\n",
    "            return currentChange+1\n",
    "        currentChange += coin\n",
    "    return currentChange+1\n",
    "\n",
    "coins = [5, 7, 1, 1, 2, 3, 22]\n",
    "print(nonConstructibleChange(coins))"
   ]
  },
  {
   "cell_type": "code",
   "execution_count": null,
   "metadata": {},
   "outputs": [],
   "source": [
    "def nonConstructibleChange(coins):\n",
    "    pass\n",
    "coins = [5, 7, 1, 1, 2, 3, 22]\n",
    "print(nonConstructibleChange(coins))"
   ]
  },
  {
   "cell_type": "markdown",
   "metadata": {},
   "source": [
    "## **Dynamic Programming conceptual summary**\n",
    "- **Optimal substructures(최적 부분구조)**: if an optimal solution can be constructed from optimal solutions of its subproblems\n",
    "- **Overlapping sub-problems(부분 문제중복)**: if the problem can be broken down into subproblems which are reused several times or a recursive algorithm for the probelm solves the same subproblem over and over rather than always generating new subproblems\n"
   ]
  },
  {
   "cell_type": "markdown",
   "metadata": {},
   "source": [
    "## **Dynamic Programming vs Divide and Conquer**\n",
    "- **Similarity**: Both have _Optimal Substructure_\n",
    "    - the problem can be broken into simpler sub-problems, and answering these sub-problems help solve the original (bigger) problem.\n",
    "- **Difference**: Dynamic programming problems have _Overlapping subproblems_, while divide and conquer problems do ___NOT___\n",
    "- _Example_: Quick sort is a type of divde and conquer algorithm. It does have an optimal structure, BUT when one pivot finds its place(a subproblem), this process is NEVER called again - NO overlapping subproblems\n",
    "- Memoization"
   ]
  },
  {
   "cell_type": "markdown",
   "metadata": {},
   "source": [
    "## **Sort() vs Sorted()**\n",
    "- Sort(): Sort the array in place\n",
    "- Sorted(): It returns a new sorted array\n"
   ]
  },
  {
   "cell_type": "markdown",
   "metadata": {},
   "source": [
    "## **Nth Fibonacci**\n",
    "### Solution 1 (Best) -DP Bottom-Up\n",
    "- Time Complexity: O(N)\n",
    "- Space Complexity: O(1)\n"
   ]
  },
  {
   "cell_type": "code",
   "execution_count": null,
   "metadata": {},
   "outputs": [],
   "source": [
    "def fibo(n):\n",
    "    lastTwo = [1, 1]\n",
    "    count = 2\n",
    "    while count < n:\n",
    "        lastTwo[0], lastTwo[1] = lastTwo[1], lastTwo[0] + lastTwo[1]\n",
    "        count += 1\n",
    "    return lastTwo[1] if count > 2 else lastTwo[0]\n",
    "\n",
    "fibo(99)"
   ]
  },
  {
   "cell_type": "code",
   "execution_count": null,
   "metadata": {},
   "outputs": [],
   "source": [
    "def getNthFibBest(n):\n",
    "    pass\n",
    "getNthFibBest(99)"
   ]
  },
  {
   "cell_type": "markdown",
   "metadata": {},
   "source": [
    "### Solution 2 (Better) - DP Top-Down Approach using Dictionary\n",
    "- Time Complexity: O(N)\n",
    "- Space Complexity: O(N)"
   ]
  },
  {
   "cell_type": "code",
   "execution_count": null,
   "metadata": {},
   "outputs": [],
   "source": [
    "def fibo(n, memoize):\n",
    "    if n not in memoize:\n",
    "        memoize[n] = fibo(n-1, memoize) + fibo(n-2, memoize)\n",
    "    return memoize[n]\n",
    "\n",
    "fibo(99, {1:1, 2:1})"
   ]
  },
  {
   "cell_type": "code",
   "execution_count": null,
   "metadata": {},
   "outputs": [],
   "source": [
    "def getNthFibBetter(n):\n",
    "    pass\n",
    "getNthFibBetter(99)"
   ]
  },
  {
   "cell_type": "markdown",
   "metadata": {},
   "source": [
    "## **Max Subset Sum No Adjacent**\n",
    "### Solution\n",
    "- Time Complexity:\n",
    "- Space Complexity:"
   ]
  },
  {
   "cell_type": "code",
   "execution_count": null,
   "metadata": {},
   "outputs": [],
   "source": [
    "def maxSubsetSumNoAdjacent(arr):\n",
    "    if len(arr) == 0:\n",
    "        return 0\n",
    "    if len(arr) == 1:\n",
    "        return arr[0]\n",
    "    lst = [arr[0], max(arr[0], arr[1])]\n",
    "    for i in range(2, len(arr)):\n",
    "        lst[0], lst[1] = lst[1], max(lst[1], lst[0] + arr[i])\n",
    "    return lst[1]\n",
    "\n",
    "arr = [75, 105, 120, 75, 90, 135]\n",
    "maxSubsetSumNoAdjacent(arr)"
   ]
  },
  {
   "cell_type": "code",
   "execution_count": null,
   "metadata": {},
   "outputs": [],
   "source": [
    "def maxSubsetSumNoAdjacent(array):\n",
    "    pass\n",
    "array = [75, 105, 120, 75, 90, 135]\n",
    "maxSubsetSumNoAdjacent(array)"
   ]
  }
 ],
 "metadata": {
  "interpreter": {
   "hash": "79d097fcb0b4da7ad062a45222a4abfd0b79e332cfbbdbab8e0c98467b5c3e28"
  },
  "kernelspec": {
   "display_name": "Python 3.10.0 64-bit",
   "name": "python3"
  },
  "language_info": {
   "codemirror_mode": {
    "name": "ipython",
    "version": 3
   },
   "file_extension": ".py",
   "mimetype": "text/x-python",
   "name": "python",
   "nbconvert_exporter": "python",
   "pygments_lexer": "ipython3",
   "version": "3.10.0"
  },
  "orig_nbformat": 4
 },
 "nbformat": 4,
 "nbformat_minor": 2
}
