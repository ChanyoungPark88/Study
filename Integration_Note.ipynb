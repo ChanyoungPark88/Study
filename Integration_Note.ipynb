{
 "cells": [
  {
   "cell_type": "markdown",
   "metadata": {},
   "source": [
    "# Sort\n",
    "1. Selection Sort\n",
    "2. Insertion Sort\n",
    "3. Bubble Sort\n",
    "4. Quick Sort\n",
    "5. ~~Merge Sort~~\n",
    "6. ~~Heap Sort~~\n",
    "7. ~~Counting Sort~~ "
   ]
  },
  {
   "cell_type": "markdown",
   "metadata": {},
   "source": [
    "## Selection Sort\n",
    "Keyword: Select minimum data in array and move into first"
   ]
  },
  {
   "cell_type": "code",
   "execution_count": 4,
   "metadata": {},
   "outputs": [
    {
     "data": {
      "text/plain": [
       "[0, 1, 2, 3, 4, 5, 6, 7, 8, 9]"
      ]
     },
     "execution_count": 4,
     "metadata": {},
     "output_type": "execute_result"
    }
   ],
   "source": [
    "def selectionSort(array):\n",
    "    for i in range(len(array)): # First, Iterate all of the array and \n",
    "        minIdx = i # Most Important! I define the first index a minimum index. After then, I will compare between the value in minimum index and value of next index\n",
    "        for j in range(i + 1, len(array)): # Iterate from index i(=minimum) + 1 to len(array)\n",
    "            if array[minIdx] > array[j]:\n",
    "                array[minIdx], array[j] = array[j], array[minIdx] # Swap\n",
    "    return array\n",
    "array = [7, 5, 9, 0, 3, 1, 6, 2, 4, 8]\n",
    "selectionSort(array)"
   ]
  },
  {
   "cell_type": "code",
   "execution_count": 2,
   "metadata": {},
   "outputs": [
    {
     "data": {
      "text/plain": [
       "[0, 1, 2, 3, 4, 5, 6, 7, 8, 9]"
      ]
     },
     "execution_count": 2,
     "metadata": {},
     "output_type": "execute_result"
    }
   ],
   "source": [
    "def selectionSort(arr):\n",
    "    for i in range(len(arr)):\n",
    "        minIdx = i\n",
    "        for j in range(i+1 , len(arr)):\n",
    "            if arr[minIdx] > arr[j]:\n",
    "                arr[minIdx], arr[j] = arr[j], arr[minIdx]\n",
    "    return arr\n",
    "arr = [7, 5, 9, 0, 3, 1, 6, 2, 4, 8]\n",
    "selectionSort(arr)"
   ]
  },
  {
   "cell_type": "markdown",
   "metadata": {},
   "source": [
    "## Insertion Sort\n",
    "Keyword: Insert unsorted data into Sorted part\n"
   ]
  },
  {
   "cell_type": "code",
   "execution_count": 21,
   "metadata": {},
   "outputs": [
    {
     "data": {
      "text/plain": [
       "[0, 1, 2, 3, 4, 5, 6, 7, 8, 9]"
      ]
     },
     "execution_count": 21,
     "metadata": {},
     "output_type": "execute_result"
    }
   ],
   "source": [
    "def insertionSort(array):\n",
    "    for i in range(1, len(array)): # Iterate from index 1 to len(array). The reason that start from 1, I am going to compare with previous number.\n",
    "        j = i\n",
    "        while j > 0 and array[j] < array[j-1]: # During j is bigger than 0, if array[j] is smaller than array[j-1]\n",
    "            array[j], array[j-1] = array[j-1], array[j] # Swap\n",
    "            j -= 1 # After then, decrease j by 1. This process seperate sorted part and unsorted part. If this process is not exist, It will only compare between array[j] and array[j-1] while increase the index.\n",
    "    return array\n",
    "array = [7, 5, 9, 0, 3, 1, 6, 2, 4, 8]\n",
    "insertionSort(array)"
   ]
  },
  {
   "cell_type": "code",
   "execution_count": 3,
   "metadata": {},
   "outputs": [
    {
     "data": {
      "text/plain": [
       "[0, 1, 2, 3, 4, 5, 6, 7, 8, 9]"
      ]
     },
     "execution_count": 3,
     "metadata": {},
     "output_type": "execute_result"
    }
   ],
   "source": [
    "def insertionSort(arr):\n",
    "    for i in range(1, len(arr)):\n",
    "        j = i\n",
    "        while j > 0 and arr[j] < arr[j-1]:\n",
    "            arr[j], arr[j-1] = arr[j-1], arr[j]\n",
    "            j -=1\n",
    "    return arr\n",
    "arr = [7, 5, 9, 0, 3, 1, 6, 2, 4, 8]\n",
    "selectionSort(arr)"
   ]
  },
  {
   "cell_type": "markdown",
   "metadata": {},
   "source": [
    "## Bubble Sort\n",
    "Keyword: Maximum data move into end of array"
   ]
  },
  {
   "cell_type": "code",
   "execution_count": 1,
   "metadata": {},
   "outputs": [
    {
     "data": {
      "text/plain": [
       "[0, 1, 2, 3, 4, 5, 6, 7, 8, 9]"
      ]
     },
     "execution_count": 1,
     "metadata": {},
     "output_type": "execute_result"
    }
   ],
   "source": [
    "def bubbleSort(array):\n",
    "    isSorted = False # is array sorted?(True / False)\n",
    "    count = 0\n",
    "    while not isSorted: # Iterate during isSorted is not false\n",
    "        isSorted = True\n",
    "        for i in range(len(array) - 1 - count): # Why use len(array)-1? The reason why I compare between current index i and next index i + 1. That means, If I use len(array), It will compare with None(=out of range). That's why I use len(array)-1\n",
    "            if array[i] > array[i+1]:\n",
    "                array[i], array[i+1] = array[i+1], array[i]\n",
    "                isSorted = False\n",
    "        count += 1\n",
    "    return array\n",
    "\n",
    "array = [7, 5, 9, 0, 3, 1, 6, 2, 4, 8]\n",
    "bubbleSort(array)"
   ]
  },
  {
   "cell_type": "code",
   "execution_count": 4,
   "metadata": {},
   "outputs": [
    {
     "data": {
      "text/plain": [
       "[0, 1, 2, 3, 4, 5, 6, 7, 8, 9]"
      ]
     },
     "execution_count": 4,
     "metadata": {},
     "output_type": "execute_result"
    }
   ],
   "source": [
    "def bubbleSort(arr):\n",
    "    isSorted = False\n",
    "    counter = 0\n",
    "    while not isSorted:\n",
    "        isSorted = True\n",
    "        for i in range(len(arr)-1 - counter):\n",
    "            if arr[i] > arr[i+1]:\n",
    "                arr[i], arr[i+1] = arr[i+1], arr[i]\n",
    "                isSorted = False\n",
    "        counter += 1\n",
    "    return arr\n",
    "arr = [7, 5, 9, 0, 3, 1, 6, 2, 4, 8]\n",
    "selectionSort(arr)"
   ]
  },
  {
   "cell_type": "markdown",
   "metadata": {},
   "source": [
    "## Quick Sort\n",
    "Keyword: pivot\\\n",
    "\\\n",
    "**분할 정복(Divide and Conquer)** 의 대표적인 예시인 퀵 정렬을 살펴봅시다.\n",
    "- 한 번 기준 원소(Pivot)가 자리를 변경해서 자리를 잡으면 그 기준 원소의 위치는 바뀌지 않습니다.\n",
    "- 분할 이후에 해당 피벗을 다시 처리하는 부분 문제는 호출하지 않습니다."
   ]
  },
  {
   "cell_type": "code",
   "execution_count": 4,
   "metadata": {},
   "outputs": [],
   "source": [
    "def quickSort(array):\n",
    "    quickSortHelper(array, 0, len(array)-1)\n",
    "    return array\n",
    "\n",
    "def quickSortHelper(array, start, end):\n",
    "    if start > end: # if array have just one data, then quit\n",
    "        return\n",
    "    pivot = start # Fix the first index pivot\n",
    "    left = start + 1 # left is the data next to pivot\n",
    "    right = end # right is the last data in array\n",
    "    while left <= right: # Iterate until left reach to right\n",
    "        if array[left] > array[pivot] and array[pivot] > array[right]: # in this process I have to compare between pivot and left/right. In each steps, swat the left data and right data under condition where the left and right cannot be moved.\n",
    "            array[left], array[right] = array[right], array[left]\n",
    "        if array[left] <= array[pivot]: # left is must smaller than pivot(include same case)\n",
    "            left += 1\n",
    "        if array[pivot] <= array[right]: # right is must bigger than pivot(include same case)\n",
    "            right -= 1\n",
    "    array[pivot], array[right] = array[right], array[pivot] # after Iterate, swap the pivot data with right.\n",
    "    leftSmall = right - 1 - start < end - (right + 1) # quick sort is divided based on pivot due to the characteristic of algorithm. Before this process, pivot found right position after 1 circle of iteration. For now, I can be divided array based on pivot. In this process, I can compare between leftside of pivot and rightside of pivot. Then why am I doing this? The reason why, It's more faster to deal with small things first. After done 1 circle, array is explained like this [left] [pivot] [right]. HOWEVER! right and left is not value, It's an index. Index does not moving that's why I using right - 1 and right + 1.\n",
    "    if leftSmall:\n",
    "        quickSortHelper(array, start, right - 1)\n",
    "        quickSortHelper(array, right + 1, end)\n",
    "    else:\n",
    "        quickSortHelper(array, right + 1, end)\n",
    "        quickSortHelper(array, start, right - 1)        \n",
    "array = [7, 5, 9, 0, 3, 1, 6, 2, 4, 8]\n",
    "quickSort(array)"
   ]
  },
  {
   "cell_type": "code",
   "execution_count": 36,
   "metadata": {},
   "outputs": [
    {
     "data": {
      "text/plain": [
       "[0, 1, 2, 3, 4, 5, 6, 7, 8, 9]"
      ]
     },
     "execution_count": 36,
     "metadata": {},
     "output_type": "execute_result"
    }
   ],
   "source": [
    "# Using python advantage\n",
    "def quickSort(array):\n",
    "    if len(array) <= 1: # if array have just one data, then quit\n",
    "        return array\n",
    "    pivot = array[0]\n",
    "    tail = array[1:]\n",
    "    \n",
    "    left = [x for x in tail if x <= pivot]\n",
    "    right = [x for x in tail if x > pivot]\n",
    "\n",
    "    return quickSort(left) + [pivot] + quickSort(right)\n",
    "array = [7, 5, 9, 0, 3, 1, 6, 2, 4, 8]\n",
    "quickSort(array)"
   ]
  },
  {
   "cell_type": "code",
   "execution_count": 5,
   "metadata": {},
   "outputs": [
    {
     "data": {
      "text/plain": [
       "[0, 1, 2, 3, 4, 5, 6, 7, 8, 9]"
      ]
     },
     "execution_count": 5,
     "metadata": {},
     "output_type": "execute_result"
    }
   ],
   "source": [
    "def quickSort(arr):\n",
    "    if len(arr) <= 1:\n",
    "        return arr\n",
    "    piv = arr[0]\n",
    "    tail = arr[1:]\n",
    "    \n",
    "    left = [x for x in tail if x <= piv]\n",
    "    right = [x for x in tail if x > piv]\n",
    "    \n",
    "    return quickSort(left) + [piv] + quickSort(right)\n",
    "arr = [7, 5, 9, 0, 3, 1, 6, 2, 4, 8]\n",
    "selectionSort(arr)"
   ]
  },
  {
   "cell_type": "markdown",
   "metadata": {},
   "source": [
    "# Binary Search"
   ]
  },
  {
   "cell_type": "code",
   "execution_count": null,
   "metadata": {},
   "outputs": [],
   "source": [
    "def binarySearch(array, target):\n",
    "    return helper(array, target, 0, len(array)-1)\n",
    "\n",
    "def helper(array, target, start, end):\n",
    "    if start > end:\n",
    "        return -1\n",
    "    mid = start + (end - start) // 2\n",
    "    if array[mid] == target:\n",
    "        return mid\n",
    "    elif array[mid] > target:\n",
    "        return helper(array, target, start, mid-1)\n",
    "    else:\n",
    "        return helper(array, target, mid+1, end)\n",
    "\n",
    "# Without recursion\n",
    "def binarySearch(array, target):\n",
    "    left = 0\n",
    "    right = len(array)-1\n",
    "    while left <= right:\n",
    "        mid = left + (right - left) // 2\n",
    "        # array[mid] == target\n",
    "        if array[mid] == target:\n",
    "            return mid\n",
    "        elif array[mid] > target:\n",
    "            right = mid\n",
    "        else:\n",
    "            left = mid\n",
    "    return -1"
   ]
  },
  {
   "cell_type": "code",
   "execution_count": 6,
   "metadata": {},
   "outputs": [
    {
     "data": {
      "text/plain": [
       "2"
      ]
     },
     "execution_count": 6,
     "metadata": {},
     "output_type": "execute_result"
    }
   ],
   "source": [
    "def binarySearch(arr, x):\n",
    "    pass\n",
    "\n",
    "arr = [1,2,3,4,5,6,7,8,9,10]\n",
    "x = 3\n",
    "binarySearch(arr,x)"
   ]
  }
 ],
 "metadata": {
  "interpreter": {
   "hash": "79d097fcb0b4da7ad062a45222a4abfd0b79e332cfbbdbab8e0c98467b5c3e28"
  },
  "kernelspec": {
   "display_name": "Python 3.10.0 64-bit",
   "name": "python3"
  },
  "language_info": {
   "codemirror_mode": {
    "name": "ipython",
    "version": 3
   },
   "file_extension": ".py",
   "mimetype": "text/x-python",
   "name": "python",
   "nbconvert_exporter": "python",
   "pygments_lexer": "ipython3",
   "version": "3.10.0"
  },
  "orig_nbformat": 4
 },
 "nbformat": 4,
 "nbformat_minor": 2
}
