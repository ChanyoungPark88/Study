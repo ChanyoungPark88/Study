{
 "cells": [
  {
   "cell_type": "markdown",
   "metadata": {},
   "source": [
    "### Find Closest Value in BST\n",
    "![FindClosestValueInBST](./image/FindClosestValueInBST.png)"
   ]
  },
  {
   "cell_type": "markdown",
   "metadata": {},
   "source": [
    "#### 풀이 순서\n",
    "1. tree의 root 값을 받으면서 시작.\n",
    "2. target과 root의 value의 차를 구한다.\n",
    "3. 현재 node(이하 current)와 target의 차(절대값)은 2.\n",
    "    3-1. current의 값이 현재까지는 target과의 가장 작은 차를 가지기 때문에 새로운 변수를 지정하여 값을 저장한다.\n",
    "    3-2. current의 값과 target의 차를 비교하여 업데이트를 할 변수를 생성한다\n",
    "4. target의 값이 current의 값보다 크기 때문에 right로 이동.\n",
    "5. current는 15로 변경.\n",
    "6. target과 current의 value의 차를 구한다.\n",
    "7. current와 target의 차(절대값)은 3.\n",
    "8. 이전의 current와 target의 차를 저장한 변수의 값과 현재의 차를 비교.\n",
    "9. 이전의 current와 target의 차를 저장한 변수의 값이 더 작기 때문에 업데이트가 일어나지 않는다.\n",
    "10. current의 값이 target보다 크기 때문에 left로 이동.\n",
    "11. current는 13으로 변경.\n",
    "12. target과 current의 value의 차를 구한다.\n",
    "13. current와 target의 차(절대값)은 1.\n",
    "14. 이전의 current와 target의 차를 저장한 변수의 값과 현재의 차를 비교.\n",
    "15. 현재의 차가 더 작기 때문에 변수의 값을 업데이트 해준다."
   ]
  },
  {
   "cell_type": "code",
   "execution_count": 1,
   "metadata": {},
   "outputs": [],
   "source": [
    "def findClosestValueInBST(tree, target):\n",
    "    current = tree\n",
    "    currentBestDifference = float('inf')\n",
    "    while current is not None:\n",
    "        if abs(current.value - target) < currentBestDifference:\n",
    "            currentBestValue = current.value\n",
    "            currentBestDifference = abs(current.value - target)\n",
    "        if current.value < target:\n",
    "            current = current.right\n",
    "        elif current.value > target:\n",
    "            current = current.left\n",
    "        else:\n",
    "            return current.value\n",
    "    return currentBestValue"
   ]
  },
  {
   "cell_type": "markdown",
   "metadata": {},
   "source": [
    "### DFS\n",
    "![DFS](./image/DFS.png)"
   ]
  },
  {
   "cell_type": "markdown",
   "metadata": {},
   "source": [
    "#### 풀이 순서\n",
    "1. A의 name을 output할 array에 append한다.\n",
    "2. A의 children은 B, C, D\n",
    "3. Children에서 Child를 하나씩 뽑는다(B부터)\n",
    "4. Node의 위치를 B로 이동한다.\n",
    "5. B의 name을 output할 array에 append한다.\n",
    "6. B의 children은 E, F\n",
    "7. Children에서 Child를 하나씩 뽑는다(E부터)\n",
    "8. Node의 위치를 E로 이동한다.\n",
    "9. E의 name을 ouput할 array에 append한다.\n",
    "10. E는 Children이 존재하지 않으므로 Node의 위치를 F로 이동한다.\n",
    "11. F의 name을 output할 array에 append한다.\n",
    "12. F의 Children은 I, J\n",
    "13. Children에서 Child를 하나씩 뽑는다(I부터)\n",
    "14. I의 name을 output할 array에 append한다.\n",
    ".\n",
    ".\n",
    ".\n"
   ]
  },
  {
   "cell_type": "code",
   "execution_count": 2,
   "metadata": {},
   "outputs": [],
   "source": [
    "class Node:\n",
    "    def __init__(self, name):\n",
    "        self.children = []\n",
    "        self.name = name\n",
    "\n",
    "    def addChild(self, name):\n",
    "        self.children.append(Node(name))\n",
    "        return self\n",
    "\n",
    "    def depthFirstSearch(self, array):\n",
    "        current = self\n",
    "        array.append(current.name)\n",
    "        for child in self.children:\n",
    "            child.depthFirstSearch(array)\n",
    "        return array"
   ]
  },
  {
   "cell_type": "markdown",
   "metadata": {},
   "source": [
    "### Branch Sums\n",
    "![BranchSums](./image/BranchSums.png)"
   ]
  },
  {
   "cell_type": "markdown",
   "metadata": {},
   "source": [
    "#### Sample Output\n",
    "[15, 16, 18, 10, 11]"
   ]
  },
  {
   "cell_type": "markdown",
   "metadata": {},
   "source": [
    "#### 풀이 순서\n",
    "1. 현재 노드 1까지의 값 1을 합에 저장한다\n",
    "2. 왼쪽 노드(2)로 내려간다(Stack Open - left, right)\n",
    "3. 현재까지 저장된 합에 현재 노드의 값 2를 더하여 저장한다 1 + 2\n",
    "4. 왼쪽 노드(4)로 내려간다(Stack Open - left, right)\n",
    "5. 현재까지 저장된 합에 현재 노드의 값 4를 더하여 저장한다 1 + 2 + 4\n",
    "6. 왼쪽 노드(8)로 내려간다(Stack Open - left, right)\n",
    "7. 현재까지 저장된 합에 현재 노드의 값 8을 더하여 저장한다 1 + 2 + 4 + 8\n",
    "8. 더 내려갈 노드가 없으므로(leaf node) 현재까지 저장된 합을 array에 append한다[15](Stack Close)\n",
    "9. 6번의 단계로 넘어가면서 열려있던 right stack이 동작한다\n",
    "10. "
   ]
  },
  {
   "cell_type": "code",
   "execution_count": 3,
   "metadata": {},
   "outputs": [],
   "source": [
    "class BinaryTree:\n",
    "    def __init__(self, value):\n",
    "        self.value = value\n",
    "        self.left = None\n",
    "        self.right = None\n",
    "\n",
    "def branchSums(root, total = 0, array = []):\n",
    "    current = root\n",
    "    if current is None:\n",
    "        return\n",
    "    if current.left is None and current.right is None:\n",
    "        array.append(total + current.value)\n",
    "    branchSums(current.left, total + current.value, array)\n",
    "    branchSums(current.right, total + current.value, array)\n",
    "    return array"
   ]
  },
  {
   "cell_type": "markdown",
   "metadata": {},
   "source": [
    "### Product Sum\n",
    "![ProductSum](./image/ProductSum.png)"
   ]
  },
  {
   "cell_type": "code",
   "execution_count": 4,
   "metadata": {},
   "outputs": [],
   "source": [
    "# [3, [6, [-13, 8], 4] ]\n",
    "\n",
    "# 3 depth : 1\n",
    "\n",
    "# [6, [-13, 8], 4] depth : 2\n",
    "# total : 6 + 4\n",
    "\n",
    "# [-13, 8] depth : 3\n",
    "# return : (-13+8) * 3\n",
    "\n",
    "# 1. nested 여부파악 (이유 : 가장 내려가려는거지)\n",
    "# 2. depth 가장 내려간 후에 --> product sum 실행\n",
    "# 3. depth * product sum\n",
    "# 4. depth : 2 --> product sum 실행\n",
    "# 5. depth * product sum\n",
    "# 6. depth : 1 --> product sum 실행\n",
    "# 7. depth가 1이면, depth(1) * product sum ==> Return !\n",
    "\n",
    "# '반복' ==> (1) recursive (2) iterative (루프활용)\n",
    "\n",
    "# 일단, recursion 으로 !\n",
    "# 그렇다면 생각해야할 것 두가지:\n",
    "# \t(1) Base case : depth 가 1일때 끝\n",
    "# \t(2) Call itself : ,,,"
   ]
  },
  {
   "cell_type": "code",
   "execution_count": 5,
   "metadata": {},
   "outputs": [],
   "source": [
    "def productSum(array, depth=1):\n",
    "    total = 0\n",
    "    for element in array:\n",
    "        if isinstance(element, list):\n",
    "            total += productSum(element, depth+1)\n",
    "        else:\n",
    "            total += element\n",
    "    return total * depth"
   ]
  },
  {
   "cell_type": "markdown",
   "metadata": {},
   "source": [
    "#### Caesar Cipher Encryptor\n",
    "![CaesarCiipherEncryptor](./image/CaesarCipherEncryptor.png)"
   ]
  },
  {
   "cell_type": "code",
   "execution_count": 6,
   "metadata": {},
   "outputs": [],
   "source": [
    "# \tord z 100 \n",
    "# \t    y 99\n",
    "#       b   —> 숫자 78      1\n",
    "# \txyz key : 2\n",
    "\t\n",
    "# \tzab\n",
    "\t\n",
    "# \t1. take one element from the array\n",
    "# \t2. one element -> make it int\n",
    "# \t3. int + key\n",
    "#     if 'step 3' > ord('z') —> -26\n",
    "# \t4. turn the output into a character\n",
    "# \t5. put into an empty string"
   ]
  },
  {
   "cell_type": "code",
   "execution_count": 7,
   "metadata": {},
   "outputs": [],
   "source": [
    "def caesarCipherEncryptor(string, key):\n",
    "    alpha = 'abcdefghijklmnopqrstuvwxyz'\n",
    "    newString = []\n",
    "    for char in string:\n",
    "        charInt = alpha.index(char)\n",
    "        # charInt += (key % 26)\n",
    "        # if charInt > alpha.index('z'):\n",
    "        # \tcharInt -= 26\n",
    "        charInt = (charInt + key ) % 26\n",
    "        newString.append(alpha[charInt])\n",
    "    return ''.join(newString)\n"
   ]
  },
  {
   "cell_type": "markdown",
   "metadata": {},
   "source": [
    "#### Class Photos\n",
    "![ClassPhotos](./image/ClassPhotos.png)"
   ]
  },
  {
   "cell_type": "code",
   "execution_count": 8,
   "metadata": {},
   "outputs": [],
   "source": [
    "# 1 3 5 8\n",
    "# 2 3 4 6\n",
    "\n",
    "# 0. 두 배열을 재정렬한다.\n",
    "# 1. 첫 번째 뽑아서 비교 -> 큰 쪽을 정한다.\n",
    "# 2. 두 번째부터는, 큰 쪽이 아니면, return False\n",
    "# 3…\n",
    "# 다 돌고 return True"
   ]
  },
  {
   "cell_type": "code",
   "execution_count": 9,
   "metadata": {},
   "outputs": [
    {
     "name": "stdout",
     "output_type": "stream",
     "text": [
      "True\n"
     ]
    }
   ],
   "source": [
    "def classPhotos(redShirtHeights, blueShirtHeights):\n",
    "    redShirtHeights.sort()\n",
    "    blueShirtHeights.sort()\n",
    "    isRedTaller = redShirtHeights[0] > blueShirtHeights[0]\n",
    "    for i in range(len(redShirtHeights)):\n",
    "        redTaller = redShirtHeights[i] > blueShirtHeights[i]\n",
    "        if redShirtHeights[i] == blueShirtHeights[i]:\n",
    "            return False\n",
    "        if isRedTaller == redTaller:\n",
    "            continue\n",
    "        else:\n",
    "            return False\n",
    "    return True\n",
    "redShirtHeights = [5, 8, 1, 3, 4]\n",
    "blueShirtHeights = [6, 9, 2, 4, 5]\n",
    "print(classPhotos(redShirtHeights, blueShirtHeights))\n"
   ]
  },
  {
   "cell_type": "markdown",
   "metadata": {},
   "source": [
    "#### Monotonic Array\n",
    "![MonotonicArray](./image/MonotonicArray.png)"
   ]
  },
  {
   "cell_type": "code",
   "execution_count": 10,
   "metadata": {},
   "outputs": [],
   "source": [
    "# nonin t t f f\n",
    "# nonde t f t f\n",
    "# noninc=true and\n",
    "\n",
    "\n",
    "# (noninc=true and nondec=false) or (noninc=false and nondec=true)\n",
    "# or (noninc=false and nondec=false)\n",
    "\n",
    "# -1 -1\n",
    "# true\n",
    "\n",
    "# 1 3 3\n",
    "# true\n",
    "\n",
    "# (1) 일단, increasing/decreasing 방향성 조사\n",
    "# (2) 뒤로 가면서 조건 부합 검사"
   ]
  },
  {
   "cell_type": "code",
   "execution_count": 11,
   "metadata": {},
   "outputs": [
    {
     "name": "stdout",
     "output_type": "stream",
     "text": [
      "True\n"
     ]
    }
   ],
   "source": [
    "def isMonotonic(array):\n",
    "    #     Edge Case\n",
    "\tif not array or len(array) == 1:\n",
    "\t\treturn True\n",
    "\tnonIncreasing = False\n",
    "\tnonDecreasing = False\n",
    "\t\n",
    "\tfor i in range(len(array)-1):\n",
    "\t\tif array[i] < array[i+1]:\n",
    "\t\t\tnonDecreasing = True\n",
    "\t\tif array[i] > array[i+1]:\n",
    "\t\t\tnonIncreasing = True\n",
    "\treturn not all([nonIncreasing, nonDecreasing])\n",
    "\n",
    "array = [-1, -5, -10, -1100, -1100, -1101, -1102, -9001]\n",
    "print(isMonotonic(array))"
   ]
  },
  {
   "cell_type": "markdown",
   "metadata": {},
   "source": [
    "![SortedSquaredArray](./image/SortedSquaredArray.png)"
   ]
  },
  {
   "cell_type": "code",
   "execution_count": 12,
   "metadata": {},
   "outputs": [
    {
     "name": "stdout",
     "output_type": "stream",
     "text": [
      "[1, 9, 9, 64, 64]\n"
     ]
    }
   ],
   "source": [
    "def sortedSquaredArray(array):\n",
    "    newArr = [0] * len(array)\n",
    "    count = 0\n",
    "    start, end = 0, len(array)-1\n",
    "    while start <= end:\n",
    "        if abs(array[start]) > abs(array[end]):\n",
    "            newArr[len(array)-1-count] = array[start] ** 2\n",
    "            start += 1\n",
    "        else:\n",
    "            newArr[len(array)-1-count] = array[start] ** 2\n",
    "            end -=1\n",
    "        count += 1\n",
    "    return newArr\n",
    "\n",
    "array = [-8, -3, 1, 5, 9]\n",
    "print(sortedSquaredArray(array))"
   ]
  }
 ],
 "metadata": {
  "interpreter": {
   "hash": "e8ee9b05f155c97516184f4906f5291164f9cbc240395c0f04d8e49084a1e150"
  },
  "kernelspec": {
   "display_name": "Python 3.10.2 64-bit",
   "language": "python",
   "name": "python3"
  },
  "language_info": {
   "codemirror_mode": {
    "name": "ipython",
    "version": 3
   },
   "file_extension": ".py",
   "mimetype": "text/x-python",
   "name": "python",
   "nbconvert_exporter": "python",
   "pygments_lexer": "ipython3",
   "version": "3.10.2"
  },
  "orig_nbformat": 4
 },
 "nbformat": 4,
 "nbformat_minor": 2
}
