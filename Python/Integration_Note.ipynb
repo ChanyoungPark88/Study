{
 "cells": [
  {
   "cell_type": "markdown",
   "metadata": {},
   "source": [
    "## **Bubble Sort**\n",
    "Keyword: Maximum data move into end of array\n",
    "### Solution\n",
    "- Time Complexity: Worst/Avg - O(N^2) Best - O(N)\n",
    "- Space Complexity: O(1)"
   ]
  },
  {
   "cell_type": "code",
   "execution_count": 1,
   "metadata": {},
   "outputs": [
    {
     "data": {
      "text/plain": [
       "[0, 1, 2, 3, 4, 5, 6, 7, 8, 9]"
      ]
     },
     "execution_count": 1,
     "metadata": {},
     "output_type": "execute_result"
    }
   ],
   "source": [
    "def bubbleSort(array):\n",
    "    isSorted = False # is array sorted?(True / False)\n",
    "    count = 0\n",
    "    while not isSorted: # Iterate during isSorted is not false\n",
    "        isSorted = True\n",
    "        for i in range(len(array) - 1 - count): # Why use len(array)-1? The reason why I compare between current index i and next index i + 1. That means, If I use len(array), It will compare with None(=out of range). That's why I use len(array)-1\n",
    "            if array[i] > array[i+1]:\n",
    "                array[i], array[i+1] = array[i+1], array[i]\n",
    "                isSorted = False\n",
    "        count += 1\n",
    "    return array\n",
    "\n",
    "array = [7, 5, 9, 0, 3, 1, 6, 2, 4, 8]\n",
    "bubbleSort(array)"
   ]
  },
  {
   "cell_type": "code",
   "execution_count": 8,
   "metadata": {},
   "outputs": [],
   "source": [
    "def bubbleSort(arr):\n",
    "    pass\n",
    "arr = [7, 5, 9, 0, 3, 1, 6, 2, 4, 8]\n",
    "bubbleSort(arr)"
   ]
  },
  {
   "cell_type": "markdown",
   "metadata": {},
   "source": [
    "## **Selection Sort**\n",
    "Keyword: Select minimum data in array and move into first\n",
    "### Solution\n",
    "- Time Complexity: Worst/Avg - O(N^2) Best - O(N^2)\n",
    "- Space Complexity: O(1)"
   ]
  },
  {
   "cell_type": "code",
   "execution_count": null,
   "metadata": {},
   "outputs": [],
   "source": [
    "def selectionSort(array):\n",
    "    for i in range(len(array)-1): # First, Iterate all of the array and \n",
    "        minIdx = i # Most Important! I define the first index a minimum index. After then, I will compare between the value in minimum index and value of next index\n",
    "        for j in range(i + 1, len(array)): # Iterate from index i(=minimum) + 1 to len(array)\n",
    "            if array[minIdx] > array[j]:\n",
    "                minIdx = j\n",
    "        array[minIdx], array[i] = array[i], array[minIdx] # Swap\n",
    "    return array\n",
    "array = [7, 5, 9, 0, 3, 1, 6, 2, 4, 8]\n",
    "selectionSort(array)"
   ]
  },
  {
   "cell_type": "code",
   "execution_count": 10,
   "metadata": {},
   "outputs": [],
   "source": [
    "def selectionSort(arr):\n",
    "    pass\n",
    "arr = [7, 5, 9, 0, 3, 1, 6, 2, 4, 8]\n",
    "selectionSort(arr)"
   ]
  },
  {
   "cell_type": "markdown",
   "metadata": {},
   "source": [
    "## **Insertion Sort**\n",
    "Keyword: Insert unsorted data into Sorted part\n",
    "### Solution\n",
    "- Time Complexity: Worst/Avg - O(N^2) Best - O(N)\n",
    "- Space Complexity: O(1)"
   ]
  },
  {
   "cell_type": "code",
   "execution_count": null,
   "metadata": {},
   "outputs": [],
   "source": [
    "def insertionSort(array):\n",
    "    for i in range(1, len(array)): # Iterate from index 1 to len(array). The reason that start from 1, I am going to compare with previous number.\n",
    "        j = i\n",
    "        while j > 0 and array[j-1] > array[j]: # During j is bigger than 0, if array[j] is smaller than array[j-1]\n",
    "            array[j-1], array[j] = array[j], array[j-1] # Swap\n",
    "            j -= 1 # After then, decrease j by 1. This process seperate sorted part and unsorted part. If this process is not exist, It will only compare between array[j] and array[j-1] while increase the index.\n",
    "    return array\n",
    "array = [7, 5, 9, 0, 3, 1, 6, 2, 4, 8]\n",
    "insertionSort(array)"
   ]
  },
  {
   "cell_type": "code",
   "execution_count": 12,
   "metadata": {},
   "outputs": [],
   "source": [
    "def insertionSort(arr):\n",
    "    pass\n",
    "arr = [7, 5, 9, 0, 3, 1, 6, 2, 4, 8]\n",
    "insertionSort(arr)"
   ]
  },
  {
   "cell_type": "markdown",
   "metadata": {},
   "source": [
    "## **Quick Sort**\n",
    "### Solution\n",
    "- Time Complexity: Worst - O(N^2) Avg/Best - O(NlogN)\n",
    "- Space Complexity: O(logN)"
   ]
  },
  {
   "cell_type": "code",
   "execution_count": null,
   "metadata": {},
   "outputs": [],
   "source": [
    "def quickSort(array):\n",
    "    quickSortHelper(array, 0, len(array)-1)\n",
    "    return array\n",
    "\n",
    "def quickSortHelper(array, start, end):\n",
    "    if start > end: # if array have just one data, then quit\n",
    "        return\n",
    "    pivot = start # Fix the first index pivot\n",
    "    left = start + 1 # left is the data next to pivot\n",
    "    right = end # right is the last data in array\n",
    "    while left <= right: # Iterate until left reach to right\n",
    "        if array[left] > array[pivot] and array[pivot] > array[right]: # in this process I have to compare between pivot and left/right. In each steps, swat the left data and right data under condition where the left and right cannot be moved.\n",
    "            array[left], array[right] = array[right], array[left]\n",
    "        if array[left] <= array[pivot]: # left is must smaller than pivot(include same case)\n",
    "            left += 1\n",
    "        if array[pivot] <= array[right]: # right is must bigger than pivot(include same case)\n",
    "            right -= 1\n",
    "    array[pivot], array[right] = array[right], array[pivot] # after Iterate, swap the pivot data with right.\n",
    "    leftSmall = right - 1 - start < end - (right + 1) # quick sort is divided based on pivot due to the characteristic of algorithm. Before this process, pivot found right position after 1 circle of iteration. For now, I can be divided array based on pivot. In this process, I can compare between leftside of pivot and rightside of pivot. Then why am I doing this? The reason why, It's more faster to deal with small things first. After done 1 circle, array is explained like this [left] [pivot] [right]. HOWEVER! right and left is not value, It's an index. Index does not moving that's why I using right - 1 and right + 1.\n",
    "    if leftSmall:\n",
    "        quickSortHelper(array, start, right - 1)\n",
    "        quickSortHelper(array, right + 1, end)\n",
    "    else:\n",
    "        quickSortHelper(array, right + 1, end)\n",
    "        quickSortHelper(array, start, right - 1)        \n",
    "array = [7, 5, 9, 0, 3, 1, 6, 2, 4, 8]\n",
    "quickSort(array)"
   ]
  },
  {
   "cell_type": "code",
   "execution_count": null,
   "metadata": {},
   "outputs": [],
   "source": [
    "# Using python advantage\n",
    "def quickSort(array):\n",
    "    if len(array) <= 1: # if array have just one data, then quit\n",
    "        return array\n",
    "    pivot = array[0]\n",
    "    tail = array[1:]\n",
    "    \n",
    "    left = [x for x in tail if x <= pivot]\n",
    "    right = [x for x in tail if x > pivot]\n",
    "\n",
    "    return quickSort(left) + [pivot] + quickSort(right)\n",
    "array = [7, 5, 9, 0, 3, 1, 6, 2, 4, 8]\n",
    "quickSort(array)"
   ]
  },
  {
   "cell_type": "code",
   "execution_count": 14,
   "metadata": {},
   "outputs": [],
   "source": [
    "def quickSort(arr):\n",
    "    pass\n",
    "quickSort(arr)"
   ]
  },
  {
   "cell_type": "code",
   "execution_count": null,
   "metadata": {},
   "outputs": [],
   "source": [
    "# Using python advantage\n",
    "def quickSort(arr):\n",
    "    pass\n",
    "arr = [7, 5, 9, 0, 3, 1, 6, 2, 4, 8]\n",
    "quickSort(arr)"
   ]
  },
  {
   "cell_type": "markdown",
   "metadata": {},
   "source": [
    "## **Counting Sort**\n",
    "### Solution\n",
    "- Time Complexity: O(N+K) N is the number of elements in array K is the largest number in array\n",
    "- Space Complexity: O(N+K) "
   ]
  },
  {
   "cell_type": "code",
   "execution_count": null,
   "metadata": {},
   "outputs": [],
   "source": [
    "# CountingSort\n",
    "# Time and Space complexity of Counting Sort is O(N+K).\n",
    "# Counting Sort is unefficient if has two data(one is smallest, one is biggest)\n",
    "# Counting Sort is efficient for many same value of data\n",
    "def countingSort(array):\n",
    "    answer = []\n",
    "    count = [0] * (max(array)+1)\n",
    "    for i in array:\n",
    "        count[i] += 1\n",
    "    \n",
    "    for idx, val in enumerate(count):\n",
    "        for j in range(val):\n",
    "            answer.append(idx)\n",
    "    return answer\n",
    "arr = [8, 5, 2, 9, 5, 6, 3, 1, 1, 9]\n",
    "print(countingSort(arr))"
   ]
  },
  {
   "cell_type": "code",
   "execution_count": 16,
   "metadata": {},
   "outputs": [
    {
     "name": "stdout",
     "output_type": "stream",
     "text": [
      "0 1\n",
      "1 1\n",
      "2 1\n",
      "3 1\n",
      "4 1\n",
      "5 1\n",
      "6 1\n",
      "7 1\n",
      "8 1\n",
      "9 1\n"
     ]
    },
    {
     "data": {
      "text/plain": [
       "[0, 1, 2, 3, 4, 5, 6, 7, 8, 9]"
      ]
     },
     "execution_count": 16,
     "metadata": {},
     "output_type": "execute_result"
    }
   ],
   "source": [
    "def countingSort(arr):\n",
    "    answer = []\n",
    "    count = [0] * (max(arr)+1)\n",
    "\n",
    "    for i in arr:\n",
    "        count[i] += 1\n",
    "\n",
    "    for idx, val in enumerate(count):\n",
    "        print(idx, val)\n",
    "        for j in range(val):\n",
    "            answer.append(idx)\n",
    "    return answer\n",
    "arr = [7, 5, 9, 0, 3, 1, 6, 2, 4, 8]\n",
    "countingSort(arr)"
   ]
  },
  {
   "cell_type": "markdown",
   "metadata": {},
   "source": [
    "## **Binary Search**\n",
    "### Solution\n",
    "- Time Complexity: O(logN)\n",
    "- Space Complexity: O(1)"
   ]
  },
  {
   "cell_type": "code",
   "execution_count": null,
   "metadata": {},
   "outputs": [],
   "source": [
    "def binarySearch(array, target):\n",
    "    return helper(array, target, 0, len(array)-1)\n",
    "\n",
    "def helper(array, target, start, end):\n",
    "    if start > end:\n",
    "        return -1\n",
    "    mid = start + (end - start) // 2\n",
    "    if array[mid] == target:\n",
    "        return mid\n",
    "    elif array[mid] > target:\n",
    "        return helper(array, target, start, mid-1)\n",
    "    else:\n",
    "        return helper(array, target, mid+1, end)\n",
    "    \n",
    "array = [1,2,3,4,5,6,7,8,9,10]\n",
    "target = 3\n",
    "binarySearch(array,target)"
   ]
  },
  {
   "cell_type": "code",
   "execution_count": null,
   "metadata": {},
   "outputs": [],
   "source": [
    "def binarySearch(array, target):\n",
    "    left = 0\n",
    "    right = len(array)-1\n",
    "    while left <= right:\n",
    "        mid = left + (right - left) // 2\n",
    "        # array[mid] == target\n",
    "        if array[mid] == target:\n",
    "            return mid\n",
    "        elif array[mid] > target:\n",
    "            right = mid + 1\n",
    "        else:\n",
    "            left = mid - 1\n",
    "    return -1\n",
    "\n",
    "array = [1,2,3,4,5,6,7,8,9,10]\n",
    "target = 3\n",
    "binarySearch(array,target)"
   ]
  },
  {
   "cell_type": "code",
   "execution_count": 19,
   "metadata": {},
   "outputs": [],
   "source": [
    "## recursion\n",
    "def binarySearch(arr, x):\n",
    "    pass\n",
    "\n",
    "\n",
    "arr = [1,2,3,4,5,6,7,8,9,10]\n",
    "x = 3\n",
    "binarySearch(arr,x)"
   ]
  },
  {
   "cell_type": "code",
   "execution_count": 22,
   "metadata": {},
   "outputs": [
    {
     "data": {
      "text/plain": [
       "2"
      ]
     },
     "execution_count": 22,
     "metadata": {},
     "output_type": "execute_result"
    }
   ],
   "source": [
    "## without recursion\n",
    "def binarySearch(arr, x):\n",
    "    left, right = 0, len(arr)-1 \n",
    "    while left <= right:\n",
    "        mid = left + (right - left) // 2\n",
    "        if arr[mid] == x:\n",
    "            return mid\n",
    "        elif arr[mid] > x:\n",
    "            right = mid - 1\n",
    "        else:\n",
    "            left = mid + 1\n",
    "    return -1\n",
    "arr = [1,2,3,4,5,6,7,8,9,10]\n",
    "x = 3\n",
    "binarySearch(arr,x)"
   ]
  },
  {
   "cell_type": "markdown",
   "metadata": {},
   "source": [
    "## **Greedy - 모험가 길드**\n",
    "### Solution\n",
    "- Time Complexity: O(N)\n",
    "- Space Complexity: O(N)"
   ]
  },
  {
   "cell_type": "code",
   "execution_count": null,
   "metadata": {},
   "outputs": [],
   "source": [
    "def func(arr):\n",
    "    arr.sort()\n",
    "    count = 0\n",
    "    group = 0\n",
    "    for i in arr:\n",
    "        count += 1\n",
    "        if count >= i:\n",
    "            group += 1 \n",
    "            count = 0\n",
    "    return group\n",
    "arr = [2, 3, 1, 2, 2]\n",
    "func(arr)"
   ]
  },
  {
   "cell_type": "code",
   "execution_count": null,
   "metadata": {},
   "outputs": [],
   "source": [
    "def getMostGroups(arr):\n",
    "    pass\n",
    "arr=[2,3,1,2,2]\n",
    "getMostGroups(arr)"
   ]
  },
  {
   "cell_type": "markdown",
   "metadata": {},
   "source": [
    "## **Greedy - Non Constructable Change**\n",
    "### Solution\n",
    "- Time Complexity: O(NlogN)\n",
    "- Space Complexity: O(1)"
   ]
  },
  {
   "cell_type": "code",
   "execution_count": null,
   "metadata": {},
   "outputs": [],
   "source": [
    "def nonConstructibleChange(coins):\n",
    "    coins.sort()\n",
    "    currentChange = 0\n",
    "\n",
    "    for coin in coins:\n",
    "        if coin > currentChange+1:\n",
    "            return currentChange+1\n",
    "        currentChange += coin\n",
    "    return currentChange+1\n",
    "\n",
    "coins = [5, 7, 1, 1, 2, 3, 22]\n",
    "print(nonConstructibleChange(coins))"
   ]
  },
  {
   "cell_type": "code",
   "execution_count": null,
   "metadata": {},
   "outputs": [],
   "source": [
    "def nonConstructibleChange(coins):\n",
    "    pass\n",
    "coins = [5, 7, 1, 1, 2, 3, 22]\n",
    "print(nonConstructibleChange(coins))"
   ]
  },
  {
   "cell_type": "markdown",
   "metadata": {},
   "source": [
    "## **Dynamic Programming conceptual summary**\n",
    "- **Optimal substructures(최적 부분구조)**: if an optimal solution can be constructed from optimal solutions of its subproblems\n",
    "- **Overlapping sub-problems(부분 문제중복)**: if the problem can be broken down into subproblems which are reused several times or a recursive algorithm for the probelm solves the same subproblem over and over rather than always generating new subproblems\n"
   ]
  },
  {
   "cell_type": "markdown",
   "metadata": {},
   "source": [
    "## **Dynamic Programming vs Divide and Conquer**\n",
    "- **Similarity**: Both have _Optimal Substructure_\n",
    "    - the problem can be broken into simpler sub-problems, and answering these sub-problems help solve the original (bigger) problem.\n",
    "- **Difference**: Dynamic programming problems have _Overlapping subproblems_, while divide and conquer problems do ___NOT___\n",
    "- _Example_: Quick sort is a type of divde and conquer algorithm. It does have an optimal structure, BUT when one pivot finds its place(a subproblem), this process is NEVER called again - NO overlapping subproblems\n",
    "- Memoization"
   ]
  },
  {
   "cell_type": "markdown",
   "metadata": {},
   "source": [
    "## **Sort() vs Sorted()**\n",
    "- Sort(): Sort the array in place\n",
    "- Sorted(): It returns a new sorted array\n"
   ]
  },
  {
   "cell_type": "markdown",
   "metadata": {},
   "source": [
    "## **Nth Fibonacci**\n",
    "### Solution 1 (Best) -DP Bottom-Up\n",
    "- Time Complexity: O(N)\n",
    "- Space Complexity: O(1)\n"
   ]
  },
  {
   "cell_type": "code",
   "execution_count": 2,
   "metadata": {},
   "outputs": [
    {
     "name": "stdout",
     "output_type": "stream",
     "text": [
      "218922995834555169026\n"
     ]
    }
   ],
   "source": [
    "def fibo(n):\n",
    "    lastTwo = [1, 1]\n",
    "    count = 2\n",
    "    while count < n:\n",
    "        lastTwo[0], lastTwo[1] = lastTwo[1], lastTwo[0] + lastTwo[1]\n",
    "        count += 1\n",
    "    return lastTwo[1] if n >= 2 else lastTwo[0]\n",
    "\n",
    "print(fibo(99))"
   ]
  },
  {
   "cell_type": "code",
   "execution_count": null,
   "metadata": {},
   "outputs": [],
   "source": [
    "def getNthFibBest(n):\n",
    "    pass\n",
    "getNthFibBest(99)"
   ]
  },
  {
   "cell_type": "markdown",
   "metadata": {},
   "source": [
    "### Solution 2 (Better) - DP Top-Down Approach using Dictionary\n",
    "- Time Complexity: O(N)\n",
    "- Space Complexity: O(N)"
   ]
  },
  {
   "cell_type": "code",
   "execution_count": 5,
   "metadata": {},
   "outputs": [
    {
     "data": {
      "text/plain": [
       "218922995834555169026"
      ]
     },
     "execution_count": 5,
     "metadata": {},
     "output_type": "execute_result"
    }
   ],
   "source": [
    "def fibo(n, memoize):\n",
    "    if n not in memoize:\n",
    "        memoize[n] = fibo(n-1, memoize) + fibo(n-2, memoize)\n",
    "    return memoize[n]\n",
    "\n",
    "fibo(99, {1:1, 2:1})"
   ]
  },
  {
   "cell_type": "code",
   "execution_count": 4,
   "metadata": {},
   "outputs": [
    {
     "data": {
      "text/plain": [
       "218922995834555169026"
      ]
     },
     "execution_count": 4,
     "metadata": {},
     "output_type": "execute_result"
    }
   ],
   "source": [
    "def getNthFibBetter(n, memoize={1:1, 2:1}):\n",
    "    if n not in memoize:\n",
    "        memoize[n] = fibo(n-1, memoize) + fibo(n-2, memoize)\n",
    "    return memoize[n]\n",
    "getNthFibBetter(99)"
   ]
  },
  {
   "cell_type": "markdown",
   "metadata": {},
   "source": [
    "## **Max Subset Sum No Adjacent**\n",
    "### Solution\n",
    "- Time Complexity:\n",
    "- Space Complexity:"
   ]
  },
  {
   "cell_type": "code",
   "execution_count": 2,
   "metadata": {},
   "outputs": [
    {
     "data": {
      "text/plain": [
       "(285, 330)"
      ]
     },
     "execution_count": 2,
     "metadata": {},
     "output_type": "execute_result"
    }
   ],
   "source": [
    "def maxSubsetSumNoAdjacent(arr):\n",
    "    if len(arr) == 0:\n",
    "        return 0\n",
    "    if len(arr) == 1:\n",
    "        return arr[0]\n",
    "    lst = [arr[0], max(arr[0], arr[1])]\n",
    "    for i in range(2, len(arr)):\n",
    "        lst[0], lst[1] = lst[1], max(lst[1], lst[0] + arr[i])\n",
    "    return lst[0], lst[1]\n",
    "\n",
    "arr = [75, 105, 120, 75, 90, 135]\n",
    "maxSubsetSumNoAdjacent(arr)"
   ]
  },
  {
   "cell_type": "code",
   "execution_count": null,
   "metadata": {},
   "outputs": [],
   "source": [
    "def maxSubsetSumNoAdjacent(array):\n",
    "    pass\n",
    "array = [75, 105, 120, 75, 90, 135]\n",
    "maxSubsetSumNoAdjacent(array)"
   ]
  },
  {
   "cell_type": "markdown",
   "metadata": {},
   "source": [
    "## **Run length Encoding**\n",
    "Write a function that takes in a non-empty string and returns its run-length encoding.\n",
    "From Wikipedia, \"run-length encoding is a form of lossless data compression in which runs of data are stored as a single data value and count, rather than as the original run.\" For this problem, a run of data is any sequence of consecutive, identical characters. So the run `\"AAA\"` would be run-length-encoded as `\"3A\"`.\n",
    "To make things more complicated, however, the input string can contain all sorts of special characters, including numbers. And since encoded data must be decodable, this means that we can't naively run-length-encode long runs. For example, the run `\"AAAAAAAAAAAA\"` (12 `A`s), can't naively be encoded as `\"12A\"`, since this string can be decoded as either `\"AAAAAAAAAAAA\"` or `\"1AA\"`. Thus, long runs (runs of 10 or more characters) should be encoded in a split fashion; the aforementioned run should be encoded as `\"9A3A\"`.\n",
    " \n",
    "<**Sample Input**>\n",
    "```\n",
    "string = \"AAAAAAAAAAAAABBCCCCDD\"\n",
    "```\n",
    "<**Sample Output**>\n",
    "```\n",
    "\"9A4A2B4C2D\"\n",
    "```\n",
    "<**Question**>\n"
   ]
  },
  {
   "cell_type": "code",
   "execution_count": null,
   "metadata": {},
   "outputs": [],
   "source": [
    "def runLengthEncoding(string):\n",
    "    idx = 0\n",
    "    runLength = \"\"\n",
    "    while idx <= len(string)-1:\n",
    "        count = 1\n",
    "        while idx < len(string)-1 and string[idx] == string[idx+1]:\n",
    "            count += 1\n",
    "            idx += 1\n",
    "        while count > 9:\n",
    "            count -=9\n",
    "            runLength += \"9\" + string[idx]\n",
    "        runLength += str(count) + string[idx]\n",
    "        idx += 1\n",
    "    return runLength\n",
    "runLengthEncoding('AAAAAAAAAAAAABBCCCCDD')"
   ]
  },
  {
   "cell_type": "code",
   "execution_count": null,
   "metadata": {},
   "outputs": [],
   "source": [
    "def runLengthEncoding(string):\n",
    "    idx = 0\n",
    "    runLength = ''\n",
    "    while idx <= len(string)-1:\n",
    "        count = 1\n",
    "        while idx < len(string)-1 and string[idx] == string[idx+1]:\n",
    "            count += 1\n",
    "            idx += 1\n",
    "        while count > 9:\n",
    "            count = 0\n",
    "            runLength += \"9\" + string[idx]\n",
    "        runLength += str(count) + string[idx]\n",
    "        idx += 1\n",
    "    return runLength\n",
    "runLengthEncoding('AAAAAAAAAAAAABBCCCCDD')"
   ]
  },
  {
   "cell_type": "code",
   "execution_count": null,
   "metadata": {},
   "outputs": [],
   "source": [
    "def runLenEncoding(string):\n",
    "    answer = []\n",
    "    current = 1\n",
    "    for i in range(1, len(string)):\n",
    "        if string[i-1] != string[i] or current == 9:\n",
    "            answer.append(str(current) + string[i-1])\n",
    "            current = 0\n",
    "        current += 1\n",
    "        \n",
    "    answer.append(str(current) + string[-1])\n",
    "    return ''.join(answer)\n",
    "runLenEncoding('AAAAAAAAAAAAABBCCCCDD')"
   ]
  },
  {
   "cell_type": "markdown",
   "metadata": {},
   "source": [
    "## **Stack vs Queue**\n",
    "### Stack\n",
    "- Stack can be implemented with standard Python list"
   ]
  },
  {
   "cell_type": "code",
   "execution_count": null,
   "metadata": {},
   "outputs": [],
   "source": [
    "stack = []\n",
    "# Insert\n",
    "stack.append(3)\n",
    "stack.append(2)\n",
    "stack.append(1)\n",
    "# Delete\n",
    "stack.pop()\n",
    "print(stack)\n",
    "stack.append(1)\n",
    "# But, when you print a stack, make sure you print in reverse order (because the tail is the top)\n",
    "print(stack[::-1])"
   ]
  },
  {
   "cell_type": "markdown",
   "metadata": {},
   "source": [
    "### Queue\n",
    "- Queue needs an import of 'deque' library instead of a standard Python list"
   ]
  },
  {
   "cell_type": "code",
   "execution_count": null,
   "metadata": {},
   "outputs": [],
   "source": [
    "# Using a standard Python list\n",
    "queue = []\n",
    "queue.append(3)\n",
    "queue.append(2)\n",
    "queue.append(1)\n",
    "# you can delete the first item this way\n",
    "queue.pop(0)\n",
    "# BUT, this takes O(N) — NOT ideal !!!"
   ]
  },
  {
   "cell_type": "code",
   "execution_count": null,
   "metadata": {},
   "outputs": [],
   "source": [
    "from collections import deque\n",
    "# Append / popleft ==> both are O(1)\n",
    "# List 를 이용해서 queue를 구현하면 맨 앞에놈을 꺼낼때 O(N)이 드는거나 마찬가지다.\n",
    "\n",
    "queue = deque()\n",
    "# Insert\n",
    "queue.append(5)\n",
    "queue.append(2)\n",
    "queue.append(3)\n",
    "queue.append(7)\n",
    "# Delete\n",
    "queue.popleft()\n",
    "print(queue)"
   ]
  },
  {
   "cell_type": "markdown",
   "metadata": {},
   "source": [
    "## **Factorial**"
   ]
  },
  {
   "cell_type": "code",
   "execution_count": null,
   "metadata": {},
   "outputs": [],
   "source": [
    "def factorial(N):\n",
    "    current = 1\n",
    "    while N > 0:\n",
    "        current *= N\n",
    "        N -= 1   \n",
    "    return current\n",
    "N = 5\n",
    "factorial(N)"
   ]
  },
  {
   "cell_type": "code",
   "execution_count": null,
   "metadata": {},
   "outputs": [],
   "source": [
    "# Factorial using recursion\n",
    "def recursiveFactorial(N):\n",
    "    if N == 1:\n",
    "        return N\n",
    "    return N * recursiveFactorial(N-1)\n",
    "N = 5\n",
    "recursiveFactorial(N)"
   ]
  },
  {
   "cell_type": "markdown",
   "metadata": {},
   "source": [
    "## **GCD**\n"
   ]
  },
  {
   "cell_type": "code",
   "execution_count": null,
   "metadata": {},
   "outputs": [],
   "source": [
    "# getGCD\n",
    "def getGCD(A, B):\n",
    "    if A % B == 0:\n",
    "        return B\n",
    "    return getGCD (B, A%B)\n",
    "getGCD(24, 64)"
   ]
  },
  {
   "cell_type": "markdown",
   "metadata": {},
   "source": [
    "## **BFS**\n",
    "Time : O(v+e)\\\n",
    "Space : O(v)\\\n",
    "where v refers to nodes or vertices and e refers to edges connecting the vertices\\\n",
    "==> adding each node to array takes O(v) time, and adding a child node takes O(e) time (because number of children nodes = number of edges)"
   ]
  },
  {
   "cell_type": "code",
   "execution_count": null,
   "metadata": {},
   "outputs": [],
   "source": [
    "from collections import deque\n",
    "\n",
    "class Node:\n",
    "    def __init__(self, name):\n",
    "        self.children = []\n",
    "        self.name = name\n",
    "        \n",
    "    def addChild(self, name):\n",
    "        self.children.append(Node(name))\n",
    "        return self\n",
    "    \n",
    "    def breadthFirstSearch(self, array):\n",
    "        queue = deque([self])\n",
    "        while queue:\n",
    "            current = queue.popleft() # O(1)\n",
    "            array.append(current.name) # O(v)\n",
    "            for child in current.children: # O(e) == O(v-1)\n",
    "                queue.append(child)\n",
    "        return array"
   ]
  },
  {
   "cell_type": "markdown",
   "metadata": {},
   "source": [
    "## **DFS**\n",
    "Time : O(v+e)\\\n",
    "Space : O(v)\\\n",
    "==> where v refers to nodes or vertices and e refers to edges connecting the vertices"
   ]
  },
  {
   "cell_type": "code",
   "execution_count": 3,
   "metadata": {},
   "outputs": [],
   "source": [
    "class Node:\n",
    "    def __init__(self, name):\n",
    "        self.children = []\n",
    "        self.name = name\n",
    "        \n",
    "    def addChild(self, name):\n",
    "        self.children.append(Node(name))\n",
    "        return self\n",
    "    \n",
    "    def depthFirstSearch(self, array):\n",
    "        array.append(self.name)\n",
    "        for child in self.children:\n",
    "            child.depthFirstSearch(array)\n",
    "        return array\n",
    "\n"
   ]
  },
  {
   "cell_type": "markdown",
   "metadata": {},
   "source": [
    "## **음료수 얼려 먹기(River Size)**\n",
    "- N X M 크기의 얼음 틀이 있습니다. 구멍이 뚫려 있는 부분은 0, 칸막이가 존재하는 부분은 1로 표시됩니다. 구멍이 뚫려 있는 부분끼리 상, 하, 좌, 우로 붙어 있는 경우 서로 연결되어 있는 것으로 간주합니다. 이때 <u>얼음 틀의 모양이 주어졌을 때, 생성되는 총 아이스크림의 개수를 구하는 프로그램을 작성</u>하세요. 다음의 4 X 5 얼음 틀 예시에서는 아이스크림이 총 3개 생성됩니다.\\\n",
    "============================================================================================================================================================\n",
    "00110\\\n",
    "00011\\\n",
    "11111\\\n",
    "00000\\\n",
    "============================================================================================================================================================"
   ]
  },
  {
   "cell_type": "code",
   "execution_count": null,
   "metadata": {},
   "outputs": [],
   "source": [
    "def riverSize(matrix):\n",
    "    pass\n",
    "        \n",
    "matrix = [\n",
    " [0,0,1,1,0],\n",
    " [0,0,0,1,1],\n",
    " [1,1,1,1,1],\n",
    " [0,0,0,0,0]]\n",
    "\n",
    "riverSize(matrix)"
   ]
  },
  {
   "cell_type": "markdown",
   "metadata": {},
   "source": [
    "## **Escape from Labyrinth**"
   ]
  },
  {
   "cell_type": "code",
   "execution_count": null,
   "metadata": {},
   "outputs": [],
   "source": [
    "def escapeFromLabyrinth(matrix):\n",
    "    pass\n",
    "matrix = [\n",
    "    [1,0,1,0,1,0],\n",
    "    [1,1,1,1,1,1],\n",
    "    [0,0,0,0,0,1],\n",
    "    [1,1,1,1,1,1],\n",
    "    [1,1,1,1,1,1]\n",
    "]\n",
    "escapeFromLabyrinth(matrix)"
   ]
  },
  {
   "cell_type": "markdown",
   "metadata": {},
   "source": [
    "## **Integer Triangle** <ECOTE>\n",
    "```\n",
    "              [[7],\n",
    "             [3, 8],\n",
    "            [8, 1, 0],\n",
    "          [2, 7, 4, 4],\n",
    "         [4, 5, 2, 6, 5]]\n",
    "```\n",
    "위 그림은 크기가 5인 정수 삼각형의 한 모습입니다.\n",
    "맨 위층 7부터 시작해서맨 위층 7부터 시작해서 아래에 있는 수 중 하나를 선택하여 아래층으로 내려올 때, 이제까지 선택된 수의 합이 최대가 되는 경로를 구하는 프로그램을 작성하세요. 아래층에 있는 수는 현재 층에서 선택된 수의 대각선 왼쪽 또는 대각선 오른쪽에 있는 것 중에서만 선택할 수 있습니다.\n",
    "\n",
    "<**Sample Input**>\n",
    "```\n",
    "위의 예시\n",
    "\n",
    "```\n",
    "<**Sample Output**>\n",
    "```\n",
    "30\n",
    "```\n",
    "\n"
   ]
  },
  {
   "cell_type": "markdown",
   "metadata": {},
   "source": [
    "#### Solution\n",
    "* Time Complexity: O(N)\n",
    "* Space Complexity: O(N)\n",
    "\n",
    "- This is similar to the Gold Mining problem (right above). This one is slightly more challenging because you'd have to find out patterns in indexes because each row has a different number of items in the array."
   ]
  },
  {
   "cell_type": "code",
   "execution_count": 5,
   "metadata": {},
   "outputs": [
    {
     "name": "stdout",
     "output_type": "stream",
     "text": [
      "0\n",
      "1\n",
      "0\n",
      "1\n",
      "2\n",
      "0\n",
      "1\n",
      "2\n",
      "3\n",
      "0\n",
      "1\n",
      "2\n",
      "3\n",
      "4\n",
      "6\n"
     ]
    }
   ],
   "source": [
    "def getIntegerTriangle(matrix):\n",
    "    # Make sure you ask the interviewer if it's okay to update numbers in place.\n",
    "    # Otherwise, create a new array and copy the original matrix:\n",
    "    # newMatrix = matrix[:] ==> note that list copy takes O(N) time.\n",
    "    for rowIdx in range(1, len(matrix)):\n",
    "        # print(rowIdx) 1, 2, 3, 4\n",
    "        for colIdx in range(len(matrix[rowIdx])):\n",
    "            # print(colIdx) [0], [0, 1], [0, 1, 2]. [0, 1, 2, 3], [0, 1, 2, 3, 4]\n",
    "            current = -1 # this will be updated in any case\n",
    "            if colIdx > 0:\n",
    "                current = max(current, matrix[rowIdx-1][colIdx-1])\n",
    "            if colIdx < len(matrix[rowIdx])-1:\n",
    "                current = max(current, matrix[rowIdx-1][colIdx])\n",
    "            matrix[rowIdx][colIdx] += current\n",
    "    return max(matrix[-1])\n",
    "\n",
    "matrix =      [[7], # [0, 0]\n",
    "             [3, 8],    # [1, 0], [1, 1]\n",
    "            [8, 1, 0],  # [2, 0], [2, 1], [2, 2]\n",
    "          [2, 7, 4, 4], # [3, 0], [3, 1], [3, 2], [3, 3]\n",
    "         [4, 5, 2, 6, 5]]   # [4, 0], [4, 1], [4, 2], [4, 3], [4, 4]\n",
    "         \n",
    "print(getIntegerTriangle(matrix))"
   ]
  },
  {
   "cell_type": "markdown",
   "metadata": {},
   "source": [
    "## **Longest Increasing Subsequence** <ECOTE>\n",
    "Given a non-empty array of integers, write a function that returns the longest strictly-increasing subsequence in the array.\n",
    "\n",
    "A subsequence of an array is a set of numbers that aren't necessarily adjacent in the array but that are in the same order as they appear in the array. For instance, the numbers `[1, 3, 4]` for a subsequence of the array `[1, 2, 3, 4]`, and so do the numbers `[2, 4]`. Note that a single number in an array and the array itself are both valid subsequences of the array.\n",
    "\n",
    "You can assume that there will only be one longest increasing subsequence.\n",
    "\n",
    "<**Sample Input1**>\n",
    "```\n",
    "array = [4, 2, 5, 8, 4, 11, 15]\n",
    "```\n",
    "<**Sample Output1**>\n",
    "```\n",
    "5\n",
    "```\n",
    "\n",
    "<**Sample Input2**>\n",
    "```\n",
    "array = [5, 7, -24, 12, 10, 2, 3, 12, 5, 6, 35]\n",
    "```\n",
    "<**Sample Output2**>\n",
    "```\n",
    "6\n",
    "```\n"
   ]
  },
  {
   "cell_type": "markdown",
   "metadata": {},
   "source": [
    "#### Solution\n",
    "* Time Complexity: O(N^2)\n",
    "* Space Complexity: O(N)"
   ]
  },
  {
   "cell_type": "code",
   "execution_count": 12,
   "metadata": {},
   "outputs": [
    {
     "name": "stdout",
     "output_type": "stream",
     "text": [
      "[1, 1, 1, 1, 1, 1, 1]\n",
      "5\n"
     ]
    }
   ],
   "source": [
    "def LIS_length(array):\n",
    "    dp = [1] * len(array)\n",
    "    print(dp)\n",
    "    for i in range(1, len(array)): # idx 1 ~ 6\n",
    "        for j in range(i):  # if i=6, j=5\n",
    "            if array[j] < array[i]: # Longest Decreasing Subsequence의 경우 등호만 바꾸면 됨. if array[5] < array[6]\n",
    "                dp[i] = max(dp[i], dp[j]+1) # dp[6] = max(dp[6], dp[5]+1)\n",
    "                # dp = [1, 1, 2, 3, 2, 4, 5]\n",
    "    return max(dp)\n",
    "\n",
    "array = [4, 2, 5, 8, 4, 11, 15]\n",
    "# array = [5, 7, -24, 12, 10, 2, 3, 12, 5, 6, 35]\n",
    "print(LIS_length(array))"
   ]
  },
  {
   "cell_type": "markdown",
   "metadata": {},
   "source": [
    "## **Making it 1 1만들기** <ECOTE>\n",
    "When an integer X is given, there are 4 possible operators:\n",
    "1. Divide by 5 if possible\n",
    "2. Divide by 3 if possible\n",
    "3. Divide by 2 if possible\n",
    "4. Subtract 1\n",
    "\n",
    "When an integer X is given, we'd like to use 4 operators to make it 1. Minimize the number of operations.\n",
    "\n",
    "<**Sample Input**>\n",
    "```\n",
    "n=26\n",
    "```\n",
    "<**Sample Output**>\n",
    "```\n",
    "3 (26 -> 25 -> 5 -> 1)\n",
    "```\n",
    "\n",
    "<**Question**>\n",
    "```\n",
    "def getNthFib(n):\n",
    "  # write your code here.\n",
    "  pass\n",
    "```"
   ]
  },
  {
   "cell_type": "markdown",
   "metadata": {},
   "source": [
    "#### Solution\n",
    "- Time Complexity: O(N)\n",
    "- Space Complexity: O(N)"
   ]
  },
  {
   "cell_type": "code",
   "execution_count": 2,
   "metadata": {},
   "outputs": [
    {
     "name": "stdout",
     "output_type": "stream",
     "text": [
      "3\n"
     ]
    }
   ],
   "source": [
    "def makeOne(num):\n",
    "    memoize = {1:0}\n",
    "\n",
    "    for i in range(2, num+1):\n",
    "        # Option 1 : subtract 1\n",
    "        memoize[i] = memoize[i-1]+1\n",
    "        # Option 2 : divide by 2\n",
    "        if i % 2 == 0:\n",
    "            memoize[i] = min(memoize[i], memoize[i//2]+1)\n",
    "        # Option 3 : divide by 3\n",
    "        if i % 3 == 0:\n",
    "            memoize[i] = min(memoize[i], memoize[i//3]+1)\n",
    "        # Option 5 : divide by 5\n",
    "        if i % 5 == 0:\n",
    "            memoize[i] = min(memoize[i], memoize[i//5]+1)\n",
    "        \n",
    "    return memoize[num]\n",
    "\n",
    "x = 26\n",
    "print(makeOne(x))\n"
   ]
  },
  {
   "cell_type": "markdown",
   "metadata": {},
   "source": []
  },
  {
   "cell_type": "code",
   "execution_count": 1,
   "metadata": {},
   "outputs": [
    {
     "name": "stdout",
     "output_type": "stream",
     "text": [
      "6\n"
     ]
    }
   ],
   "source": [
    "def minimumWaitingTime(queries):\n",
    "    queries.sort()\n",
    "    waitTime = 0\n",
    "    current = queries[0]\n",
    "\n",
    "    for i in range(1, len(queries)):\n",
    "        waitTime += current\n",
    "        current += queries[i]\n",
    "    return waitTime\n",
    "\n",
    "queries = [5, 1, 4]\n",
    "print(minimumWaitingTime(queries))"
   ]
  },
  {
   "cell_type": "markdown",
   "metadata": {},
   "source": []
  },
  {
   "cell_type": "code",
   "execution_count": 13,
   "metadata": {},
   "outputs": [
    {
     "name": "stdout",
     "output_type": "stream",
     "text": [
      "a\n",
      "a\n",
      "True\n"
     ]
    }
   ],
   "source": [
    "def palindromeCheck(string):\n",
    "    start, end = 0, len(string)-1\n",
    "    \n",
    "    while start <= end:\n",
    "        print(string[start]), print(string[end])\n",
    "        if string[start] != string[end]:\n",
    "            return False\n",
    "        start += 1\n",
    "        end -= 1\n",
    "    return True\n",
    "\n",
    "string = \"a\"\n",
    "print(palindromeCheck(string))"
   ]
  },
  {
   "cell_type": "markdown",
   "metadata": {},
   "source": []
  },
  {
   "cell_type": "code",
   "execution_count": 1,
   "metadata": {},
   "outputs": [
    {
     "name": "stdout",
     "output_type": "stream",
     "text": [
      "True\n"
     ]
    }
   ],
   "source": [
    "def validateSubsequence(array, sequence):\n",
    "    array_idx, sequence_idx = 0, 0\n",
    "    while array_idx < len(array) and sequence_idx < len(sequence):\n",
    "        if array[array_idx] == sequence[sequence_idx]:\n",
    "            sequence_idx += 1\n",
    "        array_idx += 1\n",
    "    return sequence_idx == len(sequence)\n",
    "\n",
    "array = [5, 1, 22, 25, 6, -1, 8, 10]\n",
    "sequence = [1, 6, -1, 10]\n",
    "\n",
    "print(validateSubsequence(array, sequence))"
   ]
  },
  {
   "cell_type": "markdown",
   "metadata": {},
   "source": []
  },
  {
   "cell_type": "code",
   "execution_count": 8,
   "metadata": {},
   "outputs": [
    {
     "ename": "TypeError",
     "evalue": "helper() missing 1 required positional argument: 'currentSum'",
     "output_type": "error",
     "traceback": [
      "\u001b[1;31m---------------------------------------------------------------------------\u001b[0m",
      "\u001b[1;31mTypeError\u001b[0m                                 Traceback (most recent call last)",
      "\u001b[1;32mc:\\Users\\chany\\Desktop\\Study\\Study\\Integration_Note.ipynb Cell 79'\u001b[0m in \u001b[0;36m<cell line: 29>\u001b[1;34m()\u001b[0m\n\u001b[0;32m     <a href='vscode-notebook-cell:/c%3A/Users/chany/Desktop/Study/Study/Integration_Note.ipynb#ch0000077?line=25'>26</a>\u001b[0m     tree\u001b[39m.\u001b[39mleft\u001b[39m.\u001b[39mleft\u001b[39m.\u001b[39mleft \u001b[39m=\u001b[39m Tree(\u001b[39m8\u001b[39m)\n\u001b[0;32m     <a href='vscode-notebook-cell:/c%3A/Users/chany/Desktop/Study/Study/Integration_Note.ipynb#ch0000077?line=26'>27</a>\u001b[0m     tree\u001b[39m.\u001b[39mleft\u001b[39m.\u001b[39mleft\u001b[39m.\u001b[39mright \u001b[39m=\u001b[39m Tree(\u001b[39m9\u001b[39m)\n\u001b[1;32m---> <a href='vscode-notebook-cell:/c%3A/Users/chany/Desktop/Study/Study/Integration_Note.ipynb#ch0000077?line=28'>29</a>\u001b[0m \u001b[39mprint\u001b[39m(sumOfDepths(tree))\n",
      "\u001b[1;32mc:\\Users\\chany\\Desktop\\Study\\Study\\Integration_Note.ipynb Cell 79'\u001b[0m in \u001b[0;36msumOfDepths\u001b[1;34m(tree)\u001b[0m\n\u001b[0;32m      <a href='vscode-notebook-cell:/c%3A/Users/chany/Desktop/Study/Study/Integration_Note.ipynb#ch0000077?line=6'>7</a>\u001b[0m \u001b[39mdef\u001b[39;00m \u001b[39msumOfDepths\u001b[39m(tree):\n\u001b[0;32m      <a href='vscode-notebook-cell:/c%3A/Users/chany/Desktop/Study/Study/Integration_Note.ipynb#ch0000077?line=7'>8</a>\u001b[0m     currentSum \u001b[39m=\u001b[39m \u001b[39m0\u001b[39m\n\u001b[1;32m----> <a href='vscode-notebook-cell:/c%3A/Users/chany/Desktop/Study/Study/Integration_Note.ipynb#ch0000077?line=8'>9</a>\u001b[0m     helper(tree, \u001b[39m0\u001b[39;49m)\n\u001b[0;32m     <a href='vscode-notebook-cell:/c%3A/Users/chany/Desktop/Study/Study/Integration_Note.ipynb#ch0000077?line=9'>10</a>\u001b[0m     \u001b[39mreturn\u001b[39;00m currentSum\n",
      "\u001b[1;31mTypeError\u001b[0m: helper() missing 1 required positional argument: 'currentSum'"
     ]
    }
   ],
   "source": [
    "class Tree:\n",
    "    def __init__(self, tree):\n",
    "        self.tree = tree\n",
    "        self.left = None\n",
    "        self.right = None\n",
    "\n",
    "def sumOfDepths(tree, depth=):\n",
    "    \n",
    "\n",
    "if __name__ == '__main__':\n",
    "    tree = Tree(1)\n",
    "    tree.left = Tree(2)\n",
    "    tree.right = Tree(3)\n",
    "    tree.left.left = Tree(4)\n",
    "    tree.left.right = Tree(5)\n",
    "    tree.right.left = Tree(6)\n",
    "    tree.right.right = Tree(7)\n",
    "    tree.left.left.left = Tree(8)\n",
    "    tree.left.left.right = Tree(9)\n",
    "\n",
    "print(sumOfDepths(tree))"
   ]
  }
 ],
 "metadata": {
  "interpreter": {
   "hash": "ab8efac205dea2fb1c4aa60caf35757690f75e415c93214de4ae1514926ac0ba"
  },
  "kernelspec": {
   "display_name": "Python 3.10.2 64-bit",
   "language": "python",
   "name": "python3"
  },
  "language_info": {
   "codemirror_mode": {
    "name": "ipython",
    "version": 3
   },
   "file_extension": ".py",
   "mimetype": "text/x-python",
   "name": "python",
   "nbconvert_exporter": "python",
   "pygments_lexer": "ipython3",
   "version": "3.10.2"
  },
  "orig_nbformat": 4
 },
 "nbformat": 4,
 "nbformat_minor": 2
}
