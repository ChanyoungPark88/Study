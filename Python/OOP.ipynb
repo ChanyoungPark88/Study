{
 "cells": [
  {
   "cell_type": "markdown",
   "metadata": {},
   "source": [
    "# What is OOP?\n",
    "\n",
    "Object = State(e.g. name, email) + behavior (e.g. function)\n",
    "The disticntive feature of OOP is that state and behavior are bundled together: instead of thinking of cunstomer data separately from customer actions, we think of them as one unit representing a customer. \n",
    "\n",
    "This is called encapsulation, and it's one of the core tenets of object-oriented-programming.\n",
    "\n",
    "**Encapsulation - bundling data with code operating on it**\n",
    "\n",
    "## Classes as blueprints\n",
    "- Class: blueprint for objects outlining possible states and behaviors\n",
    "\n",
    "## Objects = attributes + methods\n",
    "- State: attribute <-> **variables** <-> `obj.my_addribute`, (Attributes encode the state of an object and are represented by variables.)\n",
    "- Behavior: method <-> **function()** <-> `obj.my_method()`.\n",
    "- `dir(instance)` : lists all attributes and methods\n",
    "\n",
    "## Exploring object interface\n",
    "- type() :\n",
    "- dir() : \n",
    "- `help(x)` : calling `help()` in the console will show the documentation for the object or class `x`\n",
    "\n",
    "# Class anatomy: attributes and methods\n",
    "\n",
    "## What is self?\n",
    "- classes are templates, how to refer data of a particular object?\n",
    "- `self` is a stand-in for a particular object(=instance) used in class definition\n",
    "- should be the first argument of any method\n",
    "- Python will take care of `self` when method called from an object:\n",
    "`cust.identify(\"Laura\")` *will be interpreted as* `Customer.identify(cust, \"Laura\")`\n",
    "\n",
    "# Class anatomy: the __init__ constructor\n",
    "\n",
    "## Constructor\n",
    "- **Constructor** `__init__()` method is called every time an object is created.\n",
    "- If I have a class `Foo` then:\n",
    "    - `Foo()` is the **constructor**\n",
    "    - `Foo.__new__()` is the **allocator**\n",
    "    - `Foo.__init__()` is the **initializer**\n",
    "\n",
    "어떤 프로그래밍 언어이던간에, Constructor는 항상 Object가 메모리에 자리를 잡은 다음에 실행이 된다. 따라서 Python만 Constructor가 아닌 Initializer라고 할 필요는 없다. \n",
    "\n",
    "## Best practices\n",
    "1. **Initialize attributes in** `__init__()`\n",
    "2. **Naming**\n",
    "`CamelCase` for class, `lower_snake_case` for functions and attributes\n",
    "3. `self` **is** `self`\n",
    "4. **Use docstrings**\n",
    "\n",
    "```\n",
    "class MyClass:\n",
    "    \"\"\"This class does nothing\"\"\"\n",
    "    pass\n",
    "```\n",
    "\n",
    "# Instance and Class data\n",
    "## Class-level data\n",
    "- Data shared among all instances of a class\n",
    "- Define *class attributes* in the body of `class`\n",
    "```\n",
    "class MyClass:\n",
    "    # Define a class attribute\n",
    "    CLASS_ATTR_NAME = attr_value\n",
    "```"
   ]
  },
  {
   "cell_type": "code",
   "execution_count": 2,
   "metadata": {},
   "outputs": [
    {
     "name": "stdout",
     "output_type": "stream",
     "text": [
      "Invalid salary!\n",
      "Korel Rossi\n",
      "0\n"
     ]
    }
   ],
   "source": [
    "class Employee:\n",
    "    def __init__(self, name, salary=0):\n",
    "        self.name = name\n",
    "        if salary > 0:\n",
    "            self.salary = salary\n",
    "        else:\n",
    "            self.salary = 0\n",
    "            print(\"Invalid salary!\")\n",
    "\n",
    "emp = Employee(\"Korel Rossi\", -1000)\n",
    "print(emp.name)\n",
    "print(emp.salary)"
   ]
  }
 ],
 "metadata": {
  "interpreter": {
   "hash": "e8ee9b05f155c97516184f4906f5291164f9cbc240395c0f04d8e49084a1e150"
  },
  "kernelspec": {
   "display_name": "Python 3.10.2 64-bit",
   "language": "python",
   "name": "python3"
  },
  "language_info": {
   "codemirror_mode": {
    "name": "ipython",
    "version": 3
   },
   "file_extension": ".py",
   "mimetype": "text/x-python",
   "name": "python",
   "nbconvert_exporter": "python",
   "pygments_lexer": "ipython3",
   "version": "3.10.2"
  },
  "orig_nbformat": 4
 },
 "nbformat": 4,
 "nbformat_minor": 2
}
