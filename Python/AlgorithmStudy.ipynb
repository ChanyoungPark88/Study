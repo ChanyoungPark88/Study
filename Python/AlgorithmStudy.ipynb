{
 "cells": [
  {
   "cell_type": "markdown",
   "metadata": {},
   "source": [
    "### Find Closest Value in BST\n",
    "![FindClosestValueInBST](./image/FindClosestValueInBST.png)"
   ]
  },
  {
   "cell_type": "markdown",
   "metadata": {},
   "source": [
    "#### 풀이 순서\n",
    "1. tree의 root 값을 받으면서 시작.\n",
    "2. target과 root의 value의 차를 구한다.\n",
    "3. 현재 node(이하 current)와 target의 차(절대값)은 2.\n",
    "    3-1. current의 값이 현재까지는 target과의 가장 작은 차를 가지기 때문에 새로운 변수를 지정하여 값을 저장한다.\n",
    "    3-2. current의 값과 target의 차를 비교하여 업데이트를 할 변수를 생성한다\n",
    "4. target의 값이 current의 값보다 크기 때문에 right로 이동.\n",
    "5. current는 15로 변경.\n",
    "6. target과 current의 value의 차를 구한다.\n",
    "7. current와 target의 차(절대값)은 3.\n",
    "8. 이전의 current와 target의 차를 저장한 변수의 값과 현재의 차를 비교.\n",
    "9. 이전의 current와 target의 차를 저장한 변수의 값이 더 작기 때문에 업데이트가 일어나지 않는다.\n",
    "10. current의 값이 target보다 크기 때문에 left로 이동.\n",
    "11. current는 13으로 변경.\n",
    "12. target과 current의 value의 차를 구한다.\n",
    "13. current와 target의 차(절대값)은 1.\n",
    "14. 이전의 current와 target의 차를 저장한 변수의 값과 현재의 차를 비교.\n",
    "15. 현재의 차가 더 작기 때문에 변수의 값을 업데이트 해준다."
   ]
  },
  {
   "cell_type": "code",
   "execution_count": 1,
   "metadata": {},
   "outputs": [],
   "source": [
    "def findClosestValueInBST(tree, target):\n",
    "    current = tree\n",
    "    currentBestDifference = float('inf')\n",
    "    while current is not None:\n",
    "        if abs(current.value - target) < currentBestDifference:\n",
    "            currentBestValue = current.value\n",
    "            currentBestDifference = abs(current.value - target)\n",
    "        if current.value < target:\n",
    "            current = current.right\n",
    "        elif current.value > target:\n",
    "            current = current.left\n",
    "        else:\n",
    "            return current.value\n",
    "    return currentBestValue"
   ]
  },
  {
   "cell_type": "markdown",
   "metadata": {},
   "source": [
    "### DFS\n",
    "![DFS](./image/DFS.png)"
   ]
  },
  {
   "cell_type": "markdown",
   "metadata": {},
   "source": [
    "#### 풀이 순서\n",
    "1. A의 name을 output할 array에 append한다.\n",
    "2. A의 children은 B, C, D\n",
    "3. Children에서 Child를 하나씩 뽑는다(B부터)\n",
    "4. Node의 위치를 B로 이동한다.\n",
    "5. B의 name을 output할 array에 append한다.\n",
    "6. B의 children은 E, F\n",
    "7. Children에서 Child를 하나씩 뽑는다(E부터)\n",
    "8. Node의 위치를 E로 이동한다.\n",
    "9. E의 name을 ouput할 array에 append한다.\n",
    "10. E는 Children이 존재하지 않으므로 Node의 위치를 F로 이동한다.\n",
    "11. F의 name을 output할 array에 append한다.\n",
    "12. F의 Children은 I, J\n",
    "13. Children에서 Child를 하나씩 뽑는다(I부터)\n",
    "14. I의 name을 output할 array에 append한다.\n",
    ".\n",
    ".\n",
    ".\n"
   ]
  },
  {
   "cell_type": "code",
   "execution_count": 2,
   "metadata": {},
   "outputs": [],
   "source": [
    "class Node:\n",
    "    def __init__(self, name):\n",
    "        self.children = []\n",
    "        self.name = name\n",
    "\n",
    "    def addChild(self, name):\n",
    "        self.children.append(Node(name))\n",
    "        return self\n",
    "\n",
    "    def depthFirstSearch(self, array):\n",
    "        current = self\n",
    "        array.append(current.name)\n",
    "        for child in self.children:\n",
    "            child.depthFirstSearch(array)\n",
    "        return array"
   ]
  },
  {
   "cell_type": "markdown",
   "metadata": {},
   "source": [
    "### Branch Sums\n",
    "![BranchSums](./image/BranchSums.png)"
   ]
  },
  {
   "cell_type": "markdown",
   "metadata": {},
   "source": [
    "#### Sample Output\n",
    "[15, 16, 18, 10, 11]"
   ]
  },
  {
   "cell_type": "markdown",
   "metadata": {},
   "source": [
    "#### 풀이 순서\n",
    "1. 현재 노드 1까지의 값 1을 합에 저장한다\n",
    "2. 왼쪽 노드(2)로 내려간다(Stack Open - left, right)\n",
    "3. 현재까지 저장된 합에 현재 노드의 값 2를 더하여 저장한다 1 + 2\n",
    "4. 왼쪽 노드(4)로 내려간다(Stack Open - left, right)\n",
    "5. 현재까지 저장된 합에 현재 노드의 값 4를 더하여 저장한다 1 + 2 + 4\n",
    "6. 왼쪽 노드(8)로 내려간다(Stack Open - left, right)\n",
    "7. 현재까지 저장된 합에 현재 노드의 값 8을 더하여 저장한다 1 + 2 + 4 + 8\n",
    "8. 더 내려갈 노드가 없으므로(leaf node) 현재까지 저장된 합을 array에 append한다[15](Stack Close)\n",
    "9. 6번의 단계로 넘어가면서 열려있던 right stack이 동작한다\n",
    "10. "
   ]
  },
  {
   "cell_type": "code",
   "execution_count": 3,
   "metadata": {},
   "outputs": [],
   "source": [
    "class BinaryTree:\n",
    "    def __init__(self, value):\n",
    "        self.value = value\n",
    "        self.left = None\n",
    "        self.right = None\n",
    "\n",
    "def branchSums(root, total = 0, array = []):\n",
    "    current = root\n",
    "    if current is None:\n",
    "        return\n",
    "    if current.left is None and current.right is None:\n",
    "        array.append(total + current.value)\n",
    "    branchSums(current.left, total + current.value, array)\n",
    "    branchSums(current.right, total + current.value, array)\n",
    "    return array"
   ]
  },
  {
   "cell_type": "markdown",
   "metadata": {},
   "source": [
    "### Product Sum\n",
    "![ProductSum](./image/ProductSum.png)"
   ]
  },
  {
   "cell_type": "code",
   "execution_count": 4,
   "metadata": {},
   "outputs": [],
   "source": [
    "# [3, [6, [-13, 8], 4] ]\n",
    "\n",
    "# 3 depth : 1\n",
    "\n",
    "# [6, [-13, 8], 4] depth : 2\n",
    "# total : 6 + 4\n",
    "\n",
    "# [-13, 8] depth : 3\n",
    "# return : (-13+8) * 3\n",
    "\n",
    "# 1. nested 여부파악 (이유 : 가장 내려가려는거지)\n",
    "# 2. depth 가장 내려간 후에 --> product sum 실행\n",
    "# 3. depth * product sum\n",
    "# 4. depth : 2 --> product sum 실행\n",
    "# 5. depth * product sum\n",
    "# 6. depth : 1 --> product sum 실행\n",
    "# 7. depth가 1이면, depth(1) * product sum ==> Return !\n",
    "\n",
    "# '반복' ==> (1) recursive (2) iterative (루프활용)\n",
    "\n",
    "# 일단, recursion 으로 !\n",
    "# 그렇다면 생각해야할 것 두가지:\n",
    "# \t(1) Base case : depth 가 1일때 끝\n",
    "# \t(2) Call itself : ,,,"
   ]
  },
  {
   "cell_type": "code",
   "execution_count": 2,
   "metadata": {},
   "outputs": [
    {
     "name": "stdout",
     "output_type": "stream",
     "text": [
      "-7\n"
     ]
    }
   ],
   "source": [
    "def productSum(array, depth=1):\n",
    "    total = 0\n",
    "    for element in array:\n",
    "        if isinstance(element, list):\n",
    "            total += productSum(element, depth+1)\n",
    "        else:\n",
    "            total += element\n",
    "    return total * depth\n",
    "\n",
    "array = [3, [6, [-13, 8], 4] ]\n",
    "print(productSum(array))"
   ]
  },
  {
   "cell_type": "markdown",
   "metadata": {},
   "source": [
    "## Caesar Cipher Encryptor\n",
    "![CaesarCiipherEncryptor](./image/CaesarCipherEncryptor.png)"
   ]
  },
  {
   "cell_type": "code",
   "execution_count": 6,
   "metadata": {},
   "outputs": [],
   "source": [
    "# \tord z 100 \n",
    "# \t    y 99\n",
    "#       b   —> 숫자 78      1\n",
    "# \txyz key : 2\n",
    "\t\n",
    "# \tzab\n",
    "\t\n",
    "# \t1. take one element from the array\n",
    "# \t2. one element -> make it int\n",
    "# \t3. int + key\n",
    "#     if 'step 3' > ord('z') —> -26\n",
    "# \t4. turn the output into a character\n",
    "# \t5. put into an empty string"
   ]
  },
  {
   "cell_type": "code",
   "execution_count": 3,
   "metadata": {},
   "outputs": [
    {
     "name": "stdout",
     "output_type": "stream",
     "text": [
      "abc\n"
     ]
    }
   ],
   "source": [
    "def caesarCipherEncryptor(string, key):\n",
    "    alpha = 'abcdefghijklmnopqrstuvwxyz'\n",
    "    newString = []\n",
    "    for char in string:\n",
    "        charInt = alpha.index(char)     # index function takes O(N) complexity but, alphabet elements are just 26 so, It is O(1) complexity.\n",
    "        # charInt += (key % 26)\n",
    "        # if charInt > alpha.index('z'):\n",
    "        # \tcharInt -= 26\n",
    "        charInt = (charInt + key ) % 26\n",
    "        newString.append(alpha[charInt])\n",
    "    return ''.join(newString)\n",
    "string = 'xyz'\n",
    "key = 3\n",
    "print(caesarCipherEncryptor(string, key))"
   ]
  },
  {
   "cell_type": "markdown",
   "metadata": {},
   "source": [
    "## Class Photos\n",
    "![ClassPhotos](./image/ClassPhotos.png)"
   ]
  },
  {
   "cell_type": "code",
   "execution_count": 8,
   "metadata": {},
   "outputs": [],
   "source": [
    "# 1 3 5 8\n",
    "# 2 3 4 6\n",
    "\n",
    "# 0. 두 배열을 재정렬한다.\n",
    "# 1. 첫 번째 뽑아서 비교 -> 큰 쪽을 정한다.\n",
    "# 2. 두 번째부터는, 큰 쪽이 아니면, return False\n",
    "# 3…\n",
    "# 다 돌고 return True"
   ]
  },
  {
   "cell_type": "code",
   "execution_count": 9,
   "metadata": {},
   "outputs": [
    {
     "name": "stdout",
     "output_type": "stream",
     "text": [
      "True\n"
     ]
    }
   ],
   "source": [
    "def classPhotos(redShirtHeights, blueShirtHeights):\n",
    "    redShirtHeights.sort()\n",
    "    blueShirtHeights.sort()\n",
    "    isRedTaller = redShirtHeights[0] > blueShirtHeights[0]\n",
    "    for i in range(len(redShirtHeights)):\n",
    "        redTaller = redShirtHeights[i] > blueShirtHeights[i]\n",
    "        if redShirtHeights[i] == blueShirtHeights[i]:\n",
    "            return False\n",
    "        if isRedTaller == redTaller:\n",
    "            continue\n",
    "        else:\n",
    "            return False\n",
    "    return True\n",
    "redShirtHeights = [5, 8, 1, 3, 4]\n",
    "blueShirtHeights = [6, 9, 2, 4, 5]\n",
    "print(classPhotos(redShirtHeights, blueShirtHeights))\n"
   ]
  },
  {
   "cell_type": "markdown",
   "metadata": {},
   "source": [
    "## Monotonic Array\n",
    "![MonotonicArray](./image/MonotonicArray.png)"
   ]
  },
  {
   "cell_type": "code",
   "execution_count": 10,
   "metadata": {},
   "outputs": [],
   "source": [
    "# nonin t t f f\n",
    "# nonde t f t f\n",
    "# noninc=true and\n",
    "\n",
    "\n",
    "# (noninc=true and nondec=false) or (noninc=false and nondec=true)\n",
    "# or (noninc=false and nondec=false)\n",
    "\n",
    "# -1 -1\n",
    "# true\n",
    "\n",
    "# 1 3 3\n",
    "# true\n",
    "\n",
    "# (1) 일단, increasing/decreasing 방향성 조사\n",
    "# (2) 뒤로 가면서 조건 부합 검사"
   ]
  },
  {
   "cell_type": "code",
   "execution_count": 5,
   "metadata": {},
   "outputs": [
    {
     "name": "stdout",
     "output_type": "stream",
     "text": [
      "True\n"
     ]
    }
   ],
   "source": [
    "def isMonotonic(array):\n",
    "    #     Edge Case\n",
    "\tif not array or len(array) == 1:\n",
    "\t\treturn True\n",
    "\tnonIncreasing = False\n",
    "\tnonDecreasing = False\n",
    "\t\n",
    "\tfor i in range(len(array)-1):\n",
    "\t\tif array[i] < array[i+1]:\n",
    "\t\t\tnonDecreasing = True\n",
    "\t\tif array[i] > array[i+1]:\n",
    "\t\t\tnonIncreasing = True\n",
    "\treturn not all([nonIncreasing, nonDecreasing])\n",
    "\n",
    "array = [-1, -5, -100, -1100, -1100, -1101, -1102, -9001]\n",
    "print(isMonotonic(array))"
   ]
  },
  {
   "cell_type": "markdown",
   "metadata": {},
   "source": [
    "## Sorted Square Aray\n",
    "![SortedSquaredArray](./image/SortedSquaredArray.png)"
   ]
  },
  {
   "cell_type": "code",
   "execution_count": 12,
   "metadata": {},
   "outputs": [
    {
     "name": "stdout",
     "output_type": "stream",
     "text": [
      "[1, 9, 9, 64, 64]\n"
     ]
    }
   ],
   "source": [
    "def sortedSquaredArray(array):\n",
    "    newArr = [0] * len(array)\n",
    "    count = 0\n",
    "    start, end = 0, len(array)-1\n",
    "    while start <= end:\n",
    "        if abs(array[start]) > abs(array[end]):\n",
    "            newArr[len(array)-1-count] = array[start] ** 2\n",
    "            start += 1\n",
    "        else:\n",
    "            newArr[len(array)-1-count] = array[start] ** 2\n",
    "            end -=1\n",
    "        count += 1\n",
    "    return newArr\n",
    "\n",
    "array = [-8, -3, 1, 5, 9]\n",
    "print(sortedSquaredArray(array))"
   ]
  },
  {
   "cell_type": "markdown",
   "metadata": {},
   "source": [
    "## Two Number Sum\n",
    "![TwoNumberSum](./image/TwoNumberSum.png)"
   ]
  },
  {
   "cell_type": "code",
   "execution_count": 1,
   "metadata": {},
   "outputs": [
    {
     "name": "stdout",
     "output_type": "stream",
     "text": [
      "[-1, 11]\n"
     ]
    }
   ],
   "source": [
    "def twoNumberSum(array, targetSum):\n",
    "    array.sort()\n",
    "    left, right = 0, len(array)-1\n",
    "    while left < right:\n",
    "        currentSum = array[left] + array[right]\n",
    "        if currentSum == targetSum:\n",
    "            return [array[left], array[right]]\n",
    "        elif currentSum > targetSum:\n",
    "            right -= 1\n",
    "        else:\n",
    "            left += 1\n",
    "    return []\n",
    "\n",
    "array = [3, 5, -4, 8, 11, 1, -1, 6]\n",
    "targetSum = 10\n",
    "\n",
    "print(twoNumberSum(array,targetSum))"
   ]
  },
  {
   "cell_type": "markdown",
   "metadata": {},
   "source": [
    "## Non Constructible Change\n",
    "![NonConstructibleChange](./image/NonConstructibleChange.png)"
   ]
  },
  {
   "cell_type": "code",
   "execution_count": 1,
   "metadata": {},
   "outputs": [
    {
     "name": "stdout",
     "output_type": "stream",
     "text": [
      "20\n"
     ]
    }
   ],
   "source": [
    "def nonConstructibleChange(coins):\n",
    "    coins.sort()\n",
    "    minChange = 1\n",
    "    for coin in coins:\n",
    "        if coin <= minChange:\n",
    "            minChange += coin\n",
    "        else:\n",
    "            return minChange\n",
    "    return minChange\n",
    "\n",
    "coins = [5, 7, 1, 1, 2, 3, 22]\n",
    "print(nonConstructibleChange(coins))"
   ]
  },
  {
   "cell_type": "markdown",
   "metadata": {},
   "source": [
    "## Remove Duplicates from Linked List\n",
    "![RemoveDuplicatesFromLinkedList](./image/RemoveDuplicatesFromLinkedList.png)"
   ]
  },
  {
   "cell_type": "code",
   "execution_count": null,
   "metadata": {},
   "outputs": [],
   "source": [
    "class LinkedList:\n",
    "    def __init__(self, value):\n",
    "        self.value = value\n",
    "        self.next = None\n",
    "def removeDuplicatesFromLinkedList(linkedList):\n",
    "    if linkedList is None:\n",
    "        return None\n",
    "    currentNode = linkedList\n",
    "    while currentNode.next is not None:\n",
    "        if currentNode.value == currentNode.next.value:\n",
    "            currentNode.next = currentNode.next.next\n",
    "        else:\n",
    "            currentNode = currentNode.next\n",
    "    return linkedList\n",
    "\n"
   ]
  },
  {
   "cell_type": "markdown",
   "metadata": {},
   "source": [
    "## Three Number Sum\n",
    "![ThreeNumberSum](./image/ThreeNumberSum.png)"
   ]
  },
  {
   "cell_type": "code",
   "execution_count": null,
   "metadata": {},
   "outputs": [],
   "source": [
    "def threeNumberSum(array, targetSum):\n",
    "    array.sort()\n",
    "    start = 0\n",
    "    answer = []\n",
    "    for start in range(len(array)-2):\n",
    "        middle, end = start + 1, len(array)-1\n",
    "        while middle < end:\n",
    "            currentSum = array[start] + array[middle] + array[end]\n",
    "            if currentSum == targetSum:\n",
    "                answer.append([array[start], array[middle], array[end]])\n",
    "                middle += 1\n",
    "                end -= 1\n",
    "            elif currentSum > targetSum:\n",
    "                end -= 1\n",
    "            else:\n",
    "                middle += 1\n",
    "    return answer\n",
    "    \n",
    "# (1) sort\n",
    "# (2) s,m,e 말 위치지정\n",
    "# (3) s는 고정. m,e만 이동\n",
    "# (4) s 위치 한칸 이동\n",
    "# (5) m,e 위치 새로 지정\n",
    "# (6) 3번 반복"
   ]
  },
  {
   "cell_type": "code",
   "execution_count": null,
   "metadata": {},
   "outputs": [],
   "source": [
    "string = '1921680'\n",
    "\n",
    "def validIPaddress(string):\n",
    "    ans = []\n",
    "    \n",
    "    return ans\n"
   ]
  },
  {
   "cell_type": "markdown",
   "metadata": {},
   "source": [
    " ## Tournament Winner\n",
    " ![TournamentWinner](./image/TournamentWinner.png)"
   ]
  },
  {
   "cell_type": "code",
   "execution_count": null,
   "metadata": {},
   "outputs": [],
   "source": [
    "def tournamentWinner(competitions, results):\n",
    "    currentBest = \"\"\n",
    "    scoresDic = {currentBest: 0}\n",
    "\t\n",
    "    for i in range(len(results)):\n",
    "        newKey = competitions[i][1-results[i]]\n",
    "        if newKey in scoresDic:\n",
    "            scoresDic[newKey] += 3\n",
    "        else:\n",
    "            scoresDic[newKey] = 3\n",
    "# \t\tUpdate the current best team\n",
    "        if scoresDic[newKey] > scoresDic[currentBest]:\n",
    "            currentBest = newKey\n",
    "\t\t\t\n",
    "    return currentBest\n",
    "\n",
    "\n",
    "# dic = {}\n",
    "# 1. 루프를 돌린다: competitions, results\n",
    "# 2. competitions [i] [1 - results[i]]사용해서,\n",
    "# \ti. 승자가 dic안에 있으면, 밸류를 +3 업데이트해준다.\n",
    "# \tii. 없으면, 키를 넣어주고, 밸류는 3으로 초기화한다.\n",
    "# 3. dictionary max값의 key를 리턴하라!"
   ]
  },
  {
   "cell_type": "markdown",
   "metadata": {},
   "source": [
    "## Run length Encoding\n",
    "![RunLengthEncoding](./image/RunLengthEncoding.png)"
   ]
  },
  {
   "cell_type": "code",
   "execution_count": null,
   "metadata": {},
   "outputs": [],
   "source": [
    "def runLengthEncoding(string):\n",
    "    counter = 0\n",
    "    answer = []\n",
    "    for idx, char in enumerate(string):\n",
    "        if idx==len(string)-1 or char!=string[idx+1] or counter==8:\n",
    "            answer.append(str(counter+1)+char)\n",
    "            counter = 0\n",
    "        else:\n",
    "            counter += 1\n",
    "    return ''.join(answer)\n",
    "\t\n",
    "# \tA:13 B:2 C:4 D:2\n",
    "# \t2B1C  D\n",
    "\n",
    "# \tcounter\n",
    "# \tanswer = []\n",
    "# \t1. read character from string\n",
    "# \t i. 인덱스범위안! 뒤에와 비교해서 다르면 멈출거고, 혹은 9를 넘기면 멈출거임.\n",
    "# \t\ta. answer에 어펜드 (카운터+1 + 현재 캐릭터)\n",
    "#       b. count=0\n",
    "#    ii.뒤에랑 같으면, \n",
    "#       a. count +1\n",
    "#    마지막 루프처리!\n",
    "\t\n",
    "# 별로인 풀이\n",
    "# def runLengthEncoding(string):\n",
    "#     lst = []\n",
    "# \tcount = 0\n",
    "# \tfor idx, char in enumerate(string):\n",
    "# \t\tif idx == len(string)-1 or char != string[idx+1]:\n",
    "# \t\t\tcount += 1\n",
    "# \t\t\twhile count > 9:\n",
    "# \t\t\t\tlst.append('9' + char)\n",
    "# \t\t\t\tcount -= 9\n",
    "# \t\t\tlst.append(str(count) + char)\n",
    "# \t\t\tcount = 0\n",
    "# \t\telse:\n",
    "# \t\t\tcount += 1\n",
    "# \treturn ''.join(lst)"
   ]
  },
  {
   "cell_type": "markdown",
   "metadata": {},
   "source": [
    "## Generate Document\n",
    "![GenerateDocument](./image/GenerateDocument.png)\n"
   ]
  },
  {
   "cell_type": "code",
   "execution_count": 2,
   "metadata": {},
   "outputs": [],
   "source": [
    "from collections import Counter\n",
    "\n",
    "def generateDocument(characters, document):\n",
    "    dic = Counter(characters)\n",
    "    for char in document:\n",
    "        if char not in dic:\n",
    "            return False\n",
    "        dic[char] -= 1\n",
    "        if dic[char] < 0:\n",
    "            return False\n",
    "    return True\n",
    "\t\t\n",
    "# characters : c d e\n",
    "# dic = {c:1 , d:-1 , e:1, f;1}\n",
    "# document : d ec\n",
    "\n",
    "# i) document 캐릭터의 key가 더 많은 경우 (key가 더 많음)\n",
    "# ii) document 캐릭터 개수가 더 많은경우 (value가 더 큼)"
   ]
  },
  {
   "cell_type": "markdown",
   "metadata": {},
   "source": [
    "## Tandem Bicycle\n",
    "![TandemBicycle](./image/TandemBicycle.png)"
   ]
  },
  {
   "cell_type": "code",
   "execution_count": 3,
   "metadata": {},
   "outputs": [],
   "source": [
    "def tandemBicycle(redShirtSpeeds, blueShirtSpeeds, fastest):\n",
    "    redShirtSpeeds.sort()\n",
    "    blueShirtSpeeds.sort(reverse=fastest)\n",
    "\t# if fastest:\t\n",
    "\t# \tredShirtSpeeds.sort()\n",
    "\t# \tblueShirtSpeeds.sort(reverse=True)\n",
    "\t# else:\n",
    "\t# \tblueShirtSpeeds.sort()\n",
    "\t# \tredShirtSpeeds.sort()\n",
    "    total = 0\n",
    "    for i in range(len(redShirtSpeeds)):\n",
    "        total += max(redShirtSpeeds[i], blueShirtSpeeds[i])\n",
    "\t\t\n",
    "    return total\n",
    "\n",
    "# 9 5 5 3 2\n",
    "# 1 2 3 6 7\n",
    "\n",
    "# fatest false —> 둘다 같은 방향으로 정렬\n",
    "#        true —>"
   ]
  },
  {
   "cell_type": "markdown",
   "metadata": {},
   "source": [
    "## Validate Subsequence\n",
    "![ValidateSubsequence](./image/ValidateSubsequence.png)"
   ]
  },
  {
   "cell_type": "code",
   "execution_count": 4,
   "metadata": {},
   "outputs": [],
   "source": [
    "def isValidSubsequence(array, sequence):\n",
    "    seq_idx = 0\n",
    "    for array_idx in range(len(array)):\n",
    "        if seq_idx > len(sequence)-1:\n",
    "            break\n",
    "        if array[array_idx] == sequence[seq_idx]:\n",
    "            seq_idx += 1\n",
    "    return seq_idx == len(sequence)\n",
    "\t  \n",
    "\t#                     a\n",
    "\t# 5 1 22 25 6 -1 8 10\n",
    "\t#              s\n",
    "\t# 1 6 -1 10\n",
    "            \n",
    "# array = ''\n",
    "             \n",
    "# sequence = ''\n",
    "# i) sequence보다 array가 많고, true인 상황\n",
    "# ii) array보다 sequence가 많은 상황, true인 상황\n",
    "\n",
    "# array[0] sequence[0] 비교\n",
    "#  -> 안같으면 a+1\n",
    "# array[1] sequence[0] 비교\n",
    "#  -> 같으면 s+1 / a+1\n",
    "# .\n",
    "# .\n",
    "# while s < len(sequence)\n",
    "# --> 멍청멍청: '같지 않은 상황이면' 무한 루프돈다."
   ]
  }
 ],
 "metadata": {
  "interpreter": {
   "hash": "ab8efac205dea2fb1c4aa60caf35757690f75e415c93214de4ae1514926ac0ba"
  },
  "kernelspec": {
   "display_name": "Python 3.10.2 64-bit",
   "language": "python",
   "name": "python3"
  },
  "language_info": {
   "codemirror_mode": {
    "name": "ipython",
    "version": 3
   },
   "file_extension": ".py",
   "mimetype": "text/x-python",
   "name": "python",
   "nbconvert_exporter": "python",
   "pygments_lexer": "ipython3",
   "version": "3.10.2"
  },
  "orig_nbformat": 4
 },
 "nbformat": 4,
 "nbformat_minor": 2
}
