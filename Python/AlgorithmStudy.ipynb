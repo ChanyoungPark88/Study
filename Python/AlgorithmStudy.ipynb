{
 "cells": [
  {
   "cell_type": "markdown",
   "metadata": {},
   "source": [
    "# **Sort & Search**\n",
    "\n",
    "**Sort & Search**에서는 **Best, Average, Worst**를 전부 확실히 알아야한다!\n",
    "\n",
    "## **Bubble Sort**\n",
    "Keyword: Maximum data move into end of array\n",
    "### Solution\n",
    "- Time Complexity: \n",
    "    - Best - O(N)\n",
    "    - Worst/Avg - O(N^2) \n",
    "- Space Complexity: \n",
    "    - O(1)"
   ]
  },
  {
   "cell_type": "code",
   "execution_count": null,
   "metadata": {},
   "outputs": [],
   "source": [
    "def bubbleSort(array):\n",
    "    isSorted = False # is array sorted?(True / False)\n",
    "    count = 0\n",
    "    while not isSorted: # Iterate during isSorted is not false\n",
    "        isSorted = True\n",
    "        for i in range(len(array) - 1 - count): # Why use len(array)-1? The reason why I compare between current index i and next index i + 1. That means, If I use len(array), It will compare with None(=out of range). That's why I use len(array)-1\n",
    "            if array[i] > array[i+1]:\n",
    "                array[i], array[i+1] = array[i+1], array[i]\n",
    "                isSorted = False\n",
    "        count += 1\n",
    "    return array\n",
    "\n",
    "array = [7, 5, 9, 0, 3, 1, 6, 2, 4, 8]\n",
    "bubbleSort(array)"
   ]
  },
  {
   "cell_type": "markdown",
   "metadata": {},
   "source": [
    "## **Selection Sort**\n",
    "Keyword: Select minimum data in array and move into first\n",
    "### Solution\n",
    "- Time Complexity: \n",
    "    - Best - O(N^2)\n",
    "    - Worst/Avg - O(N^2) \n",
    "- Space Complexity: \n",
    "    - O(1)"
   ]
  },
  {
   "cell_type": "code",
   "execution_count": null,
   "metadata": {},
   "outputs": [],
   "source": [
    "def selectionSort(array):\n",
    "    for i in range(len(array)-1): # First, Iterate all of the array and \n",
    "        minIdx = i # Most Important! I define the first index a minimum index. After then, I will compare between the value in minimum index and value of next index\n",
    "        for j in range(i + 1, len(array)): # Iterate from index i(=minimum) + 1 to len(array)\n",
    "            if array[minIdx] > array[j]:\n",
    "                minIdx = j\n",
    "        array[minIdx], array[i] = array[i], array[minIdx] # Swap\n",
    "    return array\n",
    "array = [7, 5, 9, 0, 3, 1, 6, 2, 4, 8]\n",
    "selectionSort(array)"
   ]
  },
  {
   "cell_type": "markdown",
   "metadata": {},
   "source": [
    "## **Insertion Sort**\n",
    "Keyword: Insert unsorted data into Sorted part\n",
    "### Solution\n",
    "- Time Complexity: \n",
    "    - Best - O(N)\n",
    "    - Worst/Avg - O(N^2) \n",
    "- Space Complexity: \n",
    "    - O(1)"
   ]
  },
  {
   "cell_type": "code",
   "execution_count": null,
   "metadata": {},
   "outputs": [],
   "source": [
    "def insertionSort(array):\n",
    "    for i in range(1, len(array)): # Iterate from index 1 to len(array). The reason that start from 1, I am going to compare with previous number.\n",
    "        j = i\n",
    "        while j > 0 and array[j-1] > array[j]: # During j is bigger than 0, if array[j] is smaller than array[j-1]\n",
    "            array[j-1], array[j] = array[j], array[j-1] # Swap\n",
    "            j -= 1 # After then, decrease j by 1. This process seperate sorted part and unsorted part. If this process is not exist, It will only compare between array[j] and array[j-1] while increase the index.\n",
    "    return array\n",
    "array = [7, 5, 9, 0, 3, 1, 6, 2, 4, 8]\n",
    "insertionSort(array)"
   ]
  },
  {
   "cell_type": "markdown",
   "metadata": {},
   "source": [
    "## **Quick Sort**\n",
    "### Solution\n",
    "- Time Complexity: \n",
    "    - Avg/Best - O(NlogN)\n",
    "    - Worst - O(N^2) \n",
    "- Space Complexity: \n",
    "    - O(logN)"
   ]
  },
  {
   "cell_type": "code",
   "execution_count": null,
   "metadata": {},
   "outputs": [],
   "source": [
    "def quickSort(array):\n",
    "    quickSortHelper(array, 0, len(array)-1)\n",
    "    return array\n",
    "\n",
    "def quickSortHelper(array, start, end):\n",
    "    if start > end: # if array have just one data, then quit\n",
    "        return\n",
    "    pivot = start # Fix the first index pivot\n",
    "    left = start + 1 # left is the data next to pivot\n",
    "    right = end # right is the last data in array\n",
    "    while left <= right: # Iterate until left reach to right\n",
    "        if array[left] > array[pivot] and array[pivot] > array[right]: # in this process I have to compare between pivot and left/right. In each steps, swat the left data and right data under condition where the left and right cannot be moved.\n",
    "            array[left], array[right] = array[right], array[left]\n",
    "        if array[left] <= array[pivot]: # left is must smaller than pivot(include same case)\n",
    "            left += 1\n",
    "        if array[pivot] <= array[right]: # right is must bigger than pivot(include same case)\n",
    "            right -= 1\n",
    "    array[pivot], array[right] = array[right], array[pivot] # after Iterate, swap the pivot data with right.\n",
    "    leftSmall = right - 1 - start < end - (right + 1) # quick sort is divided based on pivot due to the characteristic of algorithm. Before this process, pivot found right position after 1 circle of iteration. For now, I can be divided array based on pivot. In this process, I can compare between leftside of pivot and rightside of pivot. Then why am I doing this? The reason why, It's more faster to deal with small things first. After done 1 circle, array is explained like this [left] [pivot] [right]. HOWEVER! right and left is not value, It's an index. Index does not moving that's why I using right - 1 and right + 1.\n",
    "    if leftSmall:\n",
    "        quickSortHelper(array, start, right - 1)\n",
    "        quickSortHelper(array, right + 1, end)\n",
    "    else:\n",
    "        quickSortHelper(array, right + 1, end)\n",
    "        quickSortHelper(array, start, right - 1)        \n",
    "array = [7, 5, 9, 0, 3, 1, 6, 2, 4, 8]\n",
    "quickSort(array)"
   ]
  },
  {
   "cell_type": "code",
   "execution_count": null,
   "metadata": {},
   "outputs": [],
   "source": [
    "# Using python advantage\n",
    "def quickSort(array):\n",
    "    if len(array) <= 1: # if array have just one data, then quit\n",
    "        return array\n",
    "    pivot = array[0]\n",
    "    tail = array[1:]\n",
    "    \n",
    "    left = [x for x in tail if x <= pivot]\n",
    "    right = [x for x in tail if x > pivot]\n",
    "\n",
    "    return quickSort(left) + [pivot] + quickSort(right)\n",
    "array = [7, 5, 9, 0, 3, 1, 6, 2, 4, 8]\n",
    "quickSort(array)"
   ]
  },
  {
   "cell_type": "markdown",
   "metadata": {},
   "source": [
    "## **Counting Sort**\n",
    "### Solution\n",
    "- Time Complexity: O(N+K) N is the number of elements in array K is the largest number in array\n",
    "- Space Complexity: O(N+K) "
   ]
  },
  {
   "cell_type": "code",
   "execution_count": null,
   "metadata": {},
   "outputs": [],
   "source": [
    "# CountingSort\n",
    "# Time and Space complexity of Counting Sort is O(N+K).\n",
    "# Counting Sort is unefficient if has two data(one is smallest, one is biggest)\n",
    "# Counting Sort is efficient for many same value of data\n",
    "def countingSort(array):\n",
    "    answer = []\n",
    "    count = [0] * (max(array)+1)\n",
    "    for i in array:\n",
    "        count[i] += 1\n",
    "    \n",
    "    for idx, val in enumerate(count):\n",
    "        for j in range(val):\n",
    "            answer.append(idx)\n",
    "    return answer\n",
    "arr = [8, 5, 2, 9, 5, 6, 3, 1, 1, 9]\n",
    "print(countingSort(arr))"
   ]
  },
  {
   "cell_type": "markdown",
   "metadata": {},
   "source": [
    "## **Binary Search**\n",
    "### Solution\n",
    "- Time Complexity: O(logN)\n",
    "- Space Complexity: O(1)"
   ]
  },
  {
   "cell_type": "code",
   "execution_count": null,
   "metadata": {},
   "outputs": [],
   "source": [
    "def binarySearch(array, target):\n",
    "    return helper(array, target, 0, len(array)-1)\n",
    "\n",
    "def helper(array, target, start, end):\n",
    "    if start > end:\n",
    "        return -1\n",
    "    mid = start + (end - start) // 2\n",
    "    if array[mid] == target:\n",
    "        return mid\n",
    "    elif array[mid] > target:\n",
    "        return helper(array, target, start, mid-1)\n",
    "    else:\n",
    "        return helper(array, target, mid+1, end)\n",
    "    \n",
    "array = [1,2,3,4,5,6,7,8,9,10]\n",
    "target = 3\n",
    "binarySearch(array,target)"
   ]
  },
  {
   "cell_type": "code",
   "execution_count": null,
   "metadata": {},
   "outputs": [],
   "source": [
    "def binarySearch(array, target):\n",
    "    left = 0\n",
    "    right = len(array)-1\n",
    "    while left <= right:\n",
    "        mid = left + (right - left) // 2\n",
    "        # array[mid] == target\n",
    "        if array[mid] == target:\n",
    "            return mid\n",
    "        elif array[mid] > target:\n",
    "            right = mid + 1\n",
    "        else:\n",
    "            left = mid - 1\n",
    "    return -1\n",
    "\n",
    "array = [1,2,3,4,5,6,7,8,9,10]\n",
    "target = 3\n",
    "binarySearch(array,target)"
   ]
  },
  {
   "cell_type": "markdown",
   "metadata": {},
   "source": [
    "# **Algorithm (Easy)**\n",
    "\n",
    "## **Find Closest Value in BST**\n",
    "![FindClosestValueInBST](./image/FindClosestValueInBST.png)"
   ]
  },
  {
   "cell_type": "markdown",
   "metadata": {},
   "source": [
    "#### 풀이 순서\n",
    "1. tree의 root 값을 받으면서 시작.\n",
    "2. target과 root의 value의 차를 구한다.\n",
    "3. 현재 node(이하 current)와 target의 차(절대값)은 2.\n",
    "    3-1. current의 값이 현재까지는 target과의 가장 작은 차를 가지기 때문에 새로운 변수를 지정하여 값을 저장한다.\n",
    "    3-2. current의 값과 target의 차를 비교하여 업데이트를 할 변수를 생성한다\n",
    "4. target의 값이 current의 값보다 크기 때문에 right로 이동.\n",
    "5. current는 15로 변경.\n",
    "6. target과 current의 value의 차를 구한다.\n",
    "7. current와 target의 차(절대값)은 3.\n",
    "8. 이전의 current와 target의 차를 저장한 변수의 값과 현재의 차를 비교.\n",
    "9. 이전의 current와 target의 차를 저장한 변수의 값이 더 작기 때문에 업데이트가 일어나지 않는다.\n",
    "10. current의 값이 target보다 크기 때문에 left로 이동.\n",
    "11. current는 13으로 변경.\n",
    "12. target과 current의 value의 차를 구한다.\n",
    "13. current와 target의 차(절대값)은 1.\n",
    "14. 이전의 current와 target의 차를 저장한 변수의 값과 현재의 차를 비교.\n",
    "15. 현재의 차가 더 작기 때문에 변수의 값을 업데이트 해준다."
   ]
  },
  {
   "cell_type": "code",
   "execution_count": 1,
   "metadata": {},
   "outputs": [],
   "source": [
    "def findClosestValueInBST(tree, target):\n",
    "    current = tree\n",
    "    currentBestDifference = float('inf')\n",
    "    while current is not None:\n",
    "        if abs(current.value - target) < currentBestDifference:\n",
    "            currentBestValue = current.value\n",
    "            currentBestDifference = abs(current.value - target)\n",
    "        if current.value < target:\n",
    "            current = current.right\n",
    "        elif current.value > target:\n",
    "            current = current.left\n",
    "        else:\n",
    "            return current.value\n",
    "    return currentBestValue"
   ]
  },
  {
   "cell_type": "markdown",
   "metadata": {},
   "source": [
    "## **DFS**\n",
    "![DFS](./image/DFS.png)"
   ]
  },
  {
   "cell_type": "markdown",
   "metadata": {},
   "source": [
    "#### 풀이 순서\n",
    "1. A의 name을 output할 array에 append한다.\n",
    "2. A의 children은 B, C, D\n",
    "3. Children에서 Child를 하나씩 뽑는다(B부터)\n",
    "4. Node의 위치를 B로 이동한다.\n",
    "5. B의 name을 output할 array에 append한다.\n",
    "6. B의 children은 E, F\n",
    "7. Children에서 Child를 하나씩 뽑는다(E부터)\n",
    "8. Node의 위치를 E로 이동한다.\n",
    "9. E의 name을 ouput할 array에 append한다.\n",
    "10. E는 Children이 존재하지 않으므로 Node의 위치를 F로 이동한다.\n",
    "11. F의 name을 output할 array에 append한다.\n",
    "12. F의 Children은 I, J\n",
    "13. Children에서 Child를 하나씩 뽑는다(I부터)\n",
    "14. I의 name을 output할 array에 append한다.\n",
    ".\n",
    ".\n",
    ".\n"
   ]
  },
  {
   "cell_type": "code",
   "execution_count": 2,
   "metadata": {},
   "outputs": [],
   "source": [
    "class Node:\n",
    "    def __init__(self, name):\n",
    "        self.children = []\n",
    "        self.name = name\n",
    "\n",
    "    def addChild(self, name):\n",
    "        self.children.append(Node(name))\n",
    "        return self\n",
    "\n",
    "    def depthFirstSearch(self, array):\n",
    "        current = self\n",
    "        array.append(current.name)\n",
    "        for child in self.children:\n",
    "            child.depthFirstSearch(array)\n",
    "        return array"
   ]
  },
  {
   "cell_type": "markdown",
   "metadata": {},
   "source": [
    "## **Branch Sums**\n",
    "![BranchSums](./image/BranchSums.png)"
   ]
  },
  {
   "cell_type": "markdown",
   "metadata": {},
   "source": [
    "#### Sample Output\n",
    "[15, 16, 18, 10, 11]"
   ]
  },
  {
   "cell_type": "markdown",
   "metadata": {},
   "source": [
    "#### 풀이 순서\n",
    "1. 현재 노드 1까지의 값 1을 합에 저장한다\n",
    "2. 왼쪽 노드(2)로 내려간다(Stack Open - left, right)\n",
    "3. 현재까지 저장된 합에 현재 노드의 값 2를 더하여 저장한다 1 + 2\n",
    "4. 왼쪽 노드(4)로 내려간다(Stack Open - left, right)\n",
    "5. 현재까지 저장된 합에 현재 노드의 값 4를 더하여 저장한다 1 + 2 + 4\n",
    "6. 왼쪽 노드(8)로 내려간다(Stack Open - left, right)\n",
    "7. 현재까지 저장된 합에 현재 노드의 값 8을 더하여 저장한다 1 + 2 + 4 + 8\n",
    "8. 더 내려갈 노드가 없으므로(leaf node) 현재까지 저장된 합을 array에 append한다[15](Stack Close)\n",
    "9. 6번의 단계로 넘어가면서 열려있던 right stack이 동작한다\n",
    "10. "
   ]
  },
  {
   "cell_type": "code",
   "execution_count": 3,
   "metadata": {},
   "outputs": [],
   "source": [
    "class BinaryTree:\n",
    "    def __init__(self, value):\n",
    "        self.value = value\n",
    "        self.left = None\n",
    "        self.right = None\n",
    "\n",
    "def branchSums(root, total = 0, array = []):\n",
    "    current = root\n",
    "    if current is None:\n",
    "        return\n",
    "    if current.left is None and current.right is None:\n",
    "        array.append(total + current.value)\n",
    "    branchSums(current.left, total + current.value, array)\n",
    "    branchSums(current.right, total + current.value, array)\n",
    "    return array"
   ]
  },
  {
   "cell_type": "markdown",
   "metadata": {},
   "source": [
    "## **Product Sum**\n",
    "![ProductSum](./image/ProductSum.png)"
   ]
  },
  {
   "cell_type": "code",
   "execution_count": 4,
   "metadata": {},
   "outputs": [],
   "source": [
    "# [3, [6, [-13, 8], 4] ]\n",
    "\n",
    "# 3 depth : 1\n",
    "\n",
    "# [6, [-13, 8], 4] depth : 2\n",
    "# total : 6 + 4\n",
    "\n",
    "# [-13, 8] depth : 3\n",
    "# return : (-13+8) * 3\n",
    "\n",
    "# 1. nested 여부파악 (이유 : 가장 내려가려는거지)\n",
    "# 2. depth 가장 내려간 후에 --> product sum 실행\n",
    "# 3. depth * product sum\n",
    "# 4. depth : 2 --> product sum 실행\n",
    "# 5. depth * product sum\n",
    "# 6. depth : 1 --> product sum 실행\n",
    "# 7. depth가 1이면, depth(1) * product sum ==> Return !\n",
    "\n",
    "# '반복' ==> (1) recursive (2) iterative (루프활용)\n",
    "\n",
    "# 일단, recursion 으로 !\n",
    "# 그렇다면 생각해야할 것 두가지:\n",
    "# \t(1) Base case : depth 가 1일때 끝\n",
    "# \t(2) Call itself : ,,,"
   ]
  },
  {
   "cell_type": "code",
   "execution_count": 2,
   "metadata": {},
   "outputs": [
    {
     "name": "stdout",
     "output_type": "stream",
     "text": [
      "-7\n"
     ]
    }
   ],
   "source": [
    "def productSum(array, depth=1):\n",
    "    total = 0\n",
    "    for element in array:\n",
    "        if isinstance(element, list):\n",
    "            total += productSum(element, depth+1)\n",
    "        else:\n",
    "            total += element\n",
    "    return total * depth\n",
    "\n",
    "array = [3, [6, [-13, 8], 4] ]\n",
    "print(productSum(array))"
   ]
  },
  {
   "cell_type": "markdown",
   "metadata": {},
   "source": [
    "## **Caesar Cipher Encryptor**\n",
    "![CaesarCiipherEncryptor](./image/CaesarCipherEncryptor.png)"
   ]
  },
  {
   "cell_type": "code",
   "execution_count": 6,
   "metadata": {},
   "outputs": [],
   "source": [
    "# \tord z 100 \n",
    "# \t    y 99\n",
    "#       b   —> 숫자 78      1\n",
    "# \txyz key : 2\n",
    "\t\n",
    "# \tzab\n",
    "\t\n",
    "# \t1. take one element from the array\n",
    "# \t2. one element -> make it int\n",
    "# \t3. int + key\n",
    "#     if 'step 3' > ord('z') —> -26\n",
    "# \t4. turn the output into a character\n",
    "# \t5. put into an empty string"
   ]
  },
  {
   "cell_type": "code",
   "execution_count": 3,
   "metadata": {},
   "outputs": [
    {
     "name": "stdout",
     "output_type": "stream",
     "text": [
      "abc\n"
     ]
    }
   ],
   "source": [
    "def caesarCipherEncryptor(string, key):\n",
    "    alpha = 'abcdefghijklmnopqrstuvwxyz'\n",
    "    newString = []\n",
    "    for char in string:\n",
    "        charInt = alpha.index(char)     # index function takes O(N) complexity but, alphabet elements are just 26 so, It is O(1) complexity.\n",
    "        # charInt += (key % 26)\n",
    "        # if charInt > alpha.index('z'):\n",
    "        # \tcharInt -= 26\n",
    "        charInt = (charInt + key ) % 26\n",
    "        newString.append(alpha[charInt])\n",
    "    return ''.join(newString)\n",
    "string = 'xyz'\n",
    "key = 3\n",
    "print(caesarCipherEncryptor(string, key))"
   ]
  },
  {
   "cell_type": "markdown",
   "metadata": {},
   "source": [
    "## **Class Photos**\n",
    "![ClassPhotos](./image/ClassPhotos.png)"
   ]
  },
  {
   "cell_type": "code",
   "execution_count": 8,
   "metadata": {},
   "outputs": [],
   "source": [
    "# 1 3 5 8\n",
    "# 2 3 4 6\n",
    "\n",
    "# 0. 두 배열을 재정렬한다.\n",
    "# 1. 첫 번째 뽑아서 비교 -> 큰 쪽을 정한다.\n",
    "# 2. 두 번째부터는, 큰 쪽이 아니면, return False\n",
    "# 3…\n",
    "# 다 돌고 return True"
   ]
  },
  {
   "cell_type": "code",
   "execution_count": 9,
   "metadata": {},
   "outputs": [
    {
     "name": "stdout",
     "output_type": "stream",
     "text": [
      "True\n"
     ]
    }
   ],
   "source": [
    "def classPhotos(redShirtHeights, blueShirtHeights):\n",
    "    redShirtHeights.sort()\n",
    "    blueShirtHeights.sort()\n",
    "    isRedTaller = redShirtHeights[0] > blueShirtHeights[0]\n",
    "    for i in range(len(redShirtHeights)):\n",
    "        redTaller = redShirtHeights[i] > blueShirtHeights[i]\n",
    "        if redShirtHeights[i] == blueShirtHeights[i]:\n",
    "            return False\n",
    "        if isRedTaller == redTaller:\n",
    "            continue\n",
    "        else:\n",
    "            return False\n",
    "    return True\n",
    "redShirtHeights = [5, 8, 1, 3, 4]\n",
    "blueShirtHeights = [6, 9, 2, 4, 5]\n",
    "print(classPhotos(redShirtHeights, blueShirtHeights))\n"
   ]
  },
  {
   "cell_type": "markdown",
   "metadata": {},
   "source": [
    "## **Monotonic Array**\n",
    "![MonotonicArray](./image/MonotonicArray.png)"
   ]
  },
  {
   "cell_type": "code",
   "execution_count": 10,
   "metadata": {},
   "outputs": [],
   "source": [
    "# nonin t t f f\n",
    "# nonde t f t f\n",
    "# noninc=true and\n",
    "\n",
    "\n",
    "# (noninc=true and nondec=false) or (noninc=false and nondec=true)\n",
    "# or (noninc=false and nondec=false)\n",
    "\n",
    "# -1 -1\n",
    "# true\n",
    "\n",
    "# 1 3 3\n",
    "# true\n",
    "\n",
    "# (1) 일단, increasing/decreasing 방향성 조사\n",
    "# (2) 뒤로 가면서 조건 부합 검사"
   ]
  },
  {
   "cell_type": "code",
   "execution_count": 5,
   "metadata": {},
   "outputs": [
    {
     "name": "stdout",
     "output_type": "stream",
     "text": [
      "True\n"
     ]
    }
   ],
   "source": [
    "def isMonotonic(array):\n",
    "    #     Edge Case\n",
    "\tif not array or len(array) == 1:\n",
    "\t\treturn True\n",
    "\tnonIncreasing = False\n",
    "\tnonDecreasing = False\n",
    "\t\n",
    "\tfor i in range(len(array)-1):\n",
    "\t\tif array[i] < array[i+1]:\n",
    "\t\t\tnonDecreasing = True\n",
    "\t\tif array[i] > array[i+1]:\n",
    "\t\t\tnonIncreasing = True\n",
    "\treturn not all([nonIncreasing, nonDecreasing])\n",
    "\n",
    "array = [-1, -5, -100, -1100, -1100, -1101, -1102, -9001]\n",
    "print(isMonotonic(array))"
   ]
  },
  {
   "cell_type": "markdown",
   "metadata": {},
   "source": [
    "## **Sorted Square Aray**\n",
    "![SortedSquaredArray](./image/SortedSquaredArray.png)"
   ]
  },
  {
   "cell_type": "code",
   "execution_count": 12,
   "metadata": {},
   "outputs": [
    {
     "name": "stdout",
     "output_type": "stream",
     "text": [
      "[1, 9, 9, 64, 64]\n"
     ]
    }
   ],
   "source": [
    "def sortedSquaredArray(array):\n",
    "    newArr = [0] * len(array)\n",
    "    count = 0\n",
    "    start, end = 0, len(array)-1\n",
    "    while start <= end:\n",
    "        if abs(array[start]) > abs(array[end]):\n",
    "            newArr[len(array)-1-count] = array[start] ** 2\n",
    "            start += 1\n",
    "        else:\n",
    "            newArr[len(array)-1-count] = array[start] ** 2\n",
    "            end -=1\n",
    "        count += 1\n",
    "    return newArr\n",
    "\n",
    "array = [-8, -3, 1, 5, 9]\n",
    "print(sortedSquaredArray(array))"
   ]
  },
  {
   "cell_type": "markdown",
   "metadata": {},
   "source": [
    "## **Two Number Sum**\n",
    "![TwoNumberSum](./image/TwoNumberSum.png)"
   ]
  },
  {
   "cell_type": "code",
   "execution_count": 1,
   "metadata": {},
   "outputs": [
    {
     "name": "stdout",
     "output_type": "stream",
     "text": [
      "[-1, 11]\n"
     ]
    }
   ],
   "source": [
    "def twoNumberSum(array, targetSum):\n",
    "    array.sort()\n",
    "    left, right = 0, len(array)-1\n",
    "    while left < right:\n",
    "        currentSum = array[left] + array[right]\n",
    "        if currentSum == targetSum:\n",
    "            return [array[left], array[right]]\n",
    "        elif currentSum > targetSum:\n",
    "            right -= 1\n",
    "        else:\n",
    "            left += 1\n",
    "    return []\n",
    "\n",
    "array = [3, 5, -4, 8, 11, 1, -1, 6]\n",
    "targetSum = 10\n",
    "\n",
    "print(twoNumberSum(array,targetSum))"
   ]
  },
  {
   "cell_type": "markdown",
   "metadata": {},
   "source": [
    "## **Non Constructible Change**\n",
    "![NonConstructibleChange](./image/NonConstructibleChange.png)"
   ]
  },
  {
   "cell_type": "code",
   "execution_count": 1,
   "metadata": {},
   "outputs": [
    {
     "name": "stdout",
     "output_type": "stream",
     "text": [
      "20\n"
     ]
    }
   ],
   "source": [
    "def nonConstructibleChange(coins):\n",
    "    coins.sort()\n",
    "    minChange = 1\n",
    "    for coin in coins:\n",
    "        if coin <= minChange:\n",
    "            minChange += coin\n",
    "        else:\n",
    "            return minChange\n",
    "    return minChange\n",
    "\n",
    "coins = [5, 7, 1, 1, 2, 3, 22]\n",
    "print(nonConstructibleChange(coins))"
   ]
  },
  {
   "cell_type": "markdown",
   "metadata": {},
   "source": [
    "## **Remove Duplicates from Linked List**\n",
    "![RemoveDuplicatesFromLinkedList](./image/RemoveDuplicatesFromLinkedList.png)"
   ]
  },
  {
   "cell_type": "code",
   "execution_count": null,
   "metadata": {},
   "outputs": [],
   "source": [
    "class LinkedList:\n",
    "    def __init__(self, value):\n",
    "        self.value = value\n",
    "        self.next = None\n",
    "def removeDuplicatesFromLinkedList(linkedList):\n",
    "    if linkedList is None:\n",
    "        return None\n",
    "    currentNode = linkedList\n",
    "    while currentNode.next is not None:\n",
    "        if currentNode.value == currentNode.next.value:\n",
    "            currentNode.next = currentNode.next.next\n",
    "        else:\n",
    "            currentNode = currentNode.next\n",
    "    return linkedList\n",
    "\n"
   ]
  },
  {
   "cell_type": "markdown",
   "metadata": {},
   "source": [
    "## **Three Number Sum**\n",
    "![ThreeNumberSum](./image/ThreeNumberSum.png)"
   ]
  },
  {
   "cell_type": "code",
   "execution_count": null,
   "metadata": {},
   "outputs": [],
   "source": [
    "def threeNumberSum(array, targetSum):\n",
    "    array.sort()\n",
    "    start = 0\n",
    "    answer = []\n",
    "    for start in range(len(array)-2):\n",
    "        middle, end = start + 1, len(array)-1\n",
    "        while middle < end:\n",
    "            currentSum = array[start] + array[middle] + array[end]\n",
    "            if currentSum == targetSum:\n",
    "                answer.append([array[start], array[middle], array[end]])\n",
    "                middle += 1\n",
    "                end -= 1\n",
    "            elif currentSum > targetSum:\n",
    "                end -= 1\n",
    "            else:\n",
    "                middle += 1\n",
    "    return answer\n",
    "    \n",
    "# (1) sort\n",
    "# (2) s,m,e 말 위치지정\n",
    "# (3) s는 고정. m,e만 이동\n",
    "# (4) s 위치 한칸 이동\n",
    "# (5) m,e 위치 새로 지정\n",
    "# (6) 3번 반복"
   ]
  },
  {
   "cell_type": "code",
   "execution_count": null,
   "metadata": {},
   "outputs": [],
   "source": [
    "string = '1921680'\n",
    "\n",
    "def validIPaddress(string):\n",
    "    ans = []\n",
    "    \n",
    "    return ans\n"
   ]
  },
  {
   "cell_type": "markdown",
   "metadata": {},
   "source": [
    " ## **Tournament Winner**\n",
    " ![TournamentWinner](./image/TournamentWinner.png)"
   ]
  },
  {
   "cell_type": "code",
   "execution_count": null,
   "metadata": {},
   "outputs": [],
   "source": [
    "def tournamentWinner(competitions, results):\n",
    "    currentBest = \"\"\n",
    "    scoresDic = {currentBest: 0}\n",
    "\t\n",
    "    for i in range(len(results)):\n",
    "        newKey = competitions[i][1-results[i]]\n",
    "        if newKey in scoresDic:\n",
    "            scoresDic[newKey] += 3\n",
    "        else:\n",
    "            scoresDic[newKey] = 3\n",
    "# \t\tUpdate the current best team\n",
    "        if scoresDic[newKey] > scoresDic[currentBest]:\n",
    "            currentBest = newKey\n",
    "\t\t\t\n",
    "    return currentBest\n",
    "\n",
    "\n",
    "# dic = {}\n",
    "# 1. 루프를 돌린다: competitions, results\n",
    "# 2. competitions [i] [1 - results[i]]사용해서,\n",
    "# \ti. 승자가 dic안에 있으면, 밸류를 +3 업데이트해준다.\n",
    "# \tii. 없으면, 키를 넣어주고, 밸류는 3으로 초기화한다.\n",
    "# 3. dictionary max값의 key를 리턴하라!"
   ]
  },
  {
   "cell_type": "markdown",
   "metadata": {},
   "source": [
    "## **Run length Encoding**\n",
    "![RunLengthEncoding](./image/RunLengthEncoding.png)"
   ]
  },
  {
   "cell_type": "code",
   "execution_count": null,
   "metadata": {},
   "outputs": [],
   "source": [
    "def runLengthEncoding(string):\n",
    "    counter = 0\n",
    "    answer = []\n",
    "    for idx, char in enumerate(string):\n",
    "        if idx==len(string)-1 or char!=string[idx+1] or counter==8:\n",
    "            answer.append(str(counter+1)+char)\n",
    "            counter = 0\n",
    "        else:\n",
    "            counter += 1\n",
    "    return ''.join(answer)\n",
    "\t\n",
    "# \tA:13 B:2 C:4 D:2\n",
    "# \t2B1C  D\n",
    "\n",
    "# \tcounter\n",
    "# \tanswer = []\n",
    "# \t1. read character from string\n",
    "# \t i. 인덱스범위안! 뒤에와 비교해서 다르면 멈출거고, 혹은 9를 넘기면 멈출거임.\n",
    "# \t\ta. answer에 어펜드 (카운터+1 + 현재 캐릭터)\n",
    "#       b. count=0\n",
    "#    ii.뒤에랑 같으면, \n",
    "#       a. count +1\n",
    "#    마지막 루프처리!\n",
    "\t\n",
    "# 별로인 풀이\n",
    "# def runLengthEncoding(string):\n",
    "#     lst = []\n",
    "# \tcount = 0\n",
    "# \tfor idx, char in enumerate(string):\n",
    "# \t\tif idx == len(string)-1 or char != string[idx+1]:\n",
    "# \t\t\tcount += 1\n",
    "# \t\t\twhile count > 9:\n",
    "# \t\t\t\tlst.append('9' + char)\n",
    "# \t\t\t\tcount -= 9\n",
    "# \t\t\tlst.append(str(count) + char)\n",
    "# \t\t\tcount = 0\n",
    "# \t\telse:\n",
    "# \t\t\tcount += 1\n",
    "# \treturn ''.join(lst)"
   ]
  },
  {
   "cell_type": "markdown",
   "metadata": {},
   "source": [
    "## **Generate Document**\n",
    "![GenerateDocument](./image/GenerateDocument.png)\n"
   ]
  },
  {
   "cell_type": "code",
   "execution_count": 2,
   "metadata": {},
   "outputs": [
    {
     "name": "stdout",
     "output_type": "stream",
     "text": [
      "True\n"
     ]
    }
   ],
   "source": [
    "from collections import Counter\n",
    "\n",
    "def generateDocument(characters, document):\n",
    "    dic = Counter(characters)\n",
    "    for char in document:\n",
    "        if char not in dic:\n",
    "            return False\n",
    "        dic[char] -= 1\n",
    "        if dic[char] < 0:\n",
    "            return False\n",
    "    return True\n",
    "characters = \"Bste!hetsi ogEAxpelrt x \"\n",
    "document = \"AlgoExpert is the Best!\"\n",
    "print(generateDocument(characters, document))\n",
    "# characters : c d e\n",
    "# dic = {c:1 , d:-1 , e:1, f;1}\n",
    "# document : d ec\n",
    "\n",
    "# i) document 캐릭터의 key가 더 많은 경우 (key가 더 많음)\n",
    "# ii) document 캐릭터 개수가 더 많은경우 (value가 더 큼)"
   ]
  },
  {
   "cell_type": "markdown",
   "metadata": {},
   "source": [
    "## **Tandem Bicycle**\n",
    "![TandemBicycle](./image/TandemBicycle.png)"
   ]
  },
  {
   "cell_type": "code",
   "execution_count": 6,
   "metadata": {},
   "outputs": [
    {
     "name": "stdout",
     "output_type": "stream",
     "text": [
      "32\n"
     ]
    }
   ],
   "source": [
    "def tandemBicycle(redShirtSpeeds, blueShirtSpeeds, fastest):\n",
    "    # redShirtSpeeds.sort()\n",
    "    # blueShirtSpeeds.sort(reverse=fastest)\n",
    "    if fastest:\t\n",
    "        redShirtSpeeds.sort()\n",
    "        blueShirtSpeeds.sort(reverse=True)\n",
    "    else:\n",
    "        blueShirtSpeeds.sort()\n",
    "        redShirtSpeeds.sort()\n",
    "    total = 0\n",
    "    for i in range(len(redShirtSpeeds)):\n",
    "        total += max(redShirtSpeeds[i], blueShirtSpeeds[i])\n",
    "\t\t\n",
    "    return total\n",
    "\n",
    "redShirtSpeeds = [5, 5, 3, 9, 2]\n",
    "blueShirtSpeeds = [3, 6, 7, 2, 1]\n",
    "fastest = True\n",
    "\n",
    "print(tandemBicycle(redShirtSpeeds, blueShirtSpeeds, fastest))\n",
    "# 9 5 5 3 2\n",
    "# 1 2 3 6 7\n",
    "\n",
    "# fatest false —> 둘다 같은 방향으로 정렬\n",
    "#        true —>"
   ]
  },
  {
   "cell_type": "markdown",
   "metadata": {},
   "source": [
    "## **Validate Subsequence**\n",
    "![ValidateSubsequence](./image/ValidateSubsequence.png)"
   ]
  },
  {
   "cell_type": "code",
   "execution_count": 7,
   "metadata": {},
   "outputs": [
    {
     "name": "stdout",
     "output_type": "stream",
     "text": [
      "True\n"
     ]
    }
   ],
   "source": [
    "def isValidSubsequence(array, sequence):\n",
    "    seq_idx = 0\n",
    "    for array_idx in range(len(array)):\n",
    "        if seq_idx > len(sequence)-1:\n",
    "            break\n",
    "        if array[array_idx] == sequence[seq_idx]:\n",
    "            seq_idx += 1\n",
    "    return seq_idx == len(sequence)\n",
    "\n",
    "array = [5, 1, 22, 25, 6, -1, 8, 10]\n",
    "sequence = [1, 6, -1, 10]\n",
    "\n",
    "print(isValidSubsequence(array, sequence))\t  \n",
    "\t#                     a\n",
    "\t# 5 1 22 25 6 -1 8 10\n",
    "\t#              s\n",
    "\t# 1 6 -1 10\n",
    "            \n",
    "# array = ''\n",
    "             \n",
    "# sequence = ''\n",
    "# i) sequence보다 array가 많고, true인 상황\n",
    "# ii) array보다 sequence가 많은 상황, true인 상황\n",
    "\n",
    "# array[0] sequence[0] 비교\n",
    "#  -> 안같으면 a+1\n",
    "# array[1] sequence[0] 비교\n",
    "#  -> 같으면 s+1 / a+1\n",
    "# .\n",
    "# .\n",
    "# while s < len(sequence)\n",
    "# --> 멍청멍청: '같지 않은 상황이면' 무한 루프돈다."
   ]
  },
  {
   "cell_type": "markdown",
   "metadata": {},
   "source": [
    "## **Nth Fibonacci**\n",
    "### Solution 1 (Best) -DP Bottom-Up\n",
    "- Time Complexity: O(N)\n",
    "- Space Complexity: O(1)"
   ]
  },
  {
   "cell_type": "code",
   "execution_count": null,
   "metadata": {},
   "outputs": [],
   "source": [
    "def fibo(n):\n",
    "    lastTwo = [1, 1]\n",
    "    count = 2\n",
    "    while count < n:\n",
    "        lastTwo[0], lastTwo[1] = lastTwo[1], lastTwo[0] + lastTwo[1]\n",
    "        count += 1\n",
    "    return lastTwo[1] if n >= 2 else lastTwo[0]\n",
    "\n",
    "print(fibo(99))"
   ]
  },
  {
   "cell_type": "markdown",
   "metadata": {},
   "source": [
    "### Solution 2 (Better) - DP Top-Down Approach using Dictionary\n",
    "- Time Complexity: O(N)\n",
    "- Space Complexity: O(N)"
   ]
  },
  {
   "cell_type": "code",
   "execution_count": null,
   "metadata": {},
   "outputs": [],
   "source": [
    "def fibo(n, memoize):\n",
    "    if n not in memoize:\n",
    "        memoize[n] = fibo(n-1, memoize) + fibo(n-2, memoize)\n",
    "    return memoize[n]\n",
    "\n",
    "fibo(99, {1:1, 2:1})"
   ]
  }
 ],
 "metadata": {
  "interpreter": {
   "hash": "ab8efac205dea2fb1c4aa60caf35757690f75e415c93214de4ae1514926ac0ba"
  },
  "kernelspec": {
   "display_name": "Python 3.10.2 64-bit",
   "language": "python",
   "name": "python3"
  },
  "language_info": {
   "codemirror_mode": {
    "name": "ipython",
    "version": 3
   },
   "file_extension": ".py",
   "mimetype": "text/x-python",
   "name": "python",
   "nbconvert_exporter": "python",
   "pygments_lexer": "ipython3",
   "version": "3.10.2"
  },
  "orig_nbformat": 4
 },
 "nbformat": 4,
 "nbformat_minor": 2
}
