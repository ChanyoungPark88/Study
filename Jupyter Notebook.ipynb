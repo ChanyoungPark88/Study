{
 "cells": [
  {
   "cell_type": "code",
   "execution_count": 15,
   "metadata": {},
   "outputs": [],
   "source": [
    "def bubbleSort(array):\n",
    "    isSorted = False\n",
    "    count = 0\n",
    "    while not isSorted:\n",
    "        isSorted = True\n",
    "        for i in range(len(array)-1-count):\n",
    "            if array[i] > array[i+1]:\n",
    "                array[i],array[i+1] = array[i+1],array[i]\n",
    "                isSorted = False\n",
    "            count += 1\n",
    "    return array"
   ]
  },
  {
   "cell_type": "code",
   "execution_count": 20,
   "metadata": {},
   "outputs": [],
   "source": [
    "def selectionSort(array):\n",
    "    for i in range(len(array)-1):\n",
    "        smallest = i\n",
    "        for j in range(i+1, len(array)):\n",
    "            if array[j] < array[smallest]:\n",
    "                array[j], array[smallest] = array[smallest],array[j]\n",
    "    return"
   ]
  },
  {
   "cell_type": "code",
   "execution_count": 21,
   "metadata": {},
   "outputs": [],
   "source": [
    "def insertionSort(array):\n",
    "    for i in range(1, len(array)):\n",
    "        j = i\n",
    "        while j > 0 or array[j] < array[j-1]:\n",
    "            array[j], array[j-1] = array[j-1], array[j]\n",
    "            j -= 1\n",
    "    return array"
   ]
  },
  {
   "cell_type": "code",
   "execution_count": 16,
   "metadata": {},
   "outputs": [],
   "source": [
    "def quickSort(array):\n",
    "    quickSortHelper(array, 0, len(array)-1)\n",
    "    return array\n",
    "\n",
    "def quickSortHelper(array, start, end):\n",
    "    if start >= end:\n",
    "        return\n",
    "    pivot = start\n",
    "    left = start + 1\n",
    "    right = end\n",
    "    while left <= right:\n",
    "        if array[left] > array[pivot] and array[right] < array[pivot]:\n",
    "            array[left],array[right] = array[right], array[left]\n",
    "        if array[left] <= array[pivot]:\n",
    "            left += 1\n",
    "        if array[right] >= array[pivot]:\n",
    "            right -= 1\n",
    "    array[pivot], array[right] = array[right], array[pivot]\n",
    "    leftSmall = right - 1 - start < end - (right + 1)\n",
    "    if leftSmall:\n",
    "        quickSortHelper(array, start, right - 1)\n",
    "        quickSortHelper(array, right + 1, end)\n",
    "    else:\n",
    "        quickSortHelper(array, right + 1, end)\n",
    "        quickSortHelper(array, start, right - 1)"
   ]
  },
  {
   "cell_type": "code",
   "execution_count": 18,
   "metadata": {},
   "outputs": [],
   "source": [
    "def mergeSort(array):\n",
    "    if len(array) <= 1:\n",
    "        return array\n",
    "    auxiliaryArray = array[:]\n",
    "    mergeSortHelper(array, 0, len(array)-1, auxiliaryArray)\n",
    "    return array\n",
    "\n",
    "def mergeSortHelper(ordered, startIdx, endIdx, unordered):\n",
    "    if startIdx == endIdx:\n",
    "        return\n",
    "    middleIdx = (startIdx + endIdx) // 2\n",
    "    mergeSortHelper(unordered, startIdx, middleIdx, ordered)\n",
    "    mergeSortHelper(unordered, middleIdx+1, endIdx, ordered)\n",
    "    doMerge(ordered, startIdx, middleIdx, endIdx, unordered)\n",
    "\n",
    "def doMerge(ordered, startIdx, middleIdx, endIdx, unordered):\n",
    "    k = startIdx\n",
    "    i = startIdx\n",
    "    j = middleIdx + 1\n",
    "    while i <= middleIdx and j <= endIdx:\n",
    "        if unordered[i] <= unordered[j]:\n",
    "            ordered[k] = unordered[i]\n",
    "            i += 1\n",
    "        else:\n",
    "             ordered[k] = unordered[j]\n",
    "             j += 1\n",
    "        k += 1\n",
    "    while i <= middleIdx:\n",
    "        ordered[k] = unordered[i]\n",
    "        i += 1\n",
    "        k += 1\n",
    "    while j <= endIdx:\n",
    "        ordered[k] = unordered[j]\n",
    "        j += 1\n",
    "        k += 1"
   ]
  },
  {
   "cell_type": "code",
   "execution_count": 19,
   "metadata": {},
   "outputs": [],
   "source": [
    "def heapSort(array):\n",
    "    buildHeap(array)\n",
    "    for end in reversed(range(1, len(array))):\n",
    "        array[0], array[end] = array[end], array[0]\n",
    "        siftDown(0, end-1, array)\n",
    "    return array\n",
    "    \n",
    "def buildHeap(array):\n",
    "    lastParent = (len(array)-2)//2\n",
    "    for i in reversed(range(lastParent+1)):\n",
    "        siftDown(i, len(array)-1, array)\n",
    "\n",
    "def siftDown(current, end, heap):\n",
    "    childOne = (current*2)+1\n",
    "    while childOne <= end:\n",
    "        childTwo = childOne + 1 if childOne + 1 <= end else -1\n",
    "        if childTwo != -1 and heap[childOne] < heap[childTwo]:\n",
    "            swap = childTwo\n",
    "        else:\n",
    "            swap = childOne\n",
    "        if heap[swap] > heap[current]:\n",
    "            heap[swap], heap[current] = heap[current], heap[swap]\n",
    "            current = swap\n",
    "            childOne = current*2+1\n",
    "        else:\n",
    "            return"
   ]
  },
  {
   "cell_type": "code",
   "execution_count": 45,
   "metadata": {},
   "outputs": [
    {
     "data": {
      "text/plain": [
       "5"
      ]
     },
     "execution_count": 45,
     "metadata": {},
     "output_type": "execute_result"
    }
   ],
   "source": [
    "# def a(input1, input2):\n",
    "#     count = 0\n",
    "#     while input1 > 1:\n",
    "#         if input1 % input2 == 0:\n",
    "#             input1 = input1 // input2\n",
    "#         else:\n",
    "#             input1 -= 1\n",
    "#         count += 1\n",
    "#     return count\n",
    "\n",
    "def b(n,k):\n",
    "    count = 0\n",
    "    while n != 1:\n",
    "        count += (n%k)\n",
    "        n //= k\n",
    "        count += 1\n",
    "    return count\n",
    "\n",
    "n, k = map(int, input().split())\n",
    "b(n,k)"
   ]
  },
  {
   "cell_type": "code",
   "execution_count": 28,
   "metadata": {},
   "outputs": [
    {
     "data": {
      "text/plain": [
       "0"
      ]
     },
     "execution_count": 28,
     "metadata": {},
     "output_type": "execute_result"
    }
   ],
   "source": [
    "# 똥멍청이\n",
    "def functionName(S):\n",
    "    answer = 0\n",
    "    for str1 in S:\n",
    "        str1 = int(str1)\n",
    "        if str1 != 0:\n",
    "            answer *= str1\n",
    "        else:\n",
    "            answer += str1\n",
    "    return answer\n",
    "functionName('02984')\n",
    "# 02984 576\n",
    "# 567 210"
   ]
  },
  {
   "cell_type": "code",
   "execution_count": 44,
   "metadata": {},
   "outputs": [
    {
     "data": {
      "text/plain": [
       "210"
      ]
     },
     "execution_count": 44,
     "metadata": {},
     "output_type": "execute_result"
    }
   ],
   "source": [
    "def functionName(s):\n",
    "    answer = int(s[0])\n",
    "    for i in range(1, len(s)):\n",
    "        newNum = int(s[i])\n",
    "        if answer <= 1 or newNum <= 1:\n",
    "            answer += newNum\n",
    "        else:\n",
    "            answer *= newNum\n",
    "    return answer\n",
    "functionName('567')"
   ]
  },
  {
   "cell_type": "code",
   "execution_count": 1,
   "metadata": {},
   "outputs": [
    {
     "data": {
      "text/plain": [
       "3"
      ]
     },
     "execution_count": 1,
     "metadata": {},
     "output_type": "execute_result"
    }
   ],
   "source": [
    "def funcA(n,arr):\n",
    "    newArr = sorted(arr,reverse=True)\n",
    "    idx =0\n",
    "    count = 0\n",
    "    while idx < len(newArr):\n",
    "        idx += arr[idx]\n",
    "        count += 1\n",
    "    return count\n",
    "\n",
    "n = map(int, input()) # 인원수\n",
    "arr = list(map(int, input().split())) # 공포도\n",
    "# print(arr)\n",
    "funcA(n,arr)"
   ]
  },
  {
   "cell_type": "code",
   "execution_count": 8,
   "metadata": {},
   "outputs": [
    {
     "data": {
      "text/plain": [
       "[0, 2, 2, 3, 4, 5, 6, 7, 8, 9]"
      ]
     },
     "execution_count": 8,
     "metadata": {},
     "output_type": "execute_result"
    }
   ],
   "source": [
    "def quickSort(array):\n",
    "    quickSortHelper(array, 0, len(array)-1)\n",
    "    return array\n",
    "\n",
    "def quickSortHelper(array, startIdx, endIdx):\n",
    "\tif startIdx >= endIdx:\n",
    "\t\treturn\n",
    "\tpivotIdx = startIdx\n",
    "\tleftIdx = startIdx + 1\n",
    "\trightIdx = endIdx\n",
    "\twhile leftIdx <= rightIdx:\n",
    "\t\tif array[leftIdx] > array[pivotIdx] and array[rightIdx] < array[pivotIdx]:\n",
    "\t\t\tarray[leftIdx], array[rightIdx] = array[rightIdx], array[leftIdx]\n",
    "\t\tif array[leftIdx] <= array[pivotIdx]:\n",
    "\t\t\tleftIdx += 1\n",
    "\t\tif array[rightIdx] >= array[pivotIdx]:\n",
    "\t\t\trightIdx -= 1\n",
    "\tarray[pivotIdx], array[rightIdx] = array[rightIdx], array[pivotIdx]\n",
    "\tleftSubarraySmaller = rightIdx-1-startIdx < endIdx-(rightIdx+1)\n",
    "\tif leftSubarraySmaller:\n",
    "\t\t# print(startIdx)\n",
    "\t\t# print(endIdx)\n",
    "\t\tquickSortHelper(array, startIdx, rightIdx-1)\n",
    "\t\tquickSortHelper(array, rightIdx+1, endIdx)\n",
    "\telse:\n",
    "\t\t# print(startIdx)\n",
    "\t\t# print(endIdx)\n",
    "\t\tquickSortHelper(array, rightIdx+1, len(array)-1)\n",
    "\t\tquickSortHelper(array, startIdx, rightIdx-1)\n",
    "\n",
    "quickSort([2,7,5,8,9,0,2,3,4,6])"
   ]
  },
  {
   "cell_type": "code",
   "execution_count": 1,
   "metadata": {},
   "outputs": [
    {
     "data": {
      "text/plain": [
       "[0, 2, 2, 3, 4, 5, 6, 7, 8, 9]"
      ]
     },
     "execution_count": 1,
     "metadata": {},
     "output_type": "execute_result"
    }
   ],
   "source": [
    "def quickSort(array):\n",
    "    helper(array, 0, len(array)-1)\n",
    "    return array\n",
    "\n",
    "def helper(array, start, end):\n",
    "    if start >= end:\n",
    "        return\n",
    "    pivot = start\n",
    "    left = start + 1\n",
    "    right = end\n",
    "    # import pdb; pdb.set_trace()\n",
    "    while left <= right:\n",
    "        if array[left] > array[pivot] and array[right] < array[pivot]:\n",
    "            array[left], array[right] = array[right], array[left]\n",
    "        if array[left] <= array[pivot]:\n",
    "            left += 1\n",
    "        if array[right] >= array[pivot]:\n",
    "            right -= 1\n",
    "    array[pivot], array[right] = array[right], array[pivot]\n",
    "    \n",
    "    leftSmall = right-1-start < end-(right+1)\n",
    "\n",
    "    if leftSmall:\n",
    "        helper(array, start, right-1)\n",
    "        helper(array, right+1, end)\n",
    "    else:\n",
    "        helper(array, right+1, end)\n",
    "        helper(array, start, right-1)\n",
    "\n",
    "quickSort([2,7,5,8,9,0,2,3,4,6])\n",
    "        "
   ]
  },
  {
   "cell_type": "code",
   "execution_count": 4,
   "metadata": {},
   "outputs": [
    {
     "ename": "KeyError",
     "evalue": "'[R'",
     "output_type": "error",
     "traceback": [
      "\u001b[1;31m---------------------------------------------------------------------------\u001b[0m",
      "\u001b[1;31mKeyError\u001b[0m                                  Traceback (most recent call last)",
      "\u001b[1;32m<ipython-input-4-b224a68bbbfd>\u001b[0m in \u001b[0;36m<module>\u001b[1;34m\u001b[0m\n\u001b[0;32m     12\u001b[0m \u001b[0mline\u001b[0m \u001b[1;33m=\u001b[0m \u001b[0mmap\u001b[0m\u001b[1;33m(\u001b[0m\u001b[0mint\u001b[0m\u001b[1;33m,\u001b[0m \u001b[0minput\u001b[0m\u001b[1;33m(\u001b[0m\u001b[1;33m)\u001b[0m\u001b[1;33m)\u001b[0m\u001b[1;33m\u001b[0m\u001b[1;33m\u001b[0m\u001b[0m\n\u001b[0;32m     13\u001b[0m \u001b[0msteps\u001b[0m \u001b[1;33m=\u001b[0m \u001b[0mlist\u001b[0m\u001b[1;33m(\u001b[0m\u001b[0mmap\u001b[0m\u001b[1;33m(\u001b[0m\u001b[0mstr\u001b[0m\u001b[1;33m,\u001b[0m \u001b[0minput\u001b[0m\u001b[1;33m(\u001b[0m\u001b[1;33m)\u001b[0m\u001b[1;33m.\u001b[0m\u001b[0msplit\u001b[0m\u001b[1;33m(\u001b[0m\u001b[1;34m','\u001b[0m\u001b[1;33m)\u001b[0m\u001b[1;33m)\u001b[0m\u001b[1;33m)\u001b[0m\u001b[1;33m\u001b[0m\u001b[1;33m\u001b[0m\u001b[0m\n\u001b[1;32m---> 14\u001b[1;33m \u001b[0mfunc\u001b[0m\u001b[1;33m(\u001b[0m\u001b[0mline\u001b[0m\u001b[1;33m,\u001b[0m \u001b[0msteps\u001b[0m\u001b[1;33m)\u001b[0m\u001b[1;33m\u001b[0m\u001b[1;33m\u001b[0m\u001b[0m\n\u001b[0m",
      "\u001b[1;32m<ipython-input-4-b224a68bbbfd>\u001b[0m in \u001b[0;36mfunc\u001b[1;34m(line, steps)\u001b[0m\n\u001b[0;32m      5\u001b[0m     \u001b[0mdirection\u001b[0m \u001b[1;33m=\u001b[0m \u001b[1;33m{\u001b[0m \u001b[1;34m'R'\u001b[0m\u001b[1;33m:\u001b[0m \u001b[1;33m[\u001b[0m\u001b[1;36m0\u001b[0m\u001b[1;33m,\u001b[0m \u001b[1;36m1\u001b[0m\u001b[1;33m]\u001b[0m\u001b[1;33m,\u001b[0m \u001b[1;34m'L'\u001b[0m\u001b[1;33m:\u001b[0m \u001b[1;33m[\u001b[0m\u001b[1;36m0\u001b[0m\u001b[1;33m,\u001b[0m \u001b[1;33m-\u001b[0m\u001b[1;36m1\u001b[0m\u001b[1;33m]\u001b[0m\u001b[1;33m,\u001b[0m \u001b[1;34m'U'\u001b[0m\u001b[1;33m:\u001b[0m \u001b[1;33m[\u001b[0m\u001b[1;33m-\u001b[0m\u001b[1;36m1\u001b[0m\u001b[1;33m,\u001b[0m \u001b[1;36m0\u001b[0m\u001b[1;33m]\u001b[0m\u001b[1;33m,\u001b[0m \u001b[1;34m'D'\u001b[0m\u001b[1;33m:\u001b[0m \u001b[1;33m[\u001b[0m\u001b[1;36m1\u001b[0m\u001b[1;33m,\u001b[0m \u001b[1;36m0\u001b[0m\u001b[1;33m]\u001b[0m \u001b[1;33m}\u001b[0m\u001b[1;33m\u001b[0m\u001b[1;33m\u001b[0m\u001b[0m\n\u001b[0;32m      6\u001b[0m     \u001b[1;32mfor\u001b[0m \u001b[0mstep\u001b[0m \u001b[1;32min\u001b[0m \u001b[0msteps\u001b[0m\u001b[1;33m:\u001b[0m\u001b[1;33m\u001b[0m\u001b[1;33m\u001b[0m\u001b[0m\n\u001b[1;32m----> 7\u001b[1;33m         \u001b[0mnx\u001b[0m\u001b[1;33m,\u001b[0m \u001b[0mny\u001b[0m \u001b[1;33m=\u001b[0m \u001b[0mx\u001b[0m\u001b[1;33m+\u001b[0m\u001b[0mdirection\u001b[0m\u001b[1;33m[\u001b[0m\u001b[0mstep\u001b[0m\u001b[1;33m]\u001b[0m\u001b[1;33m[\u001b[0m\u001b[1;36m0\u001b[0m\u001b[1;33m]\u001b[0m\u001b[1;33m,\u001b[0m \u001b[0my\u001b[0m\u001b[1;33m+\u001b[0m\u001b[0mdirection\u001b[0m\u001b[1;33m[\u001b[0m\u001b[0mstep\u001b[0m\u001b[1;33m]\u001b[0m\u001b[1;33m[\u001b[0m\u001b[1;36m1\u001b[0m\u001b[1;33m]\u001b[0m\u001b[1;33m\u001b[0m\u001b[1;33m\u001b[0m\u001b[0m\n\u001b[0m\u001b[0;32m      8\u001b[0m         \u001b[1;32mif\u001b[0m \u001b[0mnx\u001b[0m \u001b[1;33m>\u001b[0m \u001b[0mline\u001b[0m \u001b[1;32mor\u001b[0m \u001b[0mny\u001b[0m \u001b[1;33m>\u001b[0m \u001b[0mline\u001b[0m \u001b[1;32mor\u001b[0m \u001b[0mnx\u001b[0m \u001b[1;33m==\u001b[0m \u001b[1;36m0\u001b[0m \u001b[1;32mor\u001b[0m \u001b[0mny\u001b[0m \u001b[1;33m==\u001b[0m \u001b[1;36m0\u001b[0m\u001b[1;33m:\u001b[0m\u001b[1;33m\u001b[0m\u001b[1;33m\u001b[0m\u001b[0m\n\u001b[0;32m      9\u001b[0m             \u001b[1;32mcontinue\u001b[0m\u001b[1;33m\u001b[0m\u001b[1;33m\u001b[0m\u001b[0m\n",
      "\u001b[1;31mKeyError\u001b[0m: '[R'"
     ]
    }
   ],
   "source": [
    "# 여행가 A는 N x N 크기의 정사각형 공간 위에 서 있습니다. 이 공간은 1 X 1 크기의 정사각형으로 나누어져 있습니다. 가장 왼쪽 위 좌표는 (1, 1)이며, 가장 오른쪽 아래 좌표는 (N, N)에 해당합니다. 여행가 A는 상,하,좌,우 방향으로 이동할 수 있으며, 시작 좌표는 항상 (1, 1)입니다. 우리 앞에는 여행가 A가 이동할 계획이 적힌 계획서가 놓여있습니다.\n",
    "# 계획서에는 하나의 줄에 띄어쓰기를 기준으로 하여 L, R, U, D 중 하나의 문자가 반복적으로 적혀 있습니다. 각 문자의 의미는 다음과 같습니다 L: 왼쪽으로 한 칸 이동, R: 오른쪽으로 한 칸 이동, U: 위로 한 칸 이동, D: 아래로 한 칸 이동\n",
    "def func(line, steps):\n",
    "    x, y = [1, 1]\n",
    "    direction = { 'R': [0, 1], 'L': [0, -1], 'U': [-1, 0], 'D': [1, 0] }\n",
    "    for step in steps:\n",
    "        nx, ny = x+direction[step][0], y+direction[step][1]\n",
    "        if nx > line or ny > line or nx == 0 or ny == 0:\n",
    "            continue\n",
    "        x,y = nx, ny\n",
    "    return [x, y]\n",
    "line = map(int, input())\n",
    "steps = list(map(str, input().split(',')))\n",
    "func(line, steps)"
   ]
  },
  {
   "cell_type": "code",
   "execution_count": 13,
   "metadata": {},
   "outputs": [
    {
     "data": {
      "text/plain": [
       "[0, 2, 2, 3, 4, 5, 6, 7, 8, 9]"
      ]
     },
     "execution_count": 13,
     "metadata": {},
     "output_type": "execute_result"
    }
   ],
   "source": [
    "def quickSort(array):\n",
    "    helper(array, 0, len(array)-1)\n",
    "    return array\n",
    "\n",
    "def helper(array, start, end):\n",
    "    if start >= end:\n",
    "        return\n",
    "    pivot = start\n",
    "    left = start + 1\n",
    "    right = end\n",
    "    while left <= right:\n",
    "        if array[left] > array[pivot] and array[pivot] > array[right]:\n",
    "            array[left], array[right] = array[right], array[left]\n",
    "        if array[left] <= array[pivot]:\n",
    "            left += 1\n",
    "        if array[pivot] <= array[right]:\n",
    "            right -= 1\n",
    "    array[pivot], array[right] = array[right], array[pivot]\n",
    "\n",
    "    leftSmall = right-1-start < end-(right+1)\n",
    "    if leftSmall:\n",
    "        helper(array, start, right-1)\n",
    "        helper(array, right+1, end)\n",
    "    else:\n",
    "        helper(array, right+1, end)\n",
    "        helper(array, start, right-1)\n",
    "        \n",
    "#          p  r l\n",
    "quickSort([1, 2,5,7,4,6])\n",
    "# [2,7,5,8,9,0,2,3,4,6]"
   ]
  },
  {
   "cell_type": "code",
   "execution_count": 18,
   "metadata": {},
   "outputs": [
    {
     "data": {
      "text/plain": [
       "11475"
      ]
     },
     "execution_count": 18,
     "metadata": {},
     "output_type": "execute_result"
    }
   ],
   "source": [
    "def func(h):\n",
    "    count = 0\n",
    "    for i in range(h+1):\n",
    "        for j in range(60):\n",
    "            for k in range(60):\n",
    "                if '3' in str(i)+str(j)+str(k):\n",
    "                    # print(str(i)+str(j)+str(k))\n",
    "                    count += 1\n",
    "    return count\n",
    "func(5)"
   ]
  },
  {
   "cell_type": "code",
   "execution_count": 23,
   "metadata": {},
   "outputs": [
    {
     "data": {
      "text/plain": [
       "6"
      ]
     },
     "execution_count": 23,
     "metadata": {},
     "output_type": "execute_result"
    }
   ],
   "source": [
    "# 8x8 좌표 평면상에서 나이트의 위치가 주어졌을 때 나이트가 이동할 수 있는 경우의 수를 출력하는 프로그램을 작성하세요. 왕실의 정원에서 행위치를 표현할 때는 1부터 8로 표현하며 열 위치를 표현할 때는 a부터 h로 표현합니다. 수직 2 수평 1 or 수평 1 수직 2\n",
    "# c2에서 이동할 수 있는 경우의 수는 6가지입니다.\n",
    "def func(p):\n",
    "    col, row = p[0], int(p[1])\n",
    "    col = ord(col) - ord('a') + 1\n",
    "    # print(col,row)\n",
    "    count = 0\n",
    "    direction = [[-2,-1], [-2,1], [2,-1], [2,1], [-1,-2], [-1, 2], [1, -2], [1, 2]]\n",
    "    for i in direction:\n",
    "        newCol, newRow = col + i[0], row + i[1]\n",
    "        if newCol >= 1 and newCol <= 8 and newRow >= 1 and newRow <= 8:\n",
    "            count += 1\n",
    "    return count\n",
    "func('c2')"
   ]
  },
  {
   "cell_type": "code",
   "execution_count": 27,
   "metadata": {},
   "outputs": [
    {
     "data": {
      "text/plain": [
       "'ABCKK13'"
      ]
     },
     "execution_count": 27,
     "metadata": {},
     "output_type": "execute_result"
    }
   ],
   "source": [
    "# 알파벳 대문자와 숫자(0-9)로만 구성된 문자열이 입력으로 주어집니다. 이때 모든 알파벳을 오름차순으로 정렬하여 이어서 출력한 뒤에, 그 뒤에 모든 숫자를 더한 값을 이어서 출력합니다.\n",
    "# 예를 들어 K1KA5CB7이라는 값이 들어오면 ABCKK13을 출력합니다.\n",
    "def func(string):\n",
    "    result = []\n",
    "    result1 = 0\n",
    "    for i in string:\n",
    "        if ord(i) >= ord('A') and ord(i) <= ord('Z'): # if i.isalpha():\n",
    "            result.append(i)\n",
    "        else:\n",
    "            result1 += int(i)\n",
    "    result.sort()\n",
    "    newStr = \"\".join(result)\n",
    "    # if result1 == 0:\n",
    "    #     return newStr\n",
    "    # else:\n",
    "    #     return newStr + str(result1)\n",
    "\n",
    "    return newStr+str(result1) if result1 != 0 else newStr\n",
    "\n",
    "\n",
    "\n",
    "func('K1KA5CB7')"
   ]
  },
  {
   "cell_type": "code",
   "execution_count": null,
   "metadata": {},
   "outputs": [],
   "source": [
    "class Node:\n",
    "    def __init__(self,name):\n",
    "        self.children = []\n",
    "        self.name = name\n",
    "\n",
    "    def addchild(self, name):\n",
    "        self.children.append(Node(name))\n",
    "        return self\n",
    "\n",
    "    def depthFirstSearch(self, array):\n",
    "        array.append(self.name)\n",
    "        for child in self.children:\n",
    "            child.depthFirstSearch(array)\n",
    "        return array"
   ]
  },
  {
   "cell_type": "code",
   "execution_count": 1,
   "metadata": {},
   "outputs": [],
   "source": [
    "class Node:\n",
    "    def __init__(self,name):\n",
    "        self.children = []\n",
    "        self.name = name\n",
    "\n",
    "    def addchild(self, name):\n",
    "        self.children.append(Node(name))\n",
    "        return self\n",
    "\n",
    "    def depthFirstSearch(self, array):\n",
    "        visited = set()\n",
    "        self.helper(visited, array) # [A], [A]\n",
    "        return array\n",
    "\n",
    "    def helper(self, visited, array):\n",
    "        if self not in visited:\n",
    "            visited.add(self)\n",
    "            array.append(self.name)\n",
    "            for child in self.children:\n",
    "                child.helper(visited,array)\n",
    "\n"
   ]
  },
  {
   "cell_type": "code",
   "execution_count": null,
   "metadata": {},
   "outputs": [],
   "source": [
    "# 입력조건: 첫째 줄에 두 정수 N,M(4<=N, M<=200)이 주어집니다. 다음 N개의 줄에는 각각 M개의 정수 (0 혹은 1)로 미로의 정보가 주어집니다. 각각의 수들은 공백 없이 붙어서 입력으로 제시됩니다. 또한 시작 칸과 마지막 칸은 항상 1입니다.\n",
    "# 출력조건: 첫째 줄에 최소 이동 칸의 개수를 출력합니다.\n",
    "# 동빈이는 N x M 크기의 직사각형 형태의 미로에 갇혔습니다. 미로에는 여러 마리의 괴물이 있어 이를 피해 탈출해야 합니다\n",
    "# 동빈이의 위치는 (1,1)이며 미로의 출구는 (N,M)의 위치에 존재하며 한 번에 한 칸씩 이동할 수 있습니다. 이때 괴물이 있는 부분은 0으로, 괴물이 없는 부분은 1로 표시되어 있습니다. 미로는 반드시 탈출할 수 있는 형태로 제시됩니다.\n",
    "# 이때 동빈이가 탈출하기 위해 움직여야 하는 최소 칸의 개수를 구하세요. 칸을 셀 때는 시작 칸과 마지막 칸을 모두 포함해서 계산합니다.\n",
    "\n",
    "# psuedo:\n",
    "# Path finder algorithm \n",
    "def escapeLabyrinth(matrix):\n",
    "    return findMinPath(0, 0, 0, matrix)\n",
    "\n",
    "def findMinPath(row, col, path, matrix):\n",
    "    if row < 0 or row >= len(matrix) or col < 0 or col >= len(matrix[0]):\n",
    "        return False\n",
    "    if matrix[row][col] == 0:\n",
    "        return False\n",
    "    matrix[row][col] = 0\n",
    "    path += 1\n",
    "    if row == len(matrix)-1 and col == len(matrix[0])-1:\n",
    "        return path\n",
    "    \n",
    "    path1 = findMinPath(row+1, col, path, matrix)\n",
    "    path2 = findMinPath(row-1, col, path, matrix)\n",
    "    path3 = findMinPath(row, col+1, path, matrix)\n",
    "    path4 = findMinPath(row, col-1, path, matrix)\n",
    "    \n",
    "    path1 = path1 if path1 is not None else 200\n",
    "    path2 = path2 if path2 is not None else 200\n",
    "    path3 = path3 if path3 is not None else 200\n",
    "    path4 = path4 if path4 is not None else 200\n",
    "    return min(path1, path2, path3, path4)\n",
    "\n",
    "matrix = [\n",
    "    [1,0,1,0,1,0],\n",
    "    [1,1,1,1,1,1],\n",
    "    [0,0,0,0,0,1],\n",
    "    [1,1,1,1,1,1],\n",
    "    [1,1,1,1,1,1]\n",
    "]\n",
    "escapeLabyrinth(matrix)\n",
    "# 입력 예시\n",
    "# 5 6\n",
    "# 101010\n",
    "# 111111\n",
    "# 000001\n",
    "# 111111\n",
    "# 111111\n",
    "# 출력예시\n",
    "# 10"
   ]
  },
  {
   "cell_type": "code",
   "execution_count": 3,
   "metadata": {},
   "outputs": [
    {
     "ename": "TypeError",
     "evalue": "cannot unpack non-iterable int object",
     "output_type": "error",
     "traceback": [
      "\u001b[1;31m---------------------------------------------------------------------------\u001b[0m",
      "\u001b[1;31mTypeError\u001b[0m                                 Traceback (most recent call last)",
      "\u001b[1;32m~\\AppData\\Local\\Temp/ipykernel_10004/1787617076.py\u001b[0m in \u001b[0;36m<module>\u001b[1;34m\u001b[0m\n\u001b[0;32m     44\u001b[0m     \u001b[1;33m[\u001b[0m\u001b[1;36m1\u001b[0m\u001b[1;33m,\u001b[0m\u001b[1;36m1\u001b[0m\u001b[1;33m,\u001b[0m\u001b[1;36m1\u001b[0m\u001b[1;33m,\u001b[0m\u001b[1;36m1\u001b[0m\u001b[1;33m,\u001b[0m\u001b[1;36m1\u001b[0m\u001b[1;33m,\u001b[0m\u001b[1;36m1\u001b[0m\u001b[1;33m]\u001b[0m\u001b[1;33m\u001b[0m\u001b[1;33m\u001b[0m\u001b[0m\n\u001b[0;32m     45\u001b[0m ]\n\u001b[1;32m---> 46\u001b[1;33m \u001b[0mescapeLabyrinth\u001b[0m\u001b[1;33m(\u001b[0m\u001b[0mmatrix\u001b[0m\u001b[1;33m)\u001b[0m\u001b[1;33m\u001b[0m\u001b[1;33m\u001b[0m\u001b[0m\n\u001b[0m",
      "\u001b[1;32m~\\AppData\\Local\\Temp/ipykernel_10004/1787617076.py\u001b[0m in \u001b[0;36mescapeLabyrinth\u001b[1;34m(matrix)\u001b[0m\n\u001b[0;32m     19\u001b[0m     \u001b[1;31m# import pdb; pdb.set_trace()\u001b[0m\u001b[1;33m\u001b[0m\u001b[1;33m\u001b[0m\u001b[0m\n\u001b[0;32m     20\u001b[0m     \u001b[1;32mwhile\u001b[0m \u001b[0mqueue\u001b[0m\u001b[1;33m:\u001b[0m\u001b[1;33m\u001b[0m\u001b[1;33m\u001b[0m\u001b[0m\n\u001b[1;32m---> 21\u001b[1;33m         \u001b[0mx\u001b[0m\u001b[1;33m,\u001b[0m \u001b[0my\u001b[0m \u001b[1;33m=\u001b[0m \u001b[0mqueue\u001b[0m\u001b[1;33m.\u001b[0m\u001b[0mpopleft\u001b[0m\u001b[1;33m(\u001b[0m\u001b[1;33m)\u001b[0m\u001b[1;33m\u001b[0m\u001b[1;33m\u001b[0m\u001b[0m\n\u001b[0m\u001b[0;32m     22\u001b[0m         \u001b[1;31m# 현재 위치에서 4가지 방향으로의 위치 확인\u001b[0m\u001b[1;33m\u001b[0m\u001b[1;33m\u001b[0m\u001b[0m\n\u001b[0;32m     23\u001b[0m         \u001b[1;32mfor\u001b[0m \u001b[0mi\u001b[0m \u001b[1;32min\u001b[0m \u001b[0mrange\u001b[0m\u001b[1;33m(\u001b[0m\u001b[1;36m4\u001b[0m\u001b[1;33m)\u001b[0m\u001b[1;33m:\u001b[0m\u001b[1;33m\u001b[0m\u001b[1;33m\u001b[0m\u001b[0m\n",
      "\u001b[1;31mTypeError\u001b[0m: cannot unpack non-iterable int object"
     ]
    }
   ],
   "source": [
    "from collections import deque\n",
    "\n",
    "# N, M을 공백을 기준으로 구분하여 입력받기\n",
    "# n, m = map(int, input().split())\n",
    "# 2차원 리스트의 맵 정보 입력받기\n",
    "graph = []\n",
    "for i in range(n):\n",
    "    graph.append(list(map(int, input())))\n",
    "\n",
    "# 이동할 네 가지 방향 정의 (상, 하, 좌, 우)\n",
    "dx = [-1, 1, 0, 0]\n",
    "dy = [0, 0, -1, 1]\n",
    "\n",
    "# BPS 소스코드 구현\n",
    "def escapeLabyrinth(matrix):\n",
    "    # 큐(QUEUE) 구현을 위해 deque 라이브러리 사용\n",
    "    queue = deque(([0,0]))\n",
    "    # 큐가 빌 때까지 반복하기\n",
    "    # import pdb; pdb.set_trace()\n",
    "    while queue:\n",
    "        x, y = queue.popleft()\n",
    "        # 현재 위치에서 4가지 방향으로의 위치 확인\n",
    "        for i in range(4):\n",
    "            nx = x + dx[i]\n",
    "            ny = y + dy[i]\n",
    "            # 미로 찾기 공간을 벗어난 경우 무시\n",
    "            if nx < 0 or nx >= len(matrix) or ny < 0 or ny >= len(matrix[0]):\n",
    "                continue\n",
    "            # 몬스터를 만난 경우 무시\n",
    "            if matrix[nx][ny] == 0:\n",
    "                continue\n",
    "            # 해당 노드를 처음 방문하는 경우에만 최단 거리 기록\n",
    "            if matrix[nx][ny] == 1:\n",
    "                matrix[nx][ny] = matrix[x][y] + 1\n",
    "                queue.append((nx, ny))\n",
    "    # 가장 오른쪽 아래까지의 최단 거리 반환\n",
    "    return matrix[len(matrix)-1][len(matrix[0])-1]\n",
    "\n",
    "matrix = [\n",
    "    [1,0,1,0,1,0],\n",
    "    [1,1,1,1,1,1],\n",
    "    [0,0,0,0,0,1],\n",
    "    [1,1,1,1,1,1],\n",
    "    [1,1,1,1,1,1]\n",
    "]\n",
    "escapeLabyrinth(matrix)"
   ]
  }
 ],
 "metadata": {
  "interpreter": {
   "hash": "79d097fcb0b4da7ad062a45222a4abfd0b79e332cfbbdbab8e0c98467b5c3e28"
  },
  "kernelspec": {
   "display_name": "Python 3.10.0 64-bit",
   "name": "python3"
  },
  "language_info": {
   "codemirror_mode": {
    "name": "ipython",
    "version": 3
   },
   "file_extension": ".py",
   "mimetype": "text/x-python",
   "name": "python",
   "nbconvert_exporter": "python",
   "pygments_lexer": "ipython3",
   "version": "3.10.0"
  },
  "orig_nbformat": 4
 },
 "nbformat": 4,
 "nbformat_minor": 2
}
